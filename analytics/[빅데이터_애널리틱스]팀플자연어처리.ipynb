{
  "nbformat": 4,
  "nbformat_minor": 0,
  "metadata": {
    "colab": {
      "provenance": []
    },
    "kernelspec": {
      "name": "ir",
      "display_name": "R"
    },
    "language_info": {
      "name": "R"
    }
  },
  "cells": [
    {
      "cell_type": "markdown",
      "source": [
        "텍스트 마이닝\n",
        "\n",
        "Step. U"
      ],
      "metadata": {
        "id": "1aF60DpcxMwj"
      }
    },
    {
      "cell_type": "code",
      "source": [
        "install.packages(\"tm\")"
      ],
      "metadata": {
        "colab": {
          "base_uri": "https://localhost:8080/"
        },
        "id": "z31daVB7wzj6",
        "outputId": "8419be71-c274-4ee7-d158-0b96c48cc8da"
      },
      "execution_count": null,
      "outputs": [
        {
          "output_type": "stream",
          "name": "stderr",
          "text": [
            "Installing package into ‘/usr/local/lib/R/site-library’\n",
            "(as ‘lib’ is unspecified)\n",
            "\n",
            "also installing the dependencies ‘NLP’, ‘Rcpp’, ‘slam’, ‘BH’\n",
            "\n",
            "\n"
          ]
        }
      ]
    },
    {
      "cell_type": "code",
      "source": [
        "library(tm)"
      ],
      "metadata": {
        "id": "BvnIwsCyx4iQ",
        "colab": {
          "base_uri": "https://localhost:8080/"
        },
        "outputId": "2aaccfcc-ca6d-433c-cf32-ed2799fb9751"
      },
      "execution_count": null,
      "outputs": [
        {
          "output_type": "stream",
          "name": "stderr",
          "text": [
            "Loading required package: NLP\n",
            "\n"
          ]
        }
      ]
    },
    {
      "cell_type": "markdown",
      "source": [
        "# 데이터 불러오기"
      ],
      "metadata": {
        "id": "8afBy60kySSj"
      }
    },
    {
      "cell_type": "code",
      "source": [
        "install.packages(\"readxl\")\n",
        "library(readxl)"
      ],
      "metadata": {
        "colab": {
          "base_uri": "https://localhost:8080/"
        },
        "id": "Te5R622_yN4k",
        "outputId": "dccbac55-a5ef-4fb2-fc74-b4e064d388db"
      },
      "execution_count": null,
      "outputs": [
        {
          "output_type": "stream",
          "name": "stderr",
          "text": [
            "Installing package into ‘/usr/local/lib/R/site-library’\n",
            "(as ‘lib’ is unspecified)\n",
            "\n"
          ]
        }
      ]
    },
    {
      "cell_type": "code",
      "source": [
        "uspd <- read_excel(\"/content/20221127213429387_del.xls\")"
      ],
      "metadata": {
        "id": "6_yGszc9ypRr",
        "colab": {
          "base_uri": "https://localhost:8080/"
        },
        "outputId": "e5311174-3ef2-4784-d6c1-ae127c71334a"
      },
      "execution_count": null,
      "outputs": [
        {
          "output_type": "stream",
          "name": "stderr",
          "text": [
            "\u001b[1m\u001b[22mNew names:\n",
            "\u001b[36m•\u001b[39m `` -> `...2`\n",
            "\u001b[36m•\u001b[39m `` -> `...3`\n",
            "\u001b[36m•\u001b[39m `` -> `...4`\n",
            "\u001b[36m•\u001b[39m `` -> `...5`\n"
          ]
        }
      ]
    },
    {
      "cell_type": "code",
      "source": [
        "uspd.m = as.matrix(uspd)"
      ],
      "metadata": {
        "id": "VU8E7YJhzbzW"
      },
      "execution_count": null,
      "outputs": []
    },
    {
      "cell_type": "markdown",
      "source": [
        "Corpus(): 단어 처리의 단위\n",
        "VectorSource(): 벡터형으로 변환"
      ],
      "metadata": {
        "id": "P0j2kUsv0qyV"
      }
    },
    {
      "cell_type": "code",
      "source": [
        "uspd.cor = Corpus(VectorSource(uspd.m))"
      ],
      "metadata": {
        "id": "gR1NsTfFzfrG"
      },
      "execution_count": null,
      "outputs": []
    },
    {
      "cell_type": "markdown",
      "source": [
        "tm_map(): Corpus로 처리된 데이터를 받아서 필터링"
      ],
      "metadata": {
        "id": "L-Q3GCb61Vp1"
      }
    },
    {
      "cell_type": "code",
      "source": [
        "# 문장부호 제거 -> 각 데이터마다 부호가 중요할 수도 있으므로 데이터마다 다르게 판단\n",
        "uspd <- tm_map(uspd.cor,removePunctuation) "
      ],
      "metadata": {
        "colab": {
          "base_uri": "https://localhost:8080/"
        },
        "id": "b596ui_r0_94",
        "outputId": "e680318d-4684-4f22-9424-e59c4d9a2873"
      },
      "execution_count": null,
      "outputs": [
        {
          "output_type": "stream",
          "name": "stderr",
          "text": [
            "Warning message in tm_map.SimpleCorpus(uspd.cor, removePunctuation):\n",
            "“transformation drops documents”\n"
          ]
        }
      ]
    },
    {
      "cell_type": "code",
      "source": [
        "# 수치 제거\n",
        "uspd <- tm_map(uspd, removeNumbers) "
      ],
      "metadata": {
        "id": "-nnfnB7F1l5A",
        "colab": {
          "base_uri": "https://localhost:8080/"
        },
        "outputId": "17399d3b-b4f0-4400-8357-1e3d5241b656"
      },
      "execution_count": null,
      "outputs": [
        {
          "output_type": "stream",
          "name": "stderr",
          "text": [
            "Warning message in tm_map.SimpleCorpus(uspd, removeNumbers):\n",
            "“transformation drops documents”\n"
          ]
        }
      ]
    },
    {
      "cell_type": "code",
      "source": [
        "# 영문 소문자로 변경\n",
        "uspd <- tm_map(uspd, tolower)"
      ],
      "metadata": {
        "colab": {
          "base_uri": "https://localhost:8080/"
        },
        "id": "_uJzDL7b4eRJ",
        "outputId": "47748e99-4bd1-4ec6-eb78-93c38ec3a7e0"
      },
      "execution_count": null,
      "outputs": [
        {
          "output_type": "stream",
          "name": "stderr",
          "text": [
            "Warning message in tm_map.SimpleCorpus(uspd, tolower):\n",
            "“transformation drops documents”\n"
          ]
        }
      ]
    },
    {
      "cell_type": "code",
      "source": [
        "# 불용어 제거(국가명으로 변경 가능)\n",
        "uspd <- tm_map(uspd, removeWords, stopwords('english'))"
      ],
      "metadata": {
        "colab": {
          "base_uri": "https://localhost:8080/"
        },
        "id": "WPuaGQbg4zs5",
        "outputId": "8a3cd694-e24d-4da2-9f17-871db929c819"
      },
      "execution_count": null,
      "outputs": [
        {
          "output_type": "stream",
          "name": "stderr",
          "text": [
            "Warning message in tm_map.SimpleCorpus(uspd, removeWords, stopwords(\"english\")):\n",
            "“transformation drops documents”\n"
          ]
        }
      ]
    },
    {
      "cell_type": "code",
      "source": [
        "# 공백 제거\n",
        "uspd <- tm_map(uspd, stripWhitespace)"
      ],
      "metadata": {
        "colab": {
          "base_uri": "https://localhost:8080/"
        },
        "id": "IQtFy47A4zvR",
        "outputId": "e4daea70-e723-4e5d-f1a9-4b692908cfff"
      },
      "execution_count": null,
      "outputs": [
        {
          "output_type": "stream",
          "name": "stderr",
          "text": [
            "Warning message in tm_map.SimpleCorpus(uspd, stripWhitespace):\n",
            "“transformation drops documents”\n"
          ]
        }
      ]
    },
    {
      "cell_type": "code",
      "source": [
        "install.packages(\"SnowballC\")\n",
        "library(\"SnowballC\")\n",
        "# 어근만 남기기, 영어는 어근 지우는게 이상해지므로 한글에서만 사용\n",
        "# uspd <- tm_map(uspd, stemBocument)"
      ],
      "metadata": {
        "colab": {
          "base_uri": "https://localhost:8080/"
        },
        "id": "bkpIe3Uu4zxn",
        "outputId": "eb0acb9d-08dd-41a9-cee1-e887aeff79bd"
      },
      "execution_count": null,
      "outputs": [
        {
          "output_type": "stream",
          "name": "stderr",
          "text": [
            "Installing package into ‘/usr/local/lib/R/site-library’\n",
            "(as ‘lib’ is unspecified)\n",
            "\n"
          ]
        }
      ]
    },
    {
      "cell_type": "markdown",
      "source": [
        "# 전처리 결과 확인"
      ],
      "metadata": {
        "id": "_NM5XKXx6kXK"
      }
    },
    {
      "cell_type": "code",
      "source": [
        "# 1번째 전처리한 후 결과 확인\n",
        "inspect(uspd[1])"
      ],
      "metadata": {
        "colab": {
          "base_uri": "https://localhost:8080/"
        },
        "id": "I7AYeUwk4zzz",
        "outputId": "4b9a05f9-8362-452b-a86b-090ea4c2ff9e"
      },
      "execution_count": null,
      "outputs": [
        {
          "output_type": "stream",
          "name": "stdout",
          "text": [
            "<<SimpleCorpus>>\n",
            "Metadata:  corpus specific: 1, document level (indexed): 0\n",
            "Content:  documents: 1\n",
            "\n",
            "[1] <NA>\n"
          ]
        }
      ]
    },
    {
      "cell_type": "code",
      "source": [
        "# 메타 정보\n",
        "uspd[[1]]$meta"
      ],
      "metadata": {
        "colab": {
          "base_uri": "https://localhost:8080/",
          "height": 145
        },
        "id": "7BVYwOBA4z2I",
        "outputId": "6d9a8bac-eede-4260-bece-35a1eb40014e"
      },
      "execution_count": null,
      "outputs": [
        {
          "output_type": "display_data",
          "data": {
            "text/plain": [
              "  author       : character(0)\n",
              "  datetimestamp: 2022-11-29 05:07:02\n",
              "  description  : character(0)\n",
              "  heading      : character(0)\n",
              "  id           : 1\n",
              "  language     : en\n",
              "  origin       : character(0)"
            ]
          },
          "metadata": {}
        }
      ]
    },
    {
      "cell_type": "code",
      "source": [
        "# 요약\n",
        "ptdm = DocumentTermMatrix(uspd)\n",
        "inspect(ptdm)"
      ],
      "metadata": {
        "colab": {
          "base_uri": "https://localhost:8080/"
        },
        "id": "0pCILlYF4z4N",
        "outputId": "e8350796-bd5c-4a2d-c1f5-8e1b55e648cb"
      },
      "execution_count": null,
      "outputs": [
        {
          "output_type": "stream",
          "name": "stdout",
          "text": [
            "<<DocumentTermMatrix (documents: 13265, terms: 25200)>>\n",
            "Non-/sparse entries: 337156/333940844\n",
            "Sparsity           : 100%\n",
            "Maximal term length: 652\n",
            "Weighting          : term frequency (tf)\n",
            "Sample             :\n",
            "       Terms\n",
            "Docs    autonomous claim data first least method one system vehicle wherein\n",
            "  10648         14    13    0    94    95     16  98      0      18      82\n",
            "  10955          6    22   35    30   114     18 128      0       0      39\n",
            "  11181          0    16    0   152    39     16  74      0      21      24\n",
            "  11483         13    17    0    40    68     14 105      0      16      42\n",
            "  11891         50    26    0    23    75     18  98      4      43      53\n",
            "  11898         10    34   14    67   116     25 138      0      30      30\n",
            "  11999         66    14    0     7     0     12   0      0       0      41\n",
            "  12061          0   129  146    24    48      0   8     73       2     129\n",
            "  12196         65    79    2    19   149     23 182     95     146     102\n",
            "  12453         10    10    0     0     0     13   7      0      54      14\n"
          ]
        }
      ]
    },
    {
      "cell_type": "code",
      "source": [
        "# View(as.matrix(ptdm)) # 전체 매트릭스 확인\n",
        "# 매트릭스를 데이터프레임으로 변환\n",
        "PTDM = as.data.frame(as.matrix(ptdm))\n",
        "PTDM"
      ],
      "metadata": {
        "colab": {
          "base_uri": "https://localhost:8080/",
          "height": 1000
        },
        "id": "JFA74az-8TZq",
        "outputId": "ea9eda46-26c3-4b64-e8c8-69acbd26d530"
      },
      "execution_count": null,
      "outputs": [
        {
          "output_type": "display_data",
          "data": {
            "text/html": [
              "<table class=\"dataframe\">\n",
              "<caption>A data.frame: 13265 × 25200</caption>\n",
              "<thead>\n",
              "\t<tr><th></th><th scope=col>learningartificial</th><th scope=col>networkautomaticunmannedautonomousdrivingvehicletransportcctvcoalgenotypeclothesgameexerciseagvad</th><th scope=col>networkcnnconvolutional</th><th scope=col>networkdnndeep</th><th scope=col>networkneural</th><th scope=col>networkrnnrecurrent</th><th scope=col>neural</th><th scope=col>tlanndeep</th><th scope=col>검색식</th><th scope=col>발행일시</th><th scope=col>⋯</th><th scope=col>verschaltung</th><th scope=col>versorgungsanlage</th><th scope=col>wasser</th><th scope=col>wasserstoff</th><th scope=col>windkraftanlage</th><th scope=col>zeitigen</th><th scope=col>zeugungsvorrichtung</th><th scope=col>öffentli</th><th scope=col>öffentlichen</th><th scope=col>überdacht</th></tr>\n",
              "\t<tr><th></th><th scope=col>&lt;dbl&gt;</th><th scope=col>&lt;dbl&gt;</th><th scope=col>&lt;dbl&gt;</th><th scope=col>&lt;dbl&gt;</th><th scope=col>&lt;dbl&gt;</th><th scope=col>&lt;dbl&gt;</th><th scope=col>&lt;dbl&gt;</th><th scope=col>&lt;dbl&gt;</th><th scope=col>&lt;dbl&gt;</th><th scope=col>&lt;dbl&gt;</th><th scope=col>⋯</th><th scope=col>&lt;dbl&gt;</th><th scope=col>&lt;dbl&gt;</th><th scope=col>&lt;dbl&gt;</th><th scope=col>&lt;dbl&gt;</th><th scope=col>&lt;dbl&gt;</th><th scope=col>&lt;dbl&gt;</th><th scope=col>&lt;dbl&gt;</th><th scope=col>&lt;dbl&gt;</th><th scope=col>&lt;dbl&gt;</th><th scope=col>&lt;dbl&gt;</th></tr>\n",
              "</thead>\n",
              "<tbody>\n",
              "\t<tr><th scope=row>1</th><td>0</td><td>0</td><td>0</td><td>0</td><td>0</td><td>0</td><td>0</td><td>0</td><td>0</td><td>0</td><td>⋯</td><td>0</td><td>0</td><td>0</td><td>0</td><td>0</td><td>0</td><td>0</td><td>0</td><td>0</td><td>0</td></tr>\n",
              "\t<tr><th scope=row>2</th><td>1</td><td>1</td><td>1</td><td>1</td><td>1</td><td>1</td><td>4</td><td>1</td><td>1</td><td>0</td><td>⋯</td><td>0</td><td>0</td><td>0</td><td>0</td><td>0</td><td>0</td><td>0</td><td>0</td><td>0</td><td>0</td></tr>\n",
              "\t<tr><th scope=row>3</th><td>0</td><td>0</td><td>0</td><td>0</td><td>0</td><td>0</td><td>0</td><td>0</td><td>0</td><td>1</td><td>⋯</td><td>0</td><td>0</td><td>0</td><td>0</td><td>0</td><td>0</td><td>0</td><td>0</td><td>0</td><td>0</td></tr>\n",
              "\t<tr><th scope=row>4</th><td>0</td><td>0</td><td>0</td><td>0</td><td>0</td><td>0</td><td>0</td><td>0</td><td>0</td><td>0</td><td>⋯</td><td>0</td><td>0</td><td>0</td><td>0</td><td>0</td><td>0</td><td>0</td><td>0</td><td>0</td><td>0</td></tr>\n",
              "\t<tr><th scope=row>5</th><td>0</td><td>0</td><td>0</td><td>0</td><td>0</td><td>0</td><td>0</td><td>0</td><td>0</td><td>0</td><td>⋯</td><td>0</td><td>0</td><td>0</td><td>0</td><td>0</td><td>0</td><td>0</td><td>0</td><td>0</td><td>0</td></tr>\n",
              "\t<tr><th scope=row>6</th><td>0</td><td>0</td><td>0</td><td>0</td><td>0</td><td>0</td><td>0</td><td>0</td><td>0</td><td>0</td><td>⋯</td><td>0</td><td>0</td><td>0</td><td>0</td><td>0</td><td>0</td><td>0</td><td>0</td><td>0</td><td>0</td></tr>\n",
              "\t<tr><th scope=row>7</th><td>0</td><td>0</td><td>0</td><td>0</td><td>0</td><td>0</td><td>0</td><td>0</td><td>0</td><td>0</td><td>⋯</td><td>0</td><td>0</td><td>0</td><td>0</td><td>0</td><td>0</td><td>0</td><td>0</td><td>0</td><td>0</td></tr>\n",
              "\t<tr><th scope=row>8</th><td>0</td><td>0</td><td>0</td><td>0</td><td>0</td><td>0</td><td>0</td><td>0</td><td>0</td><td>0</td><td>⋯</td><td>0</td><td>0</td><td>0</td><td>0</td><td>0</td><td>0</td><td>0</td><td>0</td><td>0</td><td>0</td></tr>\n",
              "\t<tr><th scope=row>9</th><td>0</td><td>0</td><td>0</td><td>0</td><td>0</td><td>0</td><td>0</td><td>0</td><td>0</td><td>0</td><td>⋯</td><td>0</td><td>0</td><td>0</td><td>0</td><td>0</td><td>0</td><td>0</td><td>0</td><td>0</td><td>0</td></tr>\n",
              "\t<tr><th scope=row>10</th><td>0</td><td>0</td><td>0</td><td>0</td><td>0</td><td>0</td><td>0</td><td>0</td><td>0</td><td>0</td><td>⋯</td><td>0</td><td>0</td><td>0</td><td>0</td><td>0</td><td>0</td><td>0</td><td>0</td><td>0</td><td>0</td></tr>\n",
              "\t<tr><th scope=row>11</th><td>0</td><td>0</td><td>0</td><td>0</td><td>0</td><td>0</td><td>0</td><td>0</td><td>0</td><td>0</td><td>⋯</td><td>0</td><td>0</td><td>0</td><td>0</td><td>0</td><td>0</td><td>0</td><td>0</td><td>0</td><td>0</td></tr>\n",
              "\t<tr><th scope=row>12</th><td>0</td><td>0</td><td>0</td><td>0</td><td>0</td><td>0</td><td>0</td><td>0</td><td>0</td><td>0</td><td>⋯</td><td>0</td><td>0</td><td>0</td><td>0</td><td>0</td><td>0</td><td>0</td><td>0</td><td>0</td><td>0</td></tr>\n",
              "\t<tr><th scope=row>13</th><td>0</td><td>0</td><td>0</td><td>0</td><td>0</td><td>0</td><td>0</td><td>0</td><td>0</td><td>0</td><td>⋯</td><td>0</td><td>0</td><td>0</td><td>0</td><td>0</td><td>0</td><td>0</td><td>0</td><td>0</td><td>0</td></tr>\n",
              "\t<tr><th scope=row>14</th><td>0</td><td>0</td><td>0</td><td>0</td><td>0</td><td>0</td><td>0</td><td>0</td><td>0</td><td>0</td><td>⋯</td><td>0</td><td>0</td><td>0</td><td>0</td><td>0</td><td>0</td><td>0</td><td>0</td><td>0</td><td>0</td></tr>\n",
              "\t<tr><th scope=row>15</th><td>0</td><td>0</td><td>0</td><td>0</td><td>0</td><td>0</td><td>0</td><td>0</td><td>0</td><td>0</td><td>⋯</td><td>0</td><td>0</td><td>0</td><td>0</td><td>0</td><td>0</td><td>0</td><td>0</td><td>0</td><td>0</td></tr>\n",
              "\t<tr><th scope=row>16</th><td>0</td><td>0</td><td>0</td><td>0</td><td>0</td><td>0</td><td>0</td><td>0</td><td>0</td><td>0</td><td>⋯</td><td>0</td><td>0</td><td>0</td><td>0</td><td>0</td><td>0</td><td>0</td><td>0</td><td>0</td><td>0</td></tr>\n",
              "\t<tr><th scope=row>17</th><td>0</td><td>0</td><td>0</td><td>0</td><td>0</td><td>0</td><td>0</td><td>0</td><td>0</td><td>0</td><td>⋯</td><td>0</td><td>0</td><td>0</td><td>0</td><td>0</td><td>0</td><td>0</td><td>0</td><td>0</td><td>0</td></tr>\n",
              "\t<tr><th scope=row>18</th><td>0</td><td>0</td><td>0</td><td>0</td><td>0</td><td>0</td><td>0</td><td>0</td><td>0</td><td>0</td><td>⋯</td><td>0</td><td>0</td><td>0</td><td>0</td><td>0</td><td>0</td><td>0</td><td>0</td><td>0</td><td>0</td></tr>\n",
              "\t<tr><th scope=row>19</th><td>0</td><td>0</td><td>0</td><td>0</td><td>0</td><td>0</td><td>0</td><td>0</td><td>0</td><td>0</td><td>⋯</td><td>0</td><td>0</td><td>0</td><td>0</td><td>0</td><td>0</td><td>0</td><td>0</td><td>0</td><td>0</td></tr>\n",
              "\t<tr><th scope=row>20</th><td>0</td><td>0</td><td>0</td><td>0</td><td>0</td><td>0</td><td>0</td><td>0</td><td>0</td><td>0</td><td>⋯</td><td>0</td><td>0</td><td>0</td><td>0</td><td>0</td><td>0</td><td>0</td><td>0</td><td>0</td><td>0</td></tr>\n",
              "\t<tr><th scope=row>21</th><td>0</td><td>0</td><td>0</td><td>0</td><td>0</td><td>0</td><td>0</td><td>0</td><td>0</td><td>0</td><td>⋯</td><td>0</td><td>0</td><td>0</td><td>0</td><td>0</td><td>0</td><td>0</td><td>0</td><td>0</td><td>0</td></tr>\n",
              "\t<tr><th scope=row>22</th><td>0</td><td>0</td><td>0</td><td>0</td><td>0</td><td>0</td><td>0</td><td>0</td><td>0</td><td>0</td><td>⋯</td><td>0</td><td>0</td><td>0</td><td>0</td><td>0</td><td>0</td><td>0</td><td>0</td><td>0</td><td>0</td></tr>\n",
              "\t<tr><th scope=row>23</th><td>0</td><td>0</td><td>0</td><td>0</td><td>0</td><td>0</td><td>0</td><td>0</td><td>0</td><td>0</td><td>⋯</td><td>0</td><td>0</td><td>0</td><td>0</td><td>0</td><td>0</td><td>0</td><td>0</td><td>0</td><td>0</td></tr>\n",
              "\t<tr><th scope=row>24</th><td>0</td><td>0</td><td>0</td><td>0</td><td>0</td><td>0</td><td>0</td><td>0</td><td>0</td><td>0</td><td>⋯</td><td>0</td><td>0</td><td>0</td><td>0</td><td>0</td><td>0</td><td>0</td><td>0</td><td>0</td><td>0</td></tr>\n",
              "\t<tr><th scope=row>25</th><td>0</td><td>0</td><td>0</td><td>0</td><td>0</td><td>0</td><td>0</td><td>0</td><td>0</td><td>0</td><td>⋯</td><td>0</td><td>0</td><td>0</td><td>0</td><td>0</td><td>0</td><td>0</td><td>0</td><td>0</td><td>0</td></tr>\n",
              "\t<tr><th scope=row>26</th><td>0</td><td>0</td><td>0</td><td>0</td><td>0</td><td>0</td><td>0</td><td>0</td><td>0</td><td>0</td><td>⋯</td><td>0</td><td>0</td><td>0</td><td>0</td><td>0</td><td>0</td><td>0</td><td>0</td><td>0</td><td>0</td></tr>\n",
              "\t<tr><th scope=row>27</th><td>0</td><td>0</td><td>0</td><td>0</td><td>0</td><td>0</td><td>0</td><td>0</td><td>0</td><td>0</td><td>⋯</td><td>0</td><td>0</td><td>0</td><td>0</td><td>0</td><td>0</td><td>0</td><td>0</td><td>0</td><td>0</td></tr>\n",
              "\t<tr><th scope=row>28</th><td>0</td><td>0</td><td>0</td><td>0</td><td>0</td><td>0</td><td>0</td><td>0</td><td>0</td><td>0</td><td>⋯</td><td>0</td><td>0</td><td>0</td><td>0</td><td>0</td><td>0</td><td>0</td><td>0</td><td>0</td><td>0</td></tr>\n",
              "\t<tr><th scope=row>29</th><td>0</td><td>0</td><td>0</td><td>0</td><td>0</td><td>0</td><td>0</td><td>0</td><td>0</td><td>0</td><td>⋯</td><td>0</td><td>0</td><td>0</td><td>0</td><td>0</td><td>0</td><td>0</td><td>0</td><td>0</td><td>0</td></tr>\n",
              "\t<tr><th scope=row>30</th><td>0</td><td>0</td><td>0</td><td>0</td><td>0</td><td>0</td><td>0</td><td>0</td><td>0</td><td>0</td><td>⋯</td><td>0</td><td>0</td><td>0</td><td>0</td><td>0</td><td>0</td><td>0</td><td>0</td><td>0</td><td>0</td></tr>\n",
              "\t<tr><th scope=row>⋮</th><td>⋮</td><td>⋮</td><td>⋮</td><td>⋮</td><td>⋮</td><td>⋮</td><td>⋮</td><td>⋮</td><td>⋮</td><td>⋮</td><td>⋱</td><td>⋮</td><td>⋮</td><td>⋮</td><td>⋮</td><td>⋮</td><td>⋮</td><td>⋮</td><td>⋮</td><td>⋮</td><td>⋮</td></tr>\n",
              "\t<tr><th scope=row>13236</th><td>0</td><td>0</td><td>0</td><td>0</td><td>0</td><td>0</td><td>0</td><td>0</td><td>0</td><td>0</td><td>⋯</td><td>0</td><td>0</td><td>0</td><td>0</td><td>0</td><td>0</td><td>0</td><td>0</td><td>0</td><td>0</td></tr>\n",
              "\t<tr><th scope=row>13237</th><td>0</td><td>0</td><td>0</td><td>0</td><td>0</td><td>0</td><td>0</td><td>0</td><td>0</td><td>0</td><td>⋯</td><td>0</td><td>0</td><td>0</td><td>0</td><td>0</td><td>0</td><td>0</td><td>0</td><td>0</td><td>0</td></tr>\n",
              "\t<tr><th scope=row>13238</th><td>0</td><td>0</td><td>0</td><td>0</td><td>0</td><td>0</td><td>0</td><td>0</td><td>0</td><td>0</td><td>⋯</td><td>0</td><td>0</td><td>0</td><td>0</td><td>0</td><td>0</td><td>0</td><td>0</td><td>0</td><td>0</td></tr>\n",
              "\t<tr><th scope=row>13239</th><td>0</td><td>0</td><td>0</td><td>0</td><td>0</td><td>0</td><td>0</td><td>0</td><td>0</td><td>0</td><td>⋯</td><td>0</td><td>0</td><td>0</td><td>0</td><td>0</td><td>0</td><td>0</td><td>0</td><td>0</td><td>0</td></tr>\n",
              "\t<tr><th scope=row>13240</th><td>0</td><td>0</td><td>0</td><td>0</td><td>0</td><td>0</td><td>0</td><td>0</td><td>0</td><td>0</td><td>⋯</td><td>0</td><td>0</td><td>0</td><td>0</td><td>0</td><td>0</td><td>0</td><td>0</td><td>0</td><td>0</td></tr>\n",
              "\t<tr><th scope=row>13241</th><td>0</td><td>0</td><td>0</td><td>0</td><td>0</td><td>0</td><td>0</td><td>0</td><td>0</td><td>0</td><td>⋯</td><td>0</td><td>0</td><td>0</td><td>0</td><td>0</td><td>0</td><td>0</td><td>0</td><td>0</td><td>0</td></tr>\n",
              "\t<tr><th scope=row>13242</th><td>0</td><td>0</td><td>0</td><td>0</td><td>0</td><td>0</td><td>0</td><td>0</td><td>0</td><td>0</td><td>⋯</td><td>0</td><td>0</td><td>0</td><td>0</td><td>0</td><td>0</td><td>0</td><td>0</td><td>0</td><td>0</td></tr>\n",
              "\t<tr><th scope=row>13243</th><td>0</td><td>0</td><td>0</td><td>0</td><td>0</td><td>0</td><td>0</td><td>0</td><td>0</td><td>0</td><td>⋯</td><td>0</td><td>0</td><td>0</td><td>0</td><td>0</td><td>0</td><td>0</td><td>0</td><td>0</td><td>0</td></tr>\n",
              "\t<tr><th scope=row>13244</th><td>0</td><td>0</td><td>0</td><td>0</td><td>0</td><td>0</td><td>0</td><td>0</td><td>0</td><td>0</td><td>⋯</td><td>0</td><td>0</td><td>0</td><td>0</td><td>0</td><td>0</td><td>0</td><td>0</td><td>0</td><td>0</td></tr>\n",
              "\t<tr><th scope=row>13245</th><td>0</td><td>0</td><td>0</td><td>0</td><td>0</td><td>0</td><td>0</td><td>0</td><td>0</td><td>0</td><td>⋯</td><td>0</td><td>0</td><td>0</td><td>0</td><td>0</td><td>0</td><td>0</td><td>0</td><td>0</td><td>0</td></tr>\n",
              "\t<tr><th scope=row>13246</th><td>0</td><td>0</td><td>0</td><td>0</td><td>0</td><td>0</td><td>0</td><td>0</td><td>0</td><td>0</td><td>⋯</td><td>0</td><td>0</td><td>0</td><td>0</td><td>0</td><td>0</td><td>0</td><td>0</td><td>0</td><td>0</td></tr>\n",
              "\t<tr><th scope=row>13247</th><td>0</td><td>0</td><td>0</td><td>0</td><td>0</td><td>0</td><td>0</td><td>0</td><td>0</td><td>0</td><td>⋯</td><td>0</td><td>0</td><td>0</td><td>0</td><td>0</td><td>0</td><td>0</td><td>0</td><td>0</td><td>0</td></tr>\n",
              "\t<tr><th scope=row>13248</th><td>0</td><td>0</td><td>0</td><td>0</td><td>0</td><td>0</td><td>0</td><td>0</td><td>0</td><td>0</td><td>⋯</td><td>0</td><td>0</td><td>0</td><td>0</td><td>0</td><td>0</td><td>0</td><td>0</td><td>0</td><td>0</td></tr>\n",
              "\t<tr><th scope=row>13249</th><td>0</td><td>0</td><td>0</td><td>0</td><td>0</td><td>0</td><td>0</td><td>0</td><td>0</td><td>0</td><td>⋯</td><td>0</td><td>0</td><td>0</td><td>0</td><td>0</td><td>0</td><td>0</td><td>0</td><td>0</td><td>0</td></tr>\n",
              "\t<tr><th scope=row>13250</th><td>0</td><td>0</td><td>0</td><td>0</td><td>0</td><td>0</td><td>0</td><td>0</td><td>0</td><td>0</td><td>⋯</td><td>0</td><td>0</td><td>0</td><td>0</td><td>0</td><td>0</td><td>0</td><td>0</td><td>0</td><td>0</td></tr>\n",
              "\t<tr><th scope=row>13251</th><td>0</td><td>0</td><td>0</td><td>0</td><td>0</td><td>0</td><td>0</td><td>0</td><td>0</td><td>0</td><td>⋯</td><td>0</td><td>0</td><td>0</td><td>0</td><td>0</td><td>0</td><td>0</td><td>0</td><td>0</td><td>0</td></tr>\n",
              "\t<tr><th scope=row>13252</th><td>0</td><td>0</td><td>0</td><td>0</td><td>0</td><td>0</td><td>0</td><td>0</td><td>0</td><td>0</td><td>⋯</td><td>0</td><td>0</td><td>0</td><td>0</td><td>0</td><td>0</td><td>0</td><td>0</td><td>0</td><td>0</td></tr>\n",
              "\t<tr><th scope=row>13253</th><td>0</td><td>0</td><td>0</td><td>0</td><td>0</td><td>0</td><td>0</td><td>0</td><td>0</td><td>0</td><td>⋯</td><td>0</td><td>0</td><td>0</td><td>0</td><td>0</td><td>0</td><td>0</td><td>0</td><td>0</td><td>0</td></tr>\n",
              "\t<tr><th scope=row>13254</th><td>0</td><td>0</td><td>0</td><td>0</td><td>0</td><td>0</td><td>0</td><td>0</td><td>0</td><td>0</td><td>⋯</td><td>0</td><td>0</td><td>0</td><td>0</td><td>0</td><td>0</td><td>0</td><td>0</td><td>0</td><td>0</td></tr>\n",
              "\t<tr><th scope=row>13255</th><td>0</td><td>0</td><td>0</td><td>0</td><td>0</td><td>0</td><td>0</td><td>0</td><td>0</td><td>0</td><td>⋯</td><td>0</td><td>0</td><td>0</td><td>0</td><td>0</td><td>0</td><td>0</td><td>0</td><td>0</td><td>0</td></tr>\n",
              "\t<tr><th scope=row>13256</th><td>0</td><td>0</td><td>0</td><td>0</td><td>0</td><td>0</td><td>0</td><td>0</td><td>0</td><td>0</td><td>⋯</td><td>0</td><td>0</td><td>0</td><td>0</td><td>0</td><td>0</td><td>0</td><td>0</td><td>0</td><td>0</td></tr>\n",
              "\t<tr><th scope=row>13257</th><td>0</td><td>0</td><td>0</td><td>0</td><td>0</td><td>0</td><td>0</td><td>0</td><td>0</td><td>0</td><td>⋯</td><td>0</td><td>0</td><td>0</td><td>0</td><td>0</td><td>0</td><td>0</td><td>0</td><td>0</td><td>0</td></tr>\n",
              "\t<tr><th scope=row>13258</th><td>0</td><td>0</td><td>0</td><td>0</td><td>0</td><td>0</td><td>0</td><td>0</td><td>0</td><td>0</td><td>⋯</td><td>0</td><td>0</td><td>0</td><td>0</td><td>0</td><td>0</td><td>0</td><td>0</td><td>0</td><td>0</td></tr>\n",
              "\t<tr><th scope=row>13259</th><td>0</td><td>0</td><td>0</td><td>0</td><td>0</td><td>0</td><td>0</td><td>0</td><td>0</td><td>0</td><td>⋯</td><td>0</td><td>0</td><td>0</td><td>0</td><td>0</td><td>0</td><td>0</td><td>0</td><td>0</td><td>0</td></tr>\n",
              "\t<tr><th scope=row>13260</th><td>0</td><td>0</td><td>0</td><td>0</td><td>0</td><td>0</td><td>0</td><td>0</td><td>0</td><td>0</td><td>⋯</td><td>0</td><td>0</td><td>0</td><td>0</td><td>0</td><td>0</td><td>0</td><td>0</td><td>0</td><td>0</td></tr>\n",
              "\t<tr><th scope=row>13261</th><td>0</td><td>0</td><td>0</td><td>0</td><td>0</td><td>0</td><td>0</td><td>0</td><td>0</td><td>0</td><td>⋯</td><td>0</td><td>0</td><td>0</td><td>0</td><td>0</td><td>0</td><td>0</td><td>0</td><td>0</td><td>0</td></tr>\n",
              "\t<tr><th scope=row>13262</th><td>0</td><td>0</td><td>0</td><td>0</td><td>0</td><td>0</td><td>0</td><td>0</td><td>0</td><td>0</td><td>⋯</td><td>0</td><td>0</td><td>0</td><td>0</td><td>0</td><td>0</td><td>0</td><td>0</td><td>0</td><td>0</td></tr>\n",
              "\t<tr><th scope=row>13263</th><td>0</td><td>0</td><td>0</td><td>0</td><td>0</td><td>0</td><td>0</td><td>0</td><td>0</td><td>0</td><td>⋯</td><td>0</td><td>0</td><td>0</td><td>0</td><td>0</td><td>0</td><td>0</td><td>0</td><td>0</td><td>0</td></tr>\n",
              "\t<tr><th scope=row>13264</th><td>0</td><td>0</td><td>0</td><td>0</td><td>0</td><td>0</td><td>0</td><td>0</td><td>0</td><td>0</td><td>⋯</td><td>0</td><td>0</td><td>0</td><td>0</td><td>0</td><td>0</td><td>0</td><td>0</td><td>0</td><td>0</td></tr>\n",
              "\t<tr><th scope=row>13265</th><td>0</td><td>0</td><td>0</td><td>0</td><td>0</td><td>0</td><td>0</td><td>0</td><td>0</td><td>0</td><td>⋯</td><td>0</td><td>0</td><td>0</td><td>0</td><td>0</td><td>0</td><td>0</td><td>0</td><td>0</td><td>0</td></tr>\n",
              "</tbody>\n",
              "</table>\n"
            ],
            "text/markdown": "\nA data.frame: 13265 × 25200\n\n| <!--/--> | learningartificial &lt;dbl&gt; | networkautomaticunmannedautonomousdrivingvehicletransportcctvcoalgenotypeclothesgameexerciseagvad &lt;dbl&gt; | networkcnnconvolutional &lt;dbl&gt; | networkdnndeep &lt;dbl&gt; | networkneural &lt;dbl&gt; | networkrnnrecurrent &lt;dbl&gt; | neural &lt;dbl&gt; | tlanndeep &lt;dbl&gt; | 검색식 &lt;dbl&gt; | 발행일시 &lt;dbl&gt; | ⋯ ⋯ | verschaltung &lt;dbl&gt; | versorgungsanlage &lt;dbl&gt; | wasser &lt;dbl&gt; | wasserstoff &lt;dbl&gt; | windkraftanlage &lt;dbl&gt; | zeitigen &lt;dbl&gt; | zeugungsvorrichtung &lt;dbl&gt; | öffentli &lt;dbl&gt; | öffentlichen &lt;dbl&gt; | überdacht &lt;dbl&gt; |\n|---|---|---|---|---|---|---|---|---|---|---|---|---|---|---|---|---|---|---|---|---|---|\n| 1 | 0 | 0 | 0 | 0 | 0 | 0 | 0 | 0 | 0 | 0 | ⋯ | 0 | 0 | 0 | 0 | 0 | 0 | 0 | 0 | 0 | 0 |\n| 2 | 1 | 1 | 1 | 1 | 1 | 1 | 4 | 1 | 1 | 0 | ⋯ | 0 | 0 | 0 | 0 | 0 | 0 | 0 | 0 | 0 | 0 |\n| 3 | 0 | 0 | 0 | 0 | 0 | 0 | 0 | 0 | 0 | 1 | ⋯ | 0 | 0 | 0 | 0 | 0 | 0 | 0 | 0 | 0 | 0 |\n| 4 | 0 | 0 | 0 | 0 | 0 | 0 | 0 | 0 | 0 | 0 | ⋯ | 0 | 0 | 0 | 0 | 0 | 0 | 0 | 0 | 0 | 0 |\n| 5 | 0 | 0 | 0 | 0 | 0 | 0 | 0 | 0 | 0 | 0 | ⋯ | 0 | 0 | 0 | 0 | 0 | 0 | 0 | 0 | 0 | 0 |\n| 6 | 0 | 0 | 0 | 0 | 0 | 0 | 0 | 0 | 0 | 0 | ⋯ | 0 | 0 | 0 | 0 | 0 | 0 | 0 | 0 | 0 | 0 |\n| 7 | 0 | 0 | 0 | 0 | 0 | 0 | 0 | 0 | 0 | 0 | ⋯ | 0 | 0 | 0 | 0 | 0 | 0 | 0 | 0 | 0 | 0 |\n| 8 | 0 | 0 | 0 | 0 | 0 | 0 | 0 | 0 | 0 | 0 | ⋯ | 0 | 0 | 0 | 0 | 0 | 0 | 0 | 0 | 0 | 0 |\n| 9 | 0 | 0 | 0 | 0 | 0 | 0 | 0 | 0 | 0 | 0 | ⋯ | 0 | 0 | 0 | 0 | 0 | 0 | 0 | 0 | 0 | 0 |\n| 10 | 0 | 0 | 0 | 0 | 0 | 0 | 0 | 0 | 0 | 0 | ⋯ | 0 | 0 | 0 | 0 | 0 | 0 | 0 | 0 | 0 | 0 |\n| 11 | 0 | 0 | 0 | 0 | 0 | 0 | 0 | 0 | 0 | 0 | ⋯ | 0 | 0 | 0 | 0 | 0 | 0 | 0 | 0 | 0 | 0 |\n| 12 | 0 | 0 | 0 | 0 | 0 | 0 | 0 | 0 | 0 | 0 | ⋯ | 0 | 0 | 0 | 0 | 0 | 0 | 0 | 0 | 0 | 0 |\n| 13 | 0 | 0 | 0 | 0 | 0 | 0 | 0 | 0 | 0 | 0 | ⋯ | 0 | 0 | 0 | 0 | 0 | 0 | 0 | 0 | 0 | 0 |\n| 14 | 0 | 0 | 0 | 0 | 0 | 0 | 0 | 0 | 0 | 0 | ⋯ | 0 | 0 | 0 | 0 | 0 | 0 | 0 | 0 | 0 | 0 |\n| 15 | 0 | 0 | 0 | 0 | 0 | 0 | 0 | 0 | 0 | 0 | ⋯ | 0 | 0 | 0 | 0 | 0 | 0 | 0 | 0 | 0 | 0 |\n| 16 | 0 | 0 | 0 | 0 | 0 | 0 | 0 | 0 | 0 | 0 | ⋯ | 0 | 0 | 0 | 0 | 0 | 0 | 0 | 0 | 0 | 0 |\n| 17 | 0 | 0 | 0 | 0 | 0 | 0 | 0 | 0 | 0 | 0 | ⋯ | 0 | 0 | 0 | 0 | 0 | 0 | 0 | 0 | 0 | 0 |\n| 18 | 0 | 0 | 0 | 0 | 0 | 0 | 0 | 0 | 0 | 0 | ⋯ | 0 | 0 | 0 | 0 | 0 | 0 | 0 | 0 | 0 | 0 |\n| 19 | 0 | 0 | 0 | 0 | 0 | 0 | 0 | 0 | 0 | 0 | ⋯ | 0 | 0 | 0 | 0 | 0 | 0 | 0 | 0 | 0 | 0 |\n| 20 | 0 | 0 | 0 | 0 | 0 | 0 | 0 | 0 | 0 | 0 | ⋯ | 0 | 0 | 0 | 0 | 0 | 0 | 0 | 0 | 0 | 0 |\n| 21 | 0 | 0 | 0 | 0 | 0 | 0 | 0 | 0 | 0 | 0 | ⋯ | 0 | 0 | 0 | 0 | 0 | 0 | 0 | 0 | 0 | 0 |\n| 22 | 0 | 0 | 0 | 0 | 0 | 0 | 0 | 0 | 0 | 0 | ⋯ | 0 | 0 | 0 | 0 | 0 | 0 | 0 | 0 | 0 | 0 |\n| 23 | 0 | 0 | 0 | 0 | 0 | 0 | 0 | 0 | 0 | 0 | ⋯ | 0 | 0 | 0 | 0 | 0 | 0 | 0 | 0 | 0 | 0 |\n| 24 | 0 | 0 | 0 | 0 | 0 | 0 | 0 | 0 | 0 | 0 | ⋯ | 0 | 0 | 0 | 0 | 0 | 0 | 0 | 0 | 0 | 0 |\n| 25 | 0 | 0 | 0 | 0 | 0 | 0 | 0 | 0 | 0 | 0 | ⋯ | 0 | 0 | 0 | 0 | 0 | 0 | 0 | 0 | 0 | 0 |\n| 26 | 0 | 0 | 0 | 0 | 0 | 0 | 0 | 0 | 0 | 0 | ⋯ | 0 | 0 | 0 | 0 | 0 | 0 | 0 | 0 | 0 | 0 |\n| 27 | 0 | 0 | 0 | 0 | 0 | 0 | 0 | 0 | 0 | 0 | ⋯ | 0 | 0 | 0 | 0 | 0 | 0 | 0 | 0 | 0 | 0 |\n| 28 | 0 | 0 | 0 | 0 | 0 | 0 | 0 | 0 | 0 | 0 | ⋯ | 0 | 0 | 0 | 0 | 0 | 0 | 0 | 0 | 0 | 0 |\n| 29 | 0 | 0 | 0 | 0 | 0 | 0 | 0 | 0 | 0 | 0 | ⋯ | 0 | 0 | 0 | 0 | 0 | 0 | 0 | 0 | 0 | 0 |\n| 30 | 0 | 0 | 0 | 0 | 0 | 0 | 0 | 0 | 0 | 0 | ⋯ | 0 | 0 | 0 | 0 | 0 | 0 | 0 | 0 | 0 | 0 |\n| ⋮ | ⋮ | ⋮ | ⋮ | ⋮ | ⋮ | ⋮ | ⋮ | ⋮ | ⋮ | ⋮ | ⋱ | ⋮ | ⋮ | ⋮ | ⋮ | ⋮ | ⋮ | ⋮ | ⋮ | ⋮ | ⋮ |\n| 13236 | 0 | 0 | 0 | 0 | 0 | 0 | 0 | 0 | 0 | 0 | ⋯ | 0 | 0 | 0 | 0 | 0 | 0 | 0 | 0 | 0 | 0 |\n| 13237 | 0 | 0 | 0 | 0 | 0 | 0 | 0 | 0 | 0 | 0 | ⋯ | 0 | 0 | 0 | 0 | 0 | 0 | 0 | 0 | 0 | 0 |\n| 13238 | 0 | 0 | 0 | 0 | 0 | 0 | 0 | 0 | 0 | 0 | ⋯ | 0 | 0 | 0 | 0 | 0 | 0 | 0 | 0 | 0 | 0 |\n| 13239 | 0 | 0 | 0 | 0 | 0 | 0 | 0 | 0 | 0 | 0 | ⋯ | 0 | 0 | 0 | 0 | 0 | 0 | 0 | 0 | 0 | 0 |\n| 13240 | 0 | 0 | 0 | 0 | 0 | 0 | 0 | 0 | 0 | 0 | ⋯ | 0 | 0 | 0 | 0 | 0 | 0 | 0 | 0 | 0 | 0 |\n| 13241 | 0 | 0 | 0 | 0 | 0 | 0 | 0 | 0 | 0 | 0 | ⋯ | 0 | 0 | 0 | 0 | 0 | 0 | 0 | 0 | 0 | 0 |\n| 13242 | 0 | 0 | 0 | 0 | 0 | 0 | 0 | 0 | 0 | 0 | ⋯ | 0 | 0 | 0 | 0 | 0 | 0 | 0 | 0 | 0 | 0 |\n| 13243 | 0 | 0 | 0 | 0 | 0 | 0 | 0 | 0 | 0 | 0 | ⋯ | 0 | 0 | 0 | 0 | 0 | 0 | 0 | 0 | 0 | 0 |\n| 13244 | 0 | 0 | 0 | 0 | 0 | 0 | 0 | 0 | 0 | 0 | ⋯ | 0 | 0 | 0 | 0 | 0 | 0 | 0 | 0 | 0 | 0 |\n| 13245 | 0 | 0 | 0 | 0 | 0 | 0 | 0 | 0 | 0 | 0 | ⋯ | 0 | 0 | 0 | 0 | 0 | 0 | 0 | 0 | 0 | 0 |\n| 13246 | 0 | 0 | 0 | 0 | 0 | 0 | 0 | 0 | 0 | 0 | ⋯ | 0 | 0 | 0 | 0 | 0 | 0 | 0 | 0 | 0 | 0 |\n| 13247 | 0 | 0 | 0 | 0 | 0 | 0 | 0 | 0 | 0 | 0 | ⋯ | 0 | 0 | 0 | 0 | 0 | 0 | 0 | 0 | 0 | 0 |\n| 13248 | 0 | 0 | 0 | 0 | 0 | 0 | 0 | 0 | 0 | 0 | ⋯ | 0 | 0 | 0 | 0 | 0 | 0 | 0 | 0 | 0 | 0 |\n| 13249 | 0 | 0 | 0 | 0 | 0 | 0 | 0 | 0 | 0 | 0 | ⋯ | 0 | 0 | 0 | 0 | 0 | 0 | 0 | 0 | 0 | 0 |\n| 13250 | 0 | 0 | 0 | 0 | 0 | 0 | 0 | 0 | 0 | 0 | ⋯ | 0 | 0 | 0 | 0 | 0 | 0 | 0 | 0 | 0 | 0 |\n| 13251 | 0 | 0 | 0 | 0 | 0 | 0 | 0 | 0 | 0 | 0 | ⋯ | 0 | 0 | 0 | 0 | 0 | 0 | 0 | 0 | 0 | 0 |\n| 13252 | 0 | 0 | 0 | 0 | 0 | 0 | 0 | 0 | 0 | 0 | ⋯ | 0 | 0 | 0 | 0 | 0 | 0 | 0 | 0 | 0 | 0 |\n| 13253 | 0 | 0 | 0 | 0 | 0 | 0 | 0 | 0 | 0 | 0 | ⋯ | 0 | 0 | 0 | 0 | 0 | 0 | 0 | 0 | 0 | 0 |\n| 13254 | 0 | 0 | 0 | 0 | 0 | 0 | 0 | 0 | 0 | 0 | ⋯ | 0 | 0 | 0 | 0 | 0 | 0 | 0 | 0 | 0 | 0 |\n| 13255 | 0 | 0 | 0 | 0 | 0 | 0 | 0 | 0 | 0 | 0 | ⋯ | 0 | 0 | 0 | 0 | 0 | 0 | 0 | 0 | 0 | 0 |\n| 13256 | 0 | 0 | 0 | 0 | 0 | 0 | 0 | 0 | 0 | 0 | ⋯ | 0 | 0 | 0 | 0 | 0 | 0 | 0 | 0 | 0 | 0 |\n| 13257 | 0 | 0 | 0 | 0 | 0 | 0 | 0 | 0 | 0 | 0 | ⋯ | 0 | 0 | 0 | 0 | 0 | 0 | 0 | 0 | 0 | 0 |\n| 13258 | 0 | 0 | 0 | 0 | 0 | 0 | 0 | 0 | 0 | 0 | ⋯ | 0 | 0 | 0 | 0 | 0 | 0 | 0 | 0 | 0 | 0 |\n| 13259 | 0 | 0 | 0 | 0 | 0 | 0 | 0 | 0 | 0 | 0 | ⋯ | 0 | 0 | 0 | 0 | 0 | 0 | 0 | 0 | 0 | 0 |\n| 13260 | 0 | 0 | 0 | 0 | 0 | 0 | 0 | 0 | 0 | 0 | ⋯ | 0 | 0 | 0 | 0 | 0 | 0 | 0 | 0 | 0 | 0 |\n| 13261 | 0 | 0 | 0 | 0 | 0 | 0 | 0 | 0 | 0 | 0 | ⋯ | 0 | 0 | 0 | 0 | 0 | 0 | 0 | 0 | 0 | 0 |\n| 13262 | 0 | 0 | 0 | 0 | 0 | 0 | 0 | 0 | 0 | 0 | ⋯ | 0 | 0 | 0 | 0 | 0 | 0 | 0 | 0 | 0 | 0 |\n| 13263 | 0 | 0 | 0 | 0 | 0 | 0 | 0 | 0 | 0 | 0 | ⋯ | 0 | 0 | 0 | 0 | 0 | 0 | 0 | 0 | 0 | 0 |\n| 13264 | 0 | 0 | 0 | 0 | 0 | 0 | 0 | 0 | 0 | 0 | ⋯ | 0 | 0 | 0 | 0 | 0 | 0 | 0 | 0 | 0 | 0 |\n| 13265 | 0 | 0 | 0 | 0 | 0 | 0 | 0 | 0 | 0 | 0 | ⋯ | 0 | 0 | 0 | 0 | 0 | 0 | 0 | 0 | 0 | 0 |\n\n",
            "text/latex": "A data.frame: 13265 × 25200\n\\begin{tabular}{r|lllllllllllllllllllll}\n  & learningartificial & networkautomaticunmannedautonomousdrivingvehicletransportcctvcoalgenotypeclothesgameexerciseagvad & networkcnnconvolutional & networkdnndeep & networkneural & networkrnnrecurrent & neural & tlanndeep & 검색식 & 발행일시 & ⋯ & verschaltung & versorgungsanlage & wasser & wasserstoff & windkraftanlage & zeitigen & zeugungsvorrichtung & öffentli & öffentlichen & überdacht\\\\\n  & <dbl> & <dbl> & <dbl> & <dbl> & <dbl> & <dbl> & <dbl> & <dbl> & <dbl> & <dbl> & ⋯ & <dbl> & <dbl> & <dbl> & <dbl> & <dbl> & <dbl> & <dbl> & <dbl> & <dbl> & <dbl>\\\\\n\\hline\n\t1 & 0 & 0 & 0 & 0 & 0 & 0 & 0 & 0 & 0 & 0 & ⋯ & 0 & 0 & 0 & 0 & 0 & 0 & 0 & 0 & 0 & 0\\\\\n\t2 & 1 & 1 & 1 & 1 & 1 & 1 & 4 & 1 & 1 & 0 & ⋯ & 0 & 0 & 0 & 0 & 0 & 0 & 0 & 0 & 0 & 0\\\\\n\t3 & 0 & 0 & 0 & 0 & 0 & 0 & 0 & 0 & 0 & 1 & ⋯ & 0 & 0 & 0 & 0 & 0 & 0 & 0 & 0 & 0 & 0\\\\\n\t4 & 0 & 0 & 0 & 0 & 0 & 0 & 0 & 0 & 0 & 0 & ⋯ & 0 & 0 & 0 & 0 & 0 & 0 & 0 & 0 & 0 & 0\\\\\n\t5 & 0 & 0 & 0 & 0 & 0 & 0 & 0 & 0 & 0 & 0 & ⋯ & 0 & 0 & 0 & 0 & 0 & 0 & 0 & 0 & 0 & 0\\\\\n\t6 & 0 & 0 & 0 & 0 & 0 & 0 & 0 & 0 & 0 & 0 & ⋯ & 0 & 0 & 0 & 0 & 0 & 0 & 0 & 0 & 0 & 0\\\\\n\t7 & 0 & 0 & 0 & 0 & 0 & 0 & 0 & 0 & 0 & 0 & ⋯ & 0 & 0 & 0 & 0 & 0 & 0 & 0 & 0 & 0 & 0\\\\\n\t8 & 0 & 0 & 0 & 0 & 0 & 0 & 0 & 0 & 0 & 0 & ⋯ & 0 & 0 & 0 & 0 & 0 & 0 & 0 & 0 & 0 & 0\\\\\n\t9 & 0 & 0 & 0 & 0 & 0 & 0 & 0 & 0 & 0 & 0 & ⋯ & 0 & 0 & 0 & 0 & 0 & 0 & 0 & 0 & 0 & 0\\\\\n\t10 & 0 & 0 & 0 & 0 & 0 & 0 & 0 & 0 & 0 & 0 & ⋯ & 0 & 0 & 0 & 0 & 0 & 0 & 0 & 0 & 0 & 0\\\\\n\t11 & 0 & 0 & 0 & 0 & 0 & 0 & 0 & 0 & 0 & 0 & ⋯ & 0 & 0 & 0 & 0 & 0 & 0 & 0 & 0 & 0 & 0\\\\\n\t12 & 0 & 0 & 0 & 0 & 0 & 0 & 0 & 0 & 0 & 0 & ⋯ & 0 & 0 & 0 & 0 & 0 & 0 & 0 & 0 & 0 & 0\\\\\n\t13 & 0 & 0 & 0 & 0 & 0 & 0 & 0 & 0 & 0 & 0 & ⋯ & 0 & 0 & 0 & 0 & 0 & 0 & 0 & 0 & 0 & 0\\\\\n\t14 & 0 & 0 & 0 & 0 & 0 & 0 & 0 & 0 & 0 & 0 & ⋯ & 0 & 0 & 0 & 0 & 0 & 0 & 0 & 0 & 0 & 0\\\\\n\t15 & 0 & 0 & 0 & 0 & 0 & 0 & 0 & 0 & 0 & 0 & ⋯ & 0 & 0 & 0 & 0 & 0 & 0 & 0 & 0 & 0 & 0\\\\\n\t16 & 0 & 0 & 0 & 0 & 0 & 0 & 0 & 0 & 0 & 0 & ⋯ & 0 & 0 & 0 & 0 & 0 & 0 & 0 & 0 & 0 & 0\\\\\n\t17 & 0 & 0 & 0 & 0 & 0 & 0 & 0 & 0 & 0 & 0 & ⋯ & 0 & 0 & 0 & 0 & 0 & 0 & 0 & 0 & 0 & 0\\\\\n\t18 & 0 & 0 & 0 & 0 & 0 & 0 & 0 & 0 & 0 & 0 & ⋯ & 0 & 0 & 0 & 0 & 0 & 0 & 0 & 0 & 0 & 0\\\\\n\t19 & 0 & 0 & 0 & 0 & 0 & 0 & 0 & 0 & 0 & 0 & ⋯ & 0 & 0 & 0 & 0 & 0 & 0 & 0 & 0 & 0 & 0\\\\\n\t20 & 0 & 0 & 0 & 0 & 0 & 0 & 0 & 0 & 0 & 0 & ⋯ & 0 & 0 & 0 & 0 & 0 & 0 & 0 & 0 & 0 & 0\\\\\n\t21 & 0 & 0 & 0 & 0 & 0 & 0 & 0 & 0 & 0 & 0 & ⋯ & 0 & 0 & 0 & 0 & 0 & 0 & 0 & 0 & 0 & 0\\\\\n\t22 & 0 & 0 & 0 & 0 & 0 & 0 & 0 & 0 & 0 & 0 & ⋯ & 0 & 0 & 0 & 0 & 0 & 0 & 0 & 0 & 0 & 0\\\\\n\t23 & 0 & 0 & 0 & 0 & 0 & 0 & 0 & 0 & 0 & 0 & ⋯ & 0 & 0 & 0 & 0 & 0 & 0 & 0 & 0 & 0 & 0\\\\\n\t24 & 0 & 0 & 0 & 0 & 0 & 0 & 0 & 0 & 0 & 0 & ⋯ & 0 & 0 & 0 & 0 & 0 & 0 & 0 & 0 & 0 & 0\\\\\n\t25 & 0 & 0 & 0 & 0 & 0 & 0 & 0 & 0 & 0 & 0 & ⋯ & 0 & 0 & 0 & 0 & 0 & 0 & 0 & 0 & 0 & 0\\\\\n\t26 & 0 & 0 & 0 & 0 & 0 & 0 & 0 & 0 & 0 & 0 & ⋯ & 0 & 0 & 0 & 0 & 0 & 0 & 0 & 0 & 0 & 0\\\\\n\t27 & 0 & 0 & 0 & 0 & 0 & 0 & 0 & 0 & 0 & 0 & ⋯ & 0 & 0 & 0 & 0 & 0 & 0 & 0 & 0 & 0 & 0\\\\\n\t28 & 0 & 0 & 0 & 0 & 0 & 0 & 0 & 0 & 0 & 0 & ⋯ & 0 & 0 & 0 & 0 & 0 & 0 & 0 & 0 & 0 & 0\\\\\n\t29 & 0 & 0 & 0 & 0 & 0 & 0 & 0 & 0 & 0 & 0 & ⋯ & 0 & 0 & 0 & 0 & 0 & 0 & 0 & 0 & 0 & 0\\\\\n\t30 & 0 & 0 & 0 & 0 & 0 & 0 & 0 & 0 & 0 & 0 & ⋯ & 0 & 0 & 0 & 0 & 0 & 0 & 0 & 0 & 0 & 0\\\\\n\t⋮ & ⋮ & ⋮ & ⋮ & ⋮ & ⋮ & ⋮ & ⋮ & ⋮ & ⋮ & ⋮ & ⋱ & ⋮ & ⋮ & ⋮ & ⋮ & ⋮ & ⋮ & ⋮ & ⋮ & ⋮ & ⋮\\\\\n\t13236 & 0 & 0 & 0 & 0 & 0 & 0 & 0 & 0 & 0 & 0 & ⋯ & 0 & 0 & 0 & 0 & 0 & 0 & 0 & 0 & 0 & 0\\\\\n\t13237 & 0 & 0 & 0 & 0 & 0 & 0 & 0 & 0 & 0 & 0 & ⋯ & 0 & 0 & 0 & 0 & 0 & 0 & 0 & 0 & 0 & 0\\\\\n\t13238 & 0 & 0 & 0 & 0 & 0 & 0 & 0 & 0 & 0 & 0 & ⋯ & 0 & 0 & 0 & 0 & 0 & 0 & 0 & 0 & 0 & 0\\\\\n\t13239 & 0 & 0 & 0 & 0 & 0 & 0 & 0 & 0 & 0 & 0 & ⋯ & 0 & 0 & 0 & 0 & 0 & 0 & 0 & 0 & 0 & 0\\\\\n\t13240 & 0 & 0 & 0 & 0 & 0 & 0 & 0 & 0 & 0 & 0 & ⋯ & 0 & 0 & 0 & 0 & 0 & 0 & 0 & 0 & 0 & 0\\\\\n\t13241 & 0 & 0 & 0 & 0 & 0 & 0 & 0 & 0 & 0 & 0 & ⋯ & 0 & 0 & 0 & 0 & 0 & 0 & 0 & 0 & 0 & 0\\\\\n\t13242 & 0 & 0 & 0 & 0 & 0 & 0 & 0 & 0 & 0 & 0 & ⋯ & 0 & 0 & 0 & 0 & 0 & 0 & 0 & 0 & 0 & 0\\\\\n\t13243 & 0 & 0 & 0 & 0 & 0 & 0 & 0 & 0 & 0 & 0 & ⋯ & 0 & 0 & 0 & 0 & 0 & 0 & 0 & 0 & 0 & 0\\\\\n\t13244 & 0 & 0 & 0 & 0 & 0 & 0 & 0 & 0 & 0 & 0 & ⋯ & 0 & 0 & 0 & 0 & 0 & 0 & 0 & 0 & 0 & 0\\\\\n\t13245 & 0 & 0 & 0 & 0 & 0 & 0 & 0 & 0 & 0 & 0 & ⋯ & 0 & 0 & 0 & 0 & 0 & 0 & 0 & 0 & 0 & 0\\\\\n\t13246 & 0 & 0 & 0 & 0 & 0 & 0 & 0 & 0 & 0 & 0 & ⋯ & 0 & 0 & 0 & 0 & 0 & 0 & 0 & 0 & 0 & 0\\\\\n\t13247 & 0 & 0 & 0 & 0 & 0 & 0 & 0 & 0 & 0 & 0 & ⋯ & 0 & 0 & 0 & 0 & 0 & 0 & 0 & 0 & 0 & 0\\\\\n\t13248 & 0 & 0 & 0 & 0 & 0 & 0 & 0 & 0 & 0 & 0 & ⋯ & 0 & 0 & 0 & 0 & 0 & 0 & 0 & 0 & 0 & 0\\\\\n\t13249 & 0 & 0 & 0 & 0 & 0 & 0 & 0 & 0 & 0 & 0 & ⋯ & 0 & 0 & 0 & 0 & 0 & 0 & 0 & 0 & 0 & 0\\\\\n\t13250 & 0 & 0 & 0 & 0 & 0 & 0 & 0 & 0 & 0 & 0 & ⋯ & 0 & 0 & 0 & 0 & 0 & 0 & 0 & 0 & 0 & 0\\\\\n\t13251 & 0 & 0 & 0 & 0 & 0 & 0 & 0 & 0 & 0 & 0 & ⋯ & 0 & 0 & 0 & 0 & 0 & 0 & 0 & 0 & 0 & 0\\\\\n\t13252 & 0 & 0 & 0 & 0 & 0 & 0 & 0 & 0 & 0 & 0 & ⋯ & 0 & 0 & 0 & 0 & 0 & 0 & 0 & 0 & 0 & 0\\\\\n\t13253 & 0 & 0 & 0 & 0 & 0 & 0 & 0 & 0 & 0 & 0 & ⋯ & 0 & 0 & 0 & 0 & 0 & 0 & 0 & 0 & 0 & 0\\\\\n\t13254 & 0 & 0 & 0 & 0 & 0 & 0 & 0 & 0 & 0 & 0 & ⋯ & 0 & 0 & 0 & 0 & 0 & 0 & 0 & 0 & 0 & 0\\\\\n\t13255 & 0 & 0 & 0 & 0 & 0 & 0 & 0 & 0 & 0 & 0 & ⋯ & 0 & 0 & 0 & 0 & 0 & 0 & 0 & 0 & 0 & 0\\\\\n\t13256 & 0 & 0 & 0 & 0 & 0 & 0 & 0 & 0 & 0 & 0 & ⋯ & 0 & 0 & 0 & 0 & 0 & 0 & 0 & 0 & 0 & 0\\\\\n\t13257 & 0 & 0 & 0 & 0 & 0 & 0 & 0 & 0 & 0 & 0 & ⋯ & 0 & 0 & 0 & 0 & 0 & 0 & 0 & 0 & 0 & 0\\\\\n\t13258 & 0 & 0 & 0 & 0 & 0 & 0 & 0 & 0 & 0 & 0 & ⋯ & 0 & 0 & 0 & 0 & 0 & 0 & 0 & 0 & 0 & 0\\\\\n\t13259 & 0 & 0 & 0 & 0 & 0 & 0 & 0 & 0 & 0 & 0 & ⋯ & 0 & 0 & 0 & 0 & 0 & 0 & 0 & 0 & 0 & 0\\\\\n\t13260 & 0 & 0 & 0 & 0 & 0 & 0 & 0 & 0 & 0 & 0 & ⋯ & 0 & 0 & 0 & 0 & 0 & 0 & 0 & 0 & 0 & 0\\\\\n\t13261 & 0 & 0 & 0 & 0 & 0 & 0 & 0 & 0 & 0 & 0 & ⋯ & 0 & 0 & 0 & 0 & 0 & 0 & 0 & 0 & 0 & 0\\\\\n\t13262 & 0 & 0 & 0 & 0 & 0 & 0 & 0 & 0 & 0 & 0 & ⋯ & 0 & 0 & 0 & 0 & 0 & 0 & 0 & 0 & 0 & 0\\\\\n\t13263 & 0 & 0 & 0 & 0 & 0 & 0 & 0 & 0 & 0 & 0 & ⋯ & 0 & 0 & 0 & 0 & 0 & 0 & 0 & 0 & 0 & 0\\\\\n\t13264 & 0 & 0 & 0 & 0 & 0 & 0 & 0 & 0 & 0 & 0 & ⋯ & 0 & 0 & 0 & 0 & 0 & 0 & 0 & 0 & 0 & 0\\\\\n\t13265 & 0 & 0 & 0 & 0 & 0 & 0 & 0 & 0 & 0 & 0 & ⋯ & 0 & 0 & 0 & 0 & 0 & 0 & 0 & 0 & 0 & 0\\\\\n\\end{tabular}\n",
            "text/plain": [
              "      learningartificial\n",
              "1     0                 \n",
              "2     1                 \n",
              "3     0                 \n",
              "4     0                 \n",
              "5     0                 \n",
              "6     0                 \n",
              "7     0                 \n",
              "8     0                 \n",
              "9     0                 \n",
              "10    0                 \n",
              "11    0                 \n",
              "12    0                 \n",
              "13    0                 \n",
              "14    0                 \n",
              "15    0                 \n",
              "16    0                 \n",
              "17    0                 \n",
              "18    0                 \n",
              "19    0                 \n",
              "20    0                 \n",
              "21    0                 \n",
              "22    0                 \n",
              "23    0                 \n",
              "24    0                 \n",
              "25    0                 \n",
              "26    0                 \n",
              "27    0                 \n",
              "28    0                 \n",
              "29    0                 \n",
              "30    0                 \n",
              "⋮     ⋮                 \n",
              "13236 0                 \n",
              "13237 0                 \n",
              "13238 0                 \n",
              "13239 0                 \n",
              "13240 0                 \n",
              "13241 0                 \n",
              "13242 0                 \n",
              "13243 0                 \n",
              "13244 0                 \n",
              "13245 0                 \n",
              "13246 0                 \n",
              "13247 0                 \n",
              "13248 0                 \n",
              "13249 0                 \n",
              "13250 0                 \n",
              "13251 0                 \n",
              "13252 0                 \n",
              "13253 0                 \n",
              "13254 0                 \n",
              "13255 0                 \n",
              "13256 0                 \n",
              "13257 0                 \n",
              "13258 0                 \n",
              "13259 0                 \n",
              "13260 0                 \n",
              "13261 0                 \n",
              "13262 0                 \n",
              "13263 0                 \n",
              "13264 0                 \n",
              "13265 0                 \n",
              "      networkautomaticunmannedautonomousdrivingvehicletransportcctvcoalgenotypeclothesgameexerciseagvad\n",
              "1     0                                                                                                \n",
              "2     1                                                                                                \n",
              "3     0                                                                                                \n",
              "4     0                                                                                                \n",
              "5     0                                                                                                \n",
              "6     0                                                                                                \n",
              "7     0                                                                                                \n",
              "8     0                                                                                                \n",
              "9     0                                                                                                \n",
              "10    0                                                                                                \n",
              "11    0                                                                                                \n",
              "12    0                                                                                                \n",
              "13    0                                                                                                \n",
              "14    0                                                                                                \n",
              "15    0                                                                                                \n",
              "16    0                                                                                                \n",
              "17    0                                                                                                \n",
              "18    0                                                                                                \n",
              "19    0                                                                                                \n",
              "20    0                                                                                                \n",
              "21    0                                                                                                \n",
              "22    0                                                                                                \n",
              "23    0                                                                                                \n",
              "24    0                                                                                                \n",
              "25    0                                                                                                \n",
              "26    0                                                                                                \n",
              "27    0                                                                                                \n",
              "28    0                                                                                                \n",
              "29    0                                                                                                \n",
              "30    0                                                                                                \n",
              "⋮     ⋮                                                                                                \n",
              "13236 0                                                                                                \n",
              "13237 0                                                                                                \n",
              "13238 0                                                                                                \n",
              "13239 0                                                                                                \n",
              "13240 0                                                                                                \n",
              "13241 0                                                                                                \n",
              "13242 0                                                                                                \n",
              "13243 0                                                                                                \n",
              "13244 0                                                                                                \n",
              "13245 0                                                                                                \n",
              "13246 0                                                                                                \n",
              "13247 0                                                                                                \n",
              "13248 0                                                                                                \n",
              "13249 0                                                                                                \n",
              "13250 0                                                                                                \n",
              "13251 0                                                                                                \n",
              "13252 0                                                                                                \n",
              "13253 0                                                                                                \n",
              "13254 0                                                                                                \n",
              "13255 0                                                                                                \n",
              "13256 0                                                                                                \n",
              "13257 0                                                                                                \n",
              "13258 0                                                                                                \n",
              "13259 0                                                                                                \n",
              "13260 0                                                                                                \n",
              "13261 0                                                                                                \n",
              "13262 0                                                                                                \n",
              "13263 0                                                                                                \n",
              "13264 0                                                                                                \n",
              "13265 0                                                                                                \n",
              "      networkcnnconvolutional networkdnndeep networkneural networkrnnrecurrent\n",
              "1     0                       0              0             0                  \n",
              "2     1                       1              1             1                  \n",
              "3     0                       0              0             0                  \n",
              "4     0                       0              0             0                  \n",
              "5     0                       0              0             0                  \n",
              "6     0                       0              0             0                  \n",
              "7     0                       0              0             0                  \n",
              "8     0                       0              0             0                  \n",
              "9     0                       0              0             0                  \n",
              "10    0                       0              0             0                  \n",
              "11    0                       0              0             0                  \n",
              "12    0                       0              0             0                  \n",
              "13    0                       0              0             0                  \n",
              "14    0                       0              0             0                  \n",
              "15    0                       0              0             0                  \n",
              "16    0                       0              0             0                  \n",
              "17    0                       0              0             0                  \n",
              "18    0                       0              0             0                  \n",
              "19    0                       0              0             0                  \n",
              "20    0                       0              0             0                  \n",
              "21    0                       0              0             0                  \n",
              "22    0                       0              0             0                  \n",
              "23    0                       0              0             0                  \n",
              "24    0                       0              0             0                  \n",
              "25    0                       0              0             0                  \n",
              "26    0                       0              0             0                  \n",
              "27    0                       0              0             0                  \n",
              "28    0                       0              0             0                  \n",
              "29    0                       0              0             0                  \n",
              "30    0                       0              0             0                  \n",
              "⋮     ⋮                       ⋮              ⋮             ⋮                  \n",
              "13236 0                       0              0             0                  \n",
              "13237 0                       0              0             0                  \n",
              "13238 0                       0              0             0                  \n",
              "13239 0                       0              0             0                  \n",
              "13240 0                       0              0             0                  \n",
              "13241 0                       0              0             0                  \n",
              "13242 0                       0              0             0                  \n",
              "13243 0                       0              0             0                  \n",
              "13244 0                       0              0             0                  \n",
              "13245 0                       0              0             0                  \n",
              "13246 0                       0              0             0                  \n",
              "13247 0                       0              0             0                  \n",
              "13248 0                       0              0             0                  \n",
              "13249 0                       0              0             0                  \n",
              "13250 0                       0              0             0                  \n",
              "13251 0                       0              0             0                  \n",
              "13252 0                       0              0             0                  \n",
              "13253 0                       0              0             0                  \n",
              "13254 0                       0              0             0                  \n",
              "13255 0                       0              0             0                  \n",
              "13256 0                       0              0             0                  \n",
              "13257 0                       0              0             0                  \n",
              "13258 0                       0              0             0                  \n",
              "13259 0                       0              0             0                  \n",
              "13260 0                       0              0             0                  \n",
              "13261 0                       0              0             0                  \n",
              "13262 0                       0              0             0                  \n",
              "13263 0                       0              0             0                  \n",
              "13264 0                       0              0             0                  \n",
              "13265 0                       0              0             0                  \n",
              "      neural tlanndeep 검색식 발행일시 ⋯ verschaltung versorgungsanlage wasser\n",
              "1     0      0         0      0        ⋯ 0            0                 0     \n",
              "2     4      1         1      0        ⋯ 0            0                 0     \n",
              "3     0      0         0      1        ⋯ 0            0                 0     \n",
              "4     0      0         0      0        ⋯ 0            0                 0     \n",
              "5     0      0         0      0        ⋯ 0            0                 0     \n",
              "6     0      0         0      0        ⋯ 0            0                 0     \n",
              "7     0      0         0      0        ⋯ 0            0                 0     \n",
              "8     0      0         0      0        ⋯ 0            0                 0     \n",
              "9     0      0         0      0        ⋯ 0            0                 0     \n",
              "10    0      0         0      0        ⋯ 0            0                 0     \n",
              "11    0      0         0      0        ⋯ 0            0                 0     \n",
              "12    0      0         0      0        ⋯ 0            0                 0     \n",
              "13    0      0         0      0        ⋯ 0            0                 0     \n",
              "14    0      0         0      0        ⋯ 0            0                 0     \n",
              "15    0      0         0      0        ⋯ 0            0                 0     \n",
              "16    0      0         0      0        ⋯ 0            0                 0     \n",
              "17    0      0         0      0        ⋯ 0            0                 0     \n",
              "18    0      0         0      0        ⋯ 0            0                 0     \n",
              "19    0      0         0      0        ⋯ 0            0                 0     \n",
              "20    0      0         0      0        ⋯ 0            0                 0     \n",
              "21    0      0         0      0        ⋯ 0            0                 0     \n",
              "22    0      0         0      0        ⋯ 0            0                 0     \n",
              "23    0      0         0      0        ⋯ 0            0                 0     \n",
              "24    0      0         0      0        ⋯ 0            0                 0     \n",
              "25    0      0         0      0        ⋯ 0            0                 0     \n",
              "26    0      0         0      0        ⋯ 0            0                 0     \n",
              "27    0      0         0      0        ⋯ 0            0                 0     \n",
              "28    0      0         0      0        ⋯ 0            0                 0     \n",
              "29    0      0         0      0        ⋯ 0            0                 0     \n",
              "30    0      0         0      0        ⋯ 0            0                 0     \n",
              "⋮     ⋮      ⋮         ⋮      ⋮        ⋱ ⋮            ⋮                 ⋮     \n",
              "13236 0      0         0      0        ⋯ 0            0                 0     \n",
              "13237 0      0         0      0        ⋯ 0            0                 0     \n",
              "13238 0      0         0      0        ⋯ 0            0                 0     \n",
              "13239 0      0         0      0        ⋯ 0            0                 0     \n",
              "13240 0      0         0      0        ⋯ 0            0                 0     \n",
              "13241 0      0         0      0        ⋯ 0            0                 0     \n",
              "13242 0      0         0      0        ⋯ 0            0                 0     \n",
              "13243 0      0         0      0        ⋯ 0            0                 0     \n",
              "13244 0      0         0      0        ⋯ 0            0                 0     \n",
              "13245 0      0         0      0        ⋯ 0            0                 0     \n",
              "13246 0      0         0      0        ⋯ 0            0                 0     \n",
              "13247 0      0         0      0        ⋯ 0            0                 0     \n",
              "13248 0      0         0      0        ⋯ 0            0                 0     \n",
              "13249 0      0         0      0        ⋯ 0            0                 0     \n",
              "13250 0      0         0      0        ⋯ 0            0                 0     \n",
              "13251 0      0         0      0        ⋯ 0            0                 0     \n",
              "13252 0      0         0      0        ⋯ 0            0                 0     \n",
              "13253 0      0         0      0        ⋯ 0            0                 0     \n",
              "13254 0      0         0      0        ⋯ 0            0                 0     \n",
              "13255 0      0         0      0        ⋯ 0            0                 0     \n",
              "13256 0      0         0      0        ⋯ 0            0                 0     \n",
              "13257 0      0         0      0        ⋯ 0            0                 0     \n",
              "13258 0      0         0      0        ⋯ 0            0                 0     \n",
              "13259 0      0         0      0        ⋯ 0            0                 0     \n",
              "13260 0      0         0      0        ⋯ 0            0                 0     \n",
              "13261 0      0         0      0        ⋯ 0            0                 0     \n",
              "13262 0      0         0      0        ⋯ 0            0                 0     \n",
              "13263 0      0         0      0        ⋯ 0            0                 0     \n",
              "13264 0      0         0      0        ⋯ 0            0                 0     \n",
              "13265 0      0         0      0        ⋯ 0            0                 0     \n",
              "      wasserstoff windkraftanlage zeitigen zeugungsvorrichtung öffentli\n",
              "1     0           0               0        0                   0       \n",
              "2     0           0               0        0                   0       \n",
              "3     0           0               0        0                   0       \n",
              "4     0           0               0        0                   0       \n",
              "5     0           0               0        0                   0       \n",
              "6     0           0               0        0                   0       \n",
              "7     0           0               0        0                   0       \n",
              "8     0           0               0        0                   0       \n",
              "9     0           0               0        0                   0       \n",
              "10    0           0               0        0                   0       \n",
              "11    0           0               0        0                   0       \n",
              "12    0           0               0        0                   0       \n",
              "13    0           0               0        0                   0       \n",
              "14    0           0               0        0                   0       \n",
              "15    0           0               0        0                   0       \n",
              "16    0           0               0        0                   0       \n",
              "17    0           0               0        0                   0       \n",
              "18    0           0               0        0                   0       \n",
              "19    0           0               0        0                   0       \n",
              "20    0           0               0        0                   0       \n",
              "21    0           0               0        0                   0       \n",
              "22    0           0               0        0                   0       \n",
              "23    0           0               0        0                   0       \n",
              "24    0           0               0        0                   0       \n",
              "25    0           0               0        0                   0       \n",
              "26    0           0               0        0                   0       \n",
              "27    0           0               0        0                   0       \n",
              "28    0           0               0        0                   0       \n",
              "29    0           0               0        0                   0       \n",
              "30    0           0               0        0                   0       \n",
              "⋮     ⋮           ⋮               ⋮        ⋮                   ⋮       \n",
              "13236 0           0               0        0                   0       \n",
              "13237 0           0               0        0                   0       \n",
              "13238 0           0               0        0                   0       \n",
              "13239 0           0               0        0                   0       \n",
              "13240 0           0               0        0                   0       \n",
              "13241 0           0               0        0                   0       \n",
              "13242 0           0               0        0                   0       \n",
              "13243 0           0               0        0                   0       \n",
              "13244 0           0               0        0                   0       \n",
              "13245 0           0               0        0                   0       \n",
              "13246 0           0               0        0                   0       \n",
              "13247 0           0               0        0                   0       \n",
              "13248 0           0               0        0                   0       \n",
              "13249 0           0               0        0                   0       \n",
              "13250 0           0               0        0                   0       \n",
              "13251 0           0               0        0                   0       \n",
              "13252 0           0               0        0                   0       \n",
              "13253 0           0               0        0                   0       \n",
              "13254 0           0               0        0                   0       \n",
              "13255 0           0               0        0                   0       \n",
              "13256 0           0               0        0                   0       \n",
              "13257 0           0               0        0                   0       \n",
              "13258 0           0               0        0                   0       \n",
              "13259 0           0               0        0                   0       \n",
              "13260 0           0               0        0                   0       \n",
              "13261 0           0               0        0                   0       \n",
              "13262 0           0               0        0                   0       \n",
              "13263 0           0               0        0                   0       \n",
              "13264 0           0               0        0                   0       \n",
              "13265 0           0               0        0                   0       \n",
              "      öffentlichen überdacht\n",
              "1     0            0        \n",
              "2     0            0        \n",
              "3     0            0        \n",
              "4     0            0        \n",
              "5     0            0        \n",
              "6     0            0        \n",
              "7     0            0        \n",
              "8     0            0        \n",
              "9     0            0        \n",
              "10    0            0        \n",
              "11    0            0        \n",
              "12    0            0        \n",
              "13    0            0        \n",
              "14    0            0        \n",
              "15    0            0        \n",
              "16    0            0        \n",
              "17    0            0        \n",
              "18    0            0        \n",
              "19    0            0        \n",
              "20    0            0        \n",
              "21    0            0        \n",
              "22    0            0        \n",
              "23    0            0        \n",
              "24    0            0        \n",
              "25    0            0        \n",
              "26    0            0        \n",
              "27    0            0        \n",
              "28    0            0        \n",
              "29    0            0        \n",
              "30    0            0        \n",
              "⋮     ⋮            ⋮        \n",
              "13236 0            0        \n",
              "13237 0            0        \n",
              "13238 0            0        \n",
              "13239 0            0        \n",
              "13240 0            0        \n",
              "13241 0            0        \n",
              "13242 0            0        \n",
              "13243 0            0        \n",
              "13244 0            0        \n",
              "13245 0            0        \n",
              "13246 0            0        \n",
              "13247 0            0        \n",
              "13248 0            0        \n",
              "13249 0            0        \n",
              "13250 0            0        \n",
              "13251 0            0        \n",
              "13252 0            0        \n",
              "13253 0            0        \n",
              "13254 0            0        \n",
              "13255 0            0        \n",
              "13256 0            0        \n",
              "13257 0            0        \n",
              "13258 0            0        \n",
              "13259 0            0        \n",
              "13260 0            0        \n",
              "13261 0            0        \n",
              "13262 0            0        \n",
              "13263 0            0        \n",
              "13264 0            0        \n",
              "13265 0            0        "
            ]
          },
          "metadata": {}
        }
      ]
    },
    {
      "cell_type": "markdown",
      "source": [
        "# 첫번째만 나오고 나머진 안나옴 -> one hot encoding이랑 같음 -> separsity 즉 희소성임 -> 쓰임 가능한 메트릭스로 바꾸어야함"
      ],
      "metadata": {
        "id": "m_8M_42F9cc9"
      }
    },
    {
      "cell_type": "code",
      "source": [
        "# PDTM을 CSV파일로 저장\n",
        "install.packages(\"writexl\")\n",
        "library(writexl)"
      ],
      "metadata": {
        "colab": {
          "base_uri": "https://localhost:8080/"
        },
        "id": "eSLVfMHN8xds",
        "outputId": "dbdda7c4-0f10-4be5-ea55-fafa13363a66"
      },
      "execution_count": null,
      "outputs": [
        {
          "output_type": "stream",
          "name": "stderr",
          "text": [
            "Installing package into ‘/usr/local/lib/R/site-library’\n",
            "(as ‘lib’ is unspecified)\n",
            "\n"
          ]
        }
      ]
    },
    {
      "cell_type": "code",
      "source": [
        "write.csv(PTDM, file=\"/content/PTDM_teamPJ_DataMining.csv\")"
      ],
      "metadata": {
        "id": "U7z-gtkrXi2T"
      },
      "execution_count": null,
      "outputs": []
    },
    {
      "cell_type": "code",
      "source": [],
      "metadata": {
        "id": "4UVGe5XEXzvT"
      },
      "execution_count": null,
      "outputs": []
    }
  ]
}