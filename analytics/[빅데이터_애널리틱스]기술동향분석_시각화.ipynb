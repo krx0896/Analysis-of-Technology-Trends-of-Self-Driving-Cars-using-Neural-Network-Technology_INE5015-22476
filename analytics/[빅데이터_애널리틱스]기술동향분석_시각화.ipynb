{
  "nbformat": 4,
  "nbformat_minor": 0,
  "metadata": {
    "colab": {
      "provenance": []
    },
    "kernelspec": {
      "name": "python3",
      "display_name": "Python 3"
    },
    "language_info": {
      "name": "python"
    }
  },
  "cells": [
    {
      "cell_type": "code",
      "execution_count": null,
      "metadata": {
        "id": "xOEgCtJV_KlO"
      },
      "outputs": [],
      "source": [
        "# 사용 라이브러리\n",
        "import numpy as np\n",
        "import pandas as pd\n",
        "import seaborn as sns\n",
        "import matplotlib.pyplot as plt\n",
        "import warnings, random\n",
        "warnings.filterwarnings(action='ignore')"
      ]
    },
    {
      "cell_type": "code",
      "source": [
        "df1 = pd.read_csv(\"/content/patent_re_re.csv\")\n",
        "df2 = pd.read_csv(\"/content/patent_Enterprise_.csv\")"
      ],
      "metadata": {
        "id": "SXjkR5xNAXLr"
      },
      "execution_count": null,
      "outputs": []
    },
    {
      "cell_type": "code",
      "source": [
        "df3 = pd.read_csv(\"/content/patent_Enterprise_BranchCut.csv\")"
      ],
      "metadata": {
        "id": "Um7FL-V_D81S"
      },
      "execution_count": null,
      "outputs": []
    },
    {
      "cell_type": "code",
      "source": [
        "pd.set_option('display.max_rows', 10000)\n",
        "df1['출원인'].value_counts()"
      ],
      "metadata": {
        "colab": {
          "base_uri": "https://localhost:8080/"
        },
        "id": "j30fzQXjAg47",
        "outputId": "233696ec-ffce-489d-843a-874534bba465"
      },
      "execution_count": null,
      "outputs": [
        {
          "output_type": "execute_result",
          "data": {
            "text/plain": [
              "Uber Technologies                                                                                                                          51\n",
              "Baidu                                                                                                                                      50\n",
              "TOYOTA                                                                                                                                     49\n",
              "GM Global Technology Operations LLC                                                                                                        39\n",
              "Hyundai Motor                                                                                                                              34\n",
              "State Farm Mutual Automobile Insurance Company                                                                                             34\n",
              "Stradvision                                                                                                                                33\n",
              "TuSimple                                                                                                                                   27\n",
              "Micron Technology, Inc.                                                                                                                    24\n",
              "Waymo                                                                                                                                      21\n",
              "Robert Bosch GmbH                                                                                                                          16\n",
              "Perceptive Automata                                                                                                                        15\n",
              "Samsung Electronics                                                                                                                        15\n",
              "Aurora                                                                                                                                     15\n",
              "Intel Corporation                                                                                                                          14\n",
              "International Business Machines Corporation                                                                                                11\n",
              "Metawave Corporation                                                                                                                       11\n",
              "Motional AD                                                                                                                                11\n",
              "Tesla                                                                                                                                      10\n",
              "Zoox                                                                                                                                        9\n",
              "LG Electronics                                                                                                                              9\n",
              "Mobileye Vision                                                                                                                             7\n",
              "Built Robotics Inc.                                                                                                                         6\n",
              "Apollo Intelligent                                                                                                                          6\n",
              "Wipro Limited                                                                                                                               6\n",
              "Retrospect Technology                                                                                                                       5\n",
              "VOLKSWAGEN AG                                                                                                                               5\n",
              "nuTonomy                                                                                                                                    4\n",
              "WeRide                                                                                                                                      4\n",
              "Alpine Electronics of Silicon Valley, Inc.                                                                                                  4\n",
              "Blue River Technology Inc.                                                                                                                  4\n",
              "FORD GLOBAL TECHNOLOGIES                                                                                                                    4\n",
              "HONDA MOTOR                                                                                                                                 4\n",
              "SF Motors                                                                                                                                   4\n",
              "Huawei Technologies                                                                                                                         4\n",
              "DoorDash                                                                                                                                    3\n",
              "THE BOEING COMPANY                                                                                                                          3\n",
              "Ali Ebrahimi Afrouzi                                                                                                                        3\n",
              "Cornelius Buerkle                                                                                                                           3\n",
              "Lyft                                                                                                                                        3\n",
              "Dalong Li                                                                                                                                   3\n",
              "ZENUITY AB                                                                                                                                  3\n",
              "Mitsubishi Electric                                                                                                                         3\n",
              "EmergeX                                                                                                                                     3\n",
              "Volvo Car Corporation                                                                                                                       3\n",
              "Capital One Services                                                                                                                        3\n",
              "NEC Laboratories                                                                                                                            3\n",
              "drive.ai Inc.                                                                                                                               3\n",
              "Vinod Khosla                                                                                                                                3\n",
              "UIPCO, LLC                                                                                                                                  2\n",
              "SUBARU CORPORATION                                                                                                                          2\n",
              "American International Group, Inc.                                                                                                          2\n",
              "Schweitzer Engineering Laboratories                                                                                                         2\n",
              "SOS Lab                                                                                                                                     2\n",
              "Black Sesame Technologies                                                                                                                   2\n",
              "Cisco Technology                                                                                                                            2\n",
              "Nissan                                                                                                                                      2\n",
              "ZF Friedrichshafen AG                                                                                                                       2\n",
              "CATERPILLAR                                                                                                                                 2\n",
              "Augmented Radar Imaging                                                                                                                     2\n",
              "NXP B.V.                                                                                                                                    2\n",
              "Babu Vinod                                                                                                                                  2\n",
              "Uwe Radetzki,Dong-Uck Kong,Boris Trendafilov,Heike Bischoff,Sandra Drees                                                                    2\n",
              "Glydways, Inc.                                                                                                                              2\n",
              "Rivian IP Holdings, LLC                                                                                                                     2\n",
              "SafeAI                                                                                                                                      2\n",
              "ELECTRONICS AND TELECOMMUNICATIONS RESEARCH INSTITUTE                                                                                       2\n",
              "HRL Laboratories, LLC                                                                                                                       2\n",
              "ThorDrive, Inc.                                                                                                                             2\n",
              "Allstate Insurance Company                                                                                                                  2\n",
              "Raven Industries                                                                                                                            2\n",
              "CAS (HEFEI) INSTITUTE OF TECHNOLOGY INNOVATION                                                                                              2\n",
              "Wuhan University of Technology                                                                                                              2\n",
              "FJ Dynamics Technology Co., Ltd                                                                                                             2\n",
              "TrueLite Trace, Inc.,TrueLite Trace, Inc.                                                                                                   1\n",
              "Beijing Jingdong Qianshi Technology Co., Ltd.,JD.com American Technologies Corporation                                                      1\n",
              "The Toronto-Dominion Bank,The Toronto-Dominion Bank                                                                                         1\n",
              "The Trustees of Columbia University in the City of New York                                                                                 1\n",
              "RideFlux Inc.,RideFlux Inc.                                                                                                                 1\n",
              "Edmund S. Nabrotzky                                                                                                                         1\n",
              "HARBIN ENGINEERING UNIVERSITY,HARBIN ENGINEERING UNIVERSITY                                                                                 1\n",
              "MASTERCARD INTERNATIONAL INCORPORATED,,MASTERCARD INTERNATIONAL INCORPORATED,                                                               1\n",
              "Fujitsu Limited,Fujitsu Limited                                                                                                             1\n",
              "XIDIAN UNIVERSITY                                                                                                                           1\n",
              "EMC IP Holding Company LLC                                                                                                                  1\n",
              "Amir HANDELMAN,David GEVA                                                                                                                   1\n",
              "DGNSS SOLUTIONS, LLC                                                                                                                        1\n",
              "Beijing Tusen Weilai Technology Co., Ltd.                                                                                                   1\n",
              "Guident Ltd.                                                                                                                                1\n",
              "Baker Hughes Oilfield Operations LLC,Baker Hughes Oilfield Operations LLC                                                                   1\n",
              "SHIV P VERMA,SHAILEN VERMA                                                                                                                  1\n",
              "Zendrive, Inc.                                                                                                                              1\n",
              "Hydro-Gear Limited Partnership                                                                                                              1\n",
              "Mitchell International, Inc.,Mitchell International, Inc.                                                                                   1\n",
              "KOPERNIKUS AUTOMOTIVE GMBH                                                                                                                  1\n",
              "Autonomous Solutions, Inc.                                                                                                                  1\n",
              "Marvell Asia Pte, Ltd.                                                                                                                      1\n",
              "Optimum Semiconductor Technologies Inc.,Optimum Semiconductor Technologies Inc.                                                             1\n",
              "Apex.AI, Inc.                                                                                                                               1\n",
              "Ottopia Technologies Ltd.                                                                                                                   1\n",
              "IVEX                                                                                                                                        1\n",
              "Panasonic Intellectual Property Management Co. Ltd.                                                                                         1\n",
              "Sensible 4 Oy,Sensible 4 Oy                                                                                                                 1\n",
              "Atulya Yellepeddi,Ravi Kiran Raman,Jennifer Tang,Sefa Demirtas,Miles R. Bennett,Christopher Barber                                          1\n",
              "Dr. Ing. h.c. F. Porsche Aktiengesellschaft                                                                                                 1\n",
              "CYNGN, INC.,CYNGN, INC.                                                                                                                     1\n",
              "Air International Thermal Systems,Air International Thermal Systems                                                                         1\n",
              "MAGNA ELECTRONICS INC.                                                                                                                      1\n",
              "Coast Autonomous, Inc.                                                                                                                      1\n",
              "Bayerische Motoren Werke Aktiengesellschaft                                                                                                 1\n",
              "Meidensha Corporation,Meidensha Corporation                                                                                                 1\n",
              "Deere &#x26; Company                                                                                                                        1\n",
              "Continental Powertrain USA, LLC,Continental Powertrain USA, LLC                                                                             1\n",
              "MEGAGEN IMPLANT CO., LTD.,KYUNGPOOK NATIONAL UNIVERSITY HOSPITAL,Kyungpook National University Industry-Academic Cooperation Foundation     1\n",
              "NAVER CORPORATION,NAVER LABS CORPORATION                                                                                                    1\n",
              "Arizona Board of Regents on Behalf of Arizona State University,National Taiwan University                                                   1\n",
              "dRISK, Inc.,dRISK, Inc.                                                                                                                     1\n",
              "ABB Schweiz AG,ABB Schweiz AG                                                                                                               1\n",
              "Daimler AG                                                                                                                                  1\n",
              "CANON KABUSHIKI KAISHA                                                                                                                      1\n",
              "Texas Instruments Incorporated                                                                                                              1\n",
              "HERE Global B.V.                                                                                                                            1\n",
              "Beijing Wodong Tianjun Information Technology Co., Ltd.,JD.com American Technologies Corporation                                            1\n",
              "AUGEAN ROBOTICS, INC.                                                                                                                       1\n",
              "Korea University Research and Business Foundation,Korea University Research and Business Foundation                                         1\n",
              "Woven Planet North America, Inc.,Woven Planet North America, Inc.                                                                           1\n",
              "Methodics, Inc.,Methodics, Inc.                                                                                                             1\n",
              "GOERTEK INC.,GOERTEK INC.                                                                                                                   1\n",
              "Direct Current Capital LLC                                                                                                                  1\n",
              "Amar Srivastava,Christian Maciocco,Kshitij Arun Doshi,Ignacio J. Alvarez                                                                    1\n",
              "BEIJING VOYAGER TECHNOLOGY CO., LTD.,BEIJING VOYAGER TECHNOLOGY CO., LTD.                                                                   1\n",
              "LGN Innovations Limited                                                                                                                     1\n",
              "IKE ROBOTICS, INC.                                                                                                                          1\n",
              "Harley-Davidson Motor Company Group, LLC                                                                                                    1\n",
              "ANI TECHNOLOGIES PRIVATE LIMITED,ANI TECHNOLOGIES PRIVATE LIMITED                                                                           1\n",
              "Mission Control Space Services Inc.                                                                                                         1\n",
              "Verizon Connect Ireland Limited                                                                                                             1\n",
              "CARTICA AI LTD                                                                                                                              1\n",
              "Futurewei Technologies, Inc.                                                                                                                1\n",
              "Andreas Stihl AG &#x26; Co. KG                                                                                                              1\n",
              "Name: 출원인, dtype: int64"
            ]
          },
          "metadata": {},
          "execution_count": 60
        }
      ]
    },
    {
      "cell_type": "code",
      "source": [
        "df2['출원일자숫자'].describe()"
      ],
      "metadata": {
        "colab": {
          "base_uri": "https://localhost:8080/"
        },
        "id": "wxKncTXC5RrA",
        "outputId": "f6bb5fef-f171-486b-a954-a2467c9b066e"
      },
      "execution_count": null,
      "outputs": [
        {
          "output_type": "execute_result",
          "data": {
            "text/plain": [
              "count       35.000000\n",
              "mean     43949.057143\n",
              "std        191.285887\n",
              "min      43548.000000\n",
              "25%      43826.000000\n",
              "50%      43921.000000\n",
              "75%      44036.500000\n",
              "max      44514.000000\n",
              "Name: 출원일자숫자, dtype: float64"
            ]
          },
          "metadata": {},
          "execution_count": 61
        }
      ]
    },
    {
      "cell_type": "code",
      "source": [
        "df2['평균 인용수'].describe()"
      ],
      "metadata": {
        "colab": {
          "base_uri": "https://localhost:8080/"
        },
        "id": "Cr-oxoMk43Xm",
        "outputId": "e069fa57-d546-460e-97dc-564130aba049"
      },
      "execution_count": null,
      "outputs": [
        {
          "output_type": "execute_result",
          "data": {
            "text/plain": [
              "count     35.000000\n",
              "mean      17.216859\n",
              "std       64.344110\n",
              "min        0.000000\n",
              "25%        2.315476\n",
              "50%        3.555556\n",
              "75%        8.685185\n",
              "max      384.147059\n",
              "Name: 평균 인용수, dtype: float64"
            ]
          },
          "metadata": {},
          "execution_count": 62
        }
      ]
    },
    {
      "cell_type": "code",
      "source": [
        "df2.loc[df2['평균 인용수'] >= 300, '평균 인용수'] = 50"
      ],
      "metadata": {
        "id": "iRdk1pQ-7N_8"
      },
      "execution_count": null,
      "outputs": []
    },
    {
      "cell_type": "code",
      "source": [
        "df2['평균 인용수']"
      ],
      "metadata": {
        "colab": {
          "base_uri": "https://localhost:8080/"
        },
        "id": "5UaexwdD7meM",
        "outputId": "58361a47-d67f-4750-ae8c-fba2a0f081e8"
      },
      "execution_count": null,
      "outputs": [
        {
          "output_type": "execute_result",
          "data": {
            "text/plain": [
              "0      8.862745\n",
              "1      4.180000\n",
              "2      2.918367\n",
              "3      3.358974\n",
              "4      0.823529\n",
              "5     50.000000\n",
              "6     13.606061\n",
              "7      8.703704\n",
              "8     30.958333\n",
              "9      2.380952\n",
              "10     3.625000\n",
              "11     3.266667\n",
              "12     9.266667\n",
              "13    38.266667\n",
              "14     2.214286\n",
              "15     2.909091\n",
              "16     6.181818\n",
              "17    14.727273\n",
              "18     3.400000\n",
              "19     2.444444\n",
              "20     3.555556\n",
              "21     3.142857\n",
              "22     8.666667\n",
              "23     9.666667\n",
              "24     2.166667\n",
              "25     8.000000\n",
              "26     7.400000\n",
              "27     0.000000\n",
              "28     0.000000\n",
              "29     5.500000\n",
              "30     0.000000\n",
              "31     4.000000\n",
              "32     2.250000\n",
              "33     2.000000\n",
              "34     0.000000\n",
              "Name: 평균 인용수, dtype: float64"
            ]
          },
          "metadata": {},
          "execution_count": 64
        }
      ]
    },
    {
      "cell_type": "code",
      "source": [
        "plt.figure(figsize=(16,9))\n",
        "\n",
        "plt.scatter(df2['출원일자숫자'], # x축\n",
        "            (df2['평균 인용수']-17)/64, # y축\n",
        "            s = df2['출원수']*df2['출원수']*4, # 사이즈\n",
        "            c = 'green', # 색깔(고정)\n",
        "            alpha = 0.4) # 투명도\n",
        "\n",
        "plt.xscale('log')\n",
        "plt.xlabel('Decreasing portfolio age', size = 12)\n",
        "plt.ylabel('Increasing portfolio strength', size = 12)\n",
        "plt.title('Modelling the top 36', size = 15)\n",
        "plt.grid(True, which='major', linestyle='--', linewidth=0.5)\n",
        "plt.show()"
      ],
      "metadata": {
        "id": "BMzPDAwZAsA8",
        "colab": {
          "base_uri": "https://localhost:8080/",
          "height": 574
        },
        "outputId": "42e262e9-df11-4a01-e355-a69ebfe96b44"
      },
      "execution_count": null,
      "outputs": [
        {
          "output_type": "display_data",
          "data": {
            "text/plain": [
              "<Figure size 1152x648 with 1 Axes>"
            ],
            "image/png": "[encoded data removed]"
          },
          "metadata": {
            "needs_background": "light"
          }
        }
      ]
    },
    {
      "cell_type": "code",
      "source": [
        "import plotly.express as px\n",
        "\n",
        "fig = px.scatter(\n",
        "    x=df2[\"출원일자숫자\"], \n",
        "    y=df2[\"평균 인용수\"],\n",
        "    size=df2[\"출원수\"],  \n",
        "    hover_name=df2[\"기업명\"],\n",
        "    color=df2[\"기업명\"],\n",
        "    log_x=True, \n",
        "    title='Modelling the top 36',\n",
        "    size_max=60,\n",
        "    height=650)\n",
        "\n",
        "fig.update_layout(\n",
        "    title='Modelling the top 36',\n",
        "    xaxis=dict(\n",
        "        title='Decreasing portfolio age',\n",
        "        gridcolor='white',\n",
        "        type='log',\n",
        "        gridwidth=2,\n",
        "    ),\n",
        "    yaxis=dict(\n",
        "        title='Increasing portfolio strength',\n",
        "        gridcolor='white',\n",
        "        gridwidth=2,\n",
        "    ),\n",
        "    paper_bgcolor='rgb(243, 243, 243)',\n",
        "    plot_bgcolor='rgb(243, 243, 243)',\n",
        ")\n",
        "\n",
        "fig.show()"
      ],
      "metadata": {
        "colab": {
          "base_uri": "https://localhost:8080/",
          "height": 667
        },
        "id": "mF3ljzkF_1oJ",
        "outputId": "8aeb6346-418f-4b8f-f9da-03f18fd4c07e"
      },
      "execution_count": null,
      "outputs": [
        {
          "output_type": "display_data",
          "data": {
            "text/html": [
              "<html>\n",
              "<head><meta charset=\"utf-8\" /></head>\n",
              "<body>\n",
              "    <div>            <script src=\"https://cdnjs.cloudflare.com/ajax/libs/mathjax/2.7.5/MathJax.js?config=TeX-AMS-MML_SVG\"></script><script type=\"text/javascript\">if (window.MathJax) {MathJax.Hub.Config({SVG: {font: \"STIX-Web\"}});}</script>                <script type=\"text/javascript\">window.PlotlyConfig = {MathJaxConfig: 'local'};</script>\n",
              "        <script src=\"https://cdn.plot.ly/plotly-2.8.3.min.js\"></script>                <div id=\"aec14367-824a-4390-8a9e-731e650130d5\" class=\"plotly-graph-div\" style=\"height:650px; width:100%;\"></div>            <script type=\"text/javascript\">                                    window.PLOTLYENV=window.PLOTLYENV || {};                                    if (document.getElementById(\"aec14367-824a-4390-8a9e-731e650130d5\")) {                    Plotly.newPlot(                        \"aec14367-824a-4390-8a9e-731e650130d5\",                        [{\"hovertemplate\":\"<b>%{hovertext}</b><br><br>color=Uber Technologies<br>x=%{x}<br>y=%{y}<br>size=%{marker.size}<extra></extra>\",\"hovertext\":[\"Uber Technologies\"],\"legendgroup\":\"Uber Technologies\",\"marker\":{\"color\":\"#636efa\",\"size\":[51],\"sizemode\":\"area\",\"sizeref\":0.014166666666666666,\"symbol\":\"circle\"},\"mode\":\"markers\",\"name\":\"Uber Technologies\",\"orientation\":\"v\",\"showlegend\":true,\"x\":[43955],\"xaxis\":\"x\",\"y\":[8.862745098],\"yaxis\":\"y\",\"type\":\"scatter\"},{\"hovertemplate\":\"<b>%{hovertext}</b><br><br>color=Baidu<br>x=%{x}<br>y=%{y}<br>size=%{marker.size}<extra></extra>\",\"hovertext\":[\"Baidu\"],\"legendgroup\":\"Baidu\",\"marker\":{\"color\":\"#EF553B\",\"size\":[50],\"sizemode\":\"area\",\"sizeref\":0.014166666666666666,\"symbol\":\"circle\"},\"mode\":\"markers\",\"name\":\"Baidu\",\"orientation\":\"v\",\"showlegend\":true,\"x\":[43870],\"xaxis\":\"x\",\"y\":[4.18],\"yaxis\":\"y\",\"type\":\"scatter\"},{\"hovertemplate\":\"<b>%{hovertext}</b><br><br>color=TOYOTA<br>x=%{x}<br>y=%{y}<br>size=%{marker.size}<extra></extra>\",\"hovertext\":[\"TOYOTA\"],\"legendgroup\":\"TOYOTA\",\"marker\":{\"color\":\"#00cc96\",\"size\":[49],\"sizemode\":\"area\",\"sizeref\":0.014166666666666666,\"symbol\":\"circle\"},\"mode\":\"markers\",\"name\":\"TOYOTA\",\"orientation\":\"v\",\"showlegend\":true,\"x\":[44097],\"xaxis\":\"x\",\"y\":[2.918367347],\"yaxis\":\"y\",\"type\":\"scatter\"},{\"hovertemplate\":\"<b>%{hovertext}</b><br><br>color=GM Global Technology Operations LLC<br>x=%{x}<br>y=%{y}<br>size=%{marker.size}<extra></extra>\",\"hovertext\":[\"GM Global Technology Operations LLC\"],\"legendgroup\":\"GM Global Technology Operations LLC\",\"marker\":{\"color\":\"#ab63fa\",\"size\":[39],\"sizemode\":\"area\",\"sizeref\":0.014166666666666666,\"symbol\":\"circle\"},\"mode\":\"markers\",\"name\":\"GM Global Technology Operations LLC\",\"orientation\":\"v\",\"showlegend\":true,\"x\":[43892],\"xaxis\":\"x\",\"y\":[3.358974359],\"yaxis\":\"y\",\"type\":\"scatter\"},{\"hovertemplate\":\"<b>%{hovertext}</b><br><br>color=Hyundai Motor<br>x=%{x}<br>y=%{y}<br>size=%{marker.size}<extra></extra>\",\"hovertext\":[\"Hyundai Motor\"],\"legendgroup\":\"Hyundai Motor\",\"marker\":{\"color\":\"#FFA15A\",\"size\":[34],\"sizemode\":\"area\",\"sizeref\":0.014166666666666666,\"symbol\":\"circle\"},\"mode\":\"markers\",\"name\":\"Hyundai Motor\",\"orientation\":\"v\",\"showlegend\":true,\"x\":[44006],\"xaxis\":\"x\",\"y\":[0.823529412],\"yaxis\":\"y\",\"type\":\"scatter\"},{\"hovertemplate\":\"<b>%{hovertext}</b><br><br>color=State Farm Mutual Automobile Insurance Company<br>x=%{x}<br>y=%{y}<br>size=%{marker.size}<extra></extra>\",\"hovertext\":[\"State Farm Mutual Automobile Insurance Company\"],\"legendgroup\":\"State Farm Mutual Automobile Insurance Company\",\"marker\":{\"color\":\"#19d3f3\",\"size\":[34],\"sizemode\":\"area\",\"sizeref\":0.014166666666666666,\"symbol\":\"circle\"},\"mode\":\"markers\",\"name\":\"State Farm Mutual Automobile Insurance Company\",\"orientation\":\"v\",\"showlegend\":true,\"x\":[43952],\"xaxis\":\"x\",\"y\":[50.0],\"yaxis\":\"y\",\"type\":\"scatter\"},{\"hovertemplate\":\"<b>%{hovertext}</b><br><br>color=Stradvision<br>x=%{x}<br>y=%{y}<br>size=%{marker.size}<extra></extra>\",\"hovertext\":[\"Stradvision\"],\"legendgroup\":\"Stradvision\",\"marker\":{\"color\":\"#FF6692\",\"size\":[34],\"sizemode\":\"area\",\"sizeref\":0.014166666666666666,\"symbol\":\"circle\"},\"mode\":\"markers\",\"name\":\"Stradvision\",\"orientation\":\"v\",\"showlegend\":true,\"x\":[43820],\"xaxis\":\"x\",\"y\":[13.60606061],\"yaxis\":\"y\",\"type\":\"scatter\"},{\"hovertemplate\":\"<b>%{hovertext}</b><br><br>color=TuSimple<br>x=%{x}<br>y=%{y}<br>size=%{marker.size}<extra></extra>\",\"hovertext\":[\"TuSimple\"],\"legendgroup\":\"TuSimple\",\"marker\":{\"color\":\"#B6E880\",\"size\":[27],\"sizemode\":\"area\",\"sizeref\":0.014166666666666666,\"symbol\":\"circle\"},\"mode\":\"markers\",\"name\":\"TuSimple\",\"orientation\":\"v\",\"showlegend\":true,\"x\":[44118],\"xaxis\":\"x\",\"y\":[8.703703704],\"yaxis\":\"y\",\"type\":\"scatter\"},{\"hovertemplate\":\"<b>%{hovertext}</b><br><br>color=Micron Technology, Inc.<br>x=%{x}<br>y=%{y}<br>size=%{marker.size}<extra></extra>\",\"hovertext\":[\"Micron Technology, Inc.\"],\"legendgroup\":\"Micron Technology, Inc.\",\"marker\":{\"color\":\"#FF97FF\",\"size\":[24],\"sizemode\":\"area\",\"sizeref\":0.014166666666666666,\"symbol\":\"circle\"},\"mode\":\"markers\",\"name\":\"Micron Technology, Inc.\",\"orientation\":\"v\",\"showlegend\":true,\"x\":[43986],\"xaxis\":\"x\",\"y\":[30.95833333],\"yaxis\":\"y\",\"type\":\"scatter\"},{\"hovertemplate\":\"<b>%{hovertext}</b><br><br>color=Waymo<br>x=%{x}<br>y=%{y}<br>size=%{marker.size}<extra></extra>\",\"hovertext\":[\"Waymo\"],\"legendgroup\":\"Waymo\",\"marker\":{\"color\":\"#FECB52\",\"size\":[21],\"sizemode\":\"area\",\"sizeref\":0.014166666666666666,\"symbol\":\"circle\"},\"mode\":\"markers\",\"name\":\"Waymo\",\"orientation\":\"v\",\"showlegend\":true,\"x\":[44123],\"xaxis\":\"x\",\"y\":[2.380952381],\"yaxis\":\"y\",\"type\":\"scatter\"},{\"hovertemplate\":\"<b>%{hovertext}</b><br><br>color=Robert Bosch GmbH<br>x=%{x}<br>y=%{y}<br>size=%{marker.size}<extra></extra>\",\"hovertext\":[\"Robert Bosch GmbH\"],\"legendgroup\":\"Robert Bosch GmbH\",\"marker\":{\"color\":\"#636efa\",\"size\":[16],\"sizemode\":\"area\",\"sizeref\":0.014166666666666666,\"symbol\":\"circle\"},\"mode\":\"markers\",\"name\":\"Robert Bosch GmbH\",\"orientation\":\"v\",\"showlegend\":true,\"x\":[43832],\"xaxis\":\"x\",\"y\":[3.625],\"yaxis\":\"y\",\"type\":\"scatter\"},{\"hovertemplate\":\"<b>%{hovertext}</b><br><br>color=Perceptive Automata<br>x=%{x}<br>y=%{y}<br>size=%{marker.size}<extra></extra>\",\"hovertext\":[\"Perceptive Automata\"],\"legendgroup\":\"Perceptive Automata\",\"marker\":{\"color\":\"#EF553B\",\"size\":[15],\"sizemode\":\"area\",\"sizeref\":0.014166666666666666,\"symbol\":\"circle\"},\"mode\":\"markers\",\"name\":\"Perceptive Automata\",\"orientation\":\"v\",\"showlegend\":true,\"x\":[44027],\"xaxis\":\"x\",\"y\":[3.266666667],\"yaxis\":\"y\",\"type\":\"scatter\"},{\"hovertemplate\":\"<b>%{hovertext}</b><br><br>color=Samsung Electronics<br>x=%{x}<br>y=%{y}<br>size=%{marker.size}<extra></extra>\",\"hovertext\":[\"Samsung Electronics\"],\"legendgroup\":\"Samsung Electronics\",\"marker\":{\"color\":\"#00cc96\",\"size\":[15],\"sizemode\":\"area\",\"sizeref\":0.014166666666666666,\"symbol\":\"circle\"},\"mode\":\"markers\",\"name\":\"Samsung Electronics\",\"orientation\":\"v\",\"showlegend\":true,\"x\":[43769],\"xaxis\":\"x\",\"y\":[9.266666667],\"yaxis\":\"y\",\"type\":\"scatter\"},{\"hovertemplate\":\"<b>%{hovertext}</b><br><br>color=Aurora<br>x=%{x}<br>y=%{y}<br>size=%{marker.size}<extra></extra>\",\"hovertext\":[\"Aurora\"],\"legendgroup\":\"Aurora\",\"marker\":{\"color\":\"#ab63fa\",\"size\":[15],\"sizemode\":\"area\",\"sizeref\":0.014166666666666666,\"symbol\":\"circle\"},\"mode\":\"markers\",\"name\":\"Aurora\",\"orientation\":\"v\",\"showlegend\":true,\"x\":[43897],\"xaxis\":\"x\",\"y\":[38.26666667],\"yaxis\":\"y\",\"type\":\"scatter\"},{\"hovertemplate\":\"<b>%{hovertext}</b><br><br>color=Intel Corporation<br>x=%{x}<br>y=%{y}<br>size=%{marker.size}<extra></extra>\",\"hovertext\":[\"Intel Corporation\"],\"legendgroup\":\"Intel Corporation\",\"marker\":{\"color\":\"#FFA15A\",\"size\":[14],\"sizemode\":\"area\",\"sizeref\":0.014166666666666666,\"symbol\":\"circle\"},\"mode\":\"markers\",\"name\":\"Intel Corporation\",\"orientation\":\"v\",\"showlegend\":true,\"x\":[43954],\"xaxis\":\"x\",\"y\":[2.214285714],\"yaxis\":\"y\",\"type\":\"scatter\"},{\"hovertemplate\":\"<b>%{hovertext}</b><br><br>color=International Business Machines Corporation<br>x=%{x}<br>y=%{y}<br>size=%{marker.size}<extra></extra>\",\"hovertext\":[\"International Business Machines Corporation\"],\"legendgroup\":\"International Business Machines Corporation\",\"marker\":{\"color\":\"#19d3f3\",\"size\":[11],\"sizemode\":\"area\",\"sizeref\":0.014166666666666666,\"symbol\":\"circle\"},\"mode\":\"markers\",\"name\":\"International Business Machines Corporation\",\"orientation\":\"v\",\"showlegend\":true,\"x\":[43852],\"xaxis\":\"x\",\"y\":[2.909090909],\"yaxis\":\"y\",\"type\":\"scatter\"},{\"hovertemplate\":\"<b>%{hovertext}</b><br><br>color=Metawave Corporation<br>x=%{x}<br>y=%{y}<br>size=%{marker.size}<extra></extra>\",\"hovertext\":[\"Metawave Corporation\"],\"legendgroup\":\"Metawave Corporation\",\"marker\":{\"color\":\"#FF6692\",\"size\":[11],\"sizemode\":\"area\",\"sizeref\":0.014166666666666666,\"symbol\":\"circle\"},\"mode\":\"markers\",\"name\":\"Metawave Corporation\",\"orientation\":\"v\",\"showlegend\":true,\"x\":[43801],\"xaxis\":\"x\",\"y\":[6.181818182],\"yaxis\":\"y\",\"type\":\"scatter\"},{\"hovertemplate\":\"<b>%{hovertext}</b><br><br>color=Motional AD<br>x=%{x}<br>y=%{y}<br>size=%{marker.size}<extra></extra>\",\"hovertext\":[\"Motional AD\"],\"legendgroup\":\"Motional AD\",\"marker\":{\"color\":\"#B6E880\",\"size\":[11],\"sizemode\":\"area\",\"sizeref\":0.014166666666666666,\"symbol\":\"circle\"},\"mode\":\"markers\",\"name\":\"Motional AD\",\"orientation\":\"v\",\"showlegend\":true,\"x\":[44277],\"xaxis\":\"x\",\"y\":[14.72727273],\"yaxis\":\"y\",\"type\":\"scatter\"},{\"hovertemplate\":\"<b>%{hovertext}</b><br><br>color=Tesla<br>x=%{x}<br>y=%{y}<br>size=%{marker.size}<extra></extra>\",\"hovertext\":[\"Tesla\"],\"legendgroup\":\"Tesla\",\"marker\":{\"color\":\"#FF97FF\",\"size\":[10],\"sizemode\":\"area\",\"sizeref\":0.014166666666666666,\"symbol\":\"circle\"},\"mode\":\"markers\",\"name\":\"Tesla\",\"orientation\":\"v\",\"showlegend\":true,\"x\":[43899],\"xaxis\":\"x\",\"y\":[3.4],\"yaxis\":\"y\",\"type\":\"scatter\"},{\"hovertemplate\":\"<b>%{hovertext}</b><br><br>color=Zoox<br>x=%{x}<br>y=%{y}<br>size=%{marker.size}<extra></extra>\",\"hovertext\":[\"Zoox\"],\"legendgroup\":\"Zoox\",\"marker\":{\"color\":\"#FECB52\",\"size\":[9],\"sizemode\":\"area\",\"sizeref\":0.014166666666666666,\"symbol\":\"circle\"},\"mode\":\"markers\",\"name\":\"Zoox\",\"orientation\":\"v\",\"showlegend\":true,\"x\":[43921],\"xaxis\":\"x\",\"y\":[2.444444444],\"yaxis\":\"y\",\"type\":\"scatter\"},{\"hovertemplate\":\"<b>%{hovertext}</b><br><br>color=LG Electronics<br>x=%{x}<br>y=%{y}<br>size=%{marker.size}<extra></extra>\",\"hovertext\":[\"LG Electronics\"],\"legendgroup\":\"LG Electronics\",\"marker\":{\"color\":\"#636efa\",\"size\":[9],\"sizemode\":\"area\",\"sizeref\":0.014166666666666666,\"symbol\":\"circle\"},\"mode\":\"markers\",\"name\":\"LG Electronics\",\"orientation\":\"v\",\"showlegend\":true,\"x\":[43701],\"xaxis\":\"x\",\"y\":[3.555555556],\"yaxis\":\"y\",\"type\":\"scatter\"},{\"hovertemplate\":\"<b>%{hovertext}</b><br><br>color=Mobileye Vision<br>x=%{x}<br>y=%{y}<br>size=%{marker.size}<extra></extra>\",\"hovertext\":[\"Mobileye Vision\"],\"legendgroup\":\"Mobileye Vision\",\"marker\":{\"color\":\"#EF553B\",\"size\":[7],\"sizemode\":\"area\",\"sizeref\":0.014166666666666666,\"symbol\":\"circle\"},\"mode\":\"markers\",\"name\":\"Mobileye Vision\",\"orientation\":\"v\",\"showlegend\":true,\"x\":[44007],\"xaxis\":\"x\",\"y\":[3.142857143],\"yaxis\":\"y\",\"type\":\"scatter\"},{\"hovertemplate\":\"<b>%{hovertext}</b><br><br>color=Built Robotics Inc.<br>x=%{x}<br>y=%{y}<br>size=%{marker.size}<extra></extra>\",\"hovertext\":[\"Built Robotics Inc.\"],\"legendgroup\":\"Built Robotics Inc.\",\"marker\":{\"color\":\"#00cc96\",\"size\":[6],\"sizemode\":\"area\",\"sizeref\":0.014166666666666666,\"symbol\":\"circle\"},\"mode\":\"markers\",\"name\":\"Built Robotics Inc.\",\"orientation\":\"v\",\"showlegend\":true,\"x\":[44272],\"xaxis\":\"x\",\"y\":[8.666666667],\"yaxis\":\"y\",\"type\":\"scatter\"},{\"hovertemplate\":\"<b>%{hovertext}</b><br><br>color=Apollo Intelligent<br>x=%{x}<br>y=%{y}<br>size=%{marker.size}<extra></extra>\",\"hovertext\":[\"Apollo Intelligent\"],\"legendgroup\":\"Apollo Intelligent\",\"marker\":{\"color\":\"#ab63fa\",\"size\":[6],\"sizemode\":\"area\",\"sizeref\":0.014166666666666666,\"symbol\":\"circle\"},\"mode\":\"markers\",\"name\":\"Apollo Intelligent\",\"orientation\":\"v\",\"showlegend\":true,\"x\":[44064],\"xaxis\":\"x\",\"y\":[9.666666667],\"yaxis\":\"y\",\"type\":\"scatter\"},{\"hovertemplate\":\"<b>%{hovertext}</b><br><br>color=Wipro Limited<br>x=%{x}<br>y=%{y}<br>size=%{marker.size}<extra></extra>\",\"hovertext\":[\"Wipro Limited\"],\"legendgroup\":\"Wipro Limited\",\"marker\":{\"color\":\"#FFA15A\",\"size\":[6],\"sizemode\":\"area\",\"sizeref\":0.014166666666666666,\"symbol\":\"circle\"},\"mode\":\"markers\",\"name\":\"Wipro Limited\",\"orientation\":\"v\",\"showlegend\":true,\"x\":[44046],\"xaxis\":\"x\",\"y\":[2.166666667],\"yaxis\":\"y\",\"type\":\"scatter\"},{\"hovertemplate\":\"<b>%{hovertext}</b><br><br>color=Retrospect Technology<br>x=%{x}<br>y=%{y}<br>size=%{marker.size}<extra></extra>\",\"hovertext\":[\"Retrospect Technology\"],\"legendgroup\":\"Retrospect Technology\",\"marker\":{\"color\":\"#19d3f3\",\"size\":[5],\"sizemode\":\"area\",\"sizeref\":0.014166666666666666,\"symbol\":\"circle\"},\"mode\":\"markers\",\"name\":\"Retrospect Technology\",\"orientation\":\"v\",\"showlegend\":true,\"x\":[43788],\"xaxis\":\"x\",\"y\":[8.0],\"yaxis\":\"y\",\"type\":\"scatter\"},{\"hovertemplate\":\"<b>%{hovertext}</b><br><br>color=VOLKSWAGEN AG<br>x=%{x}<br>y=%{y}<br>size=%{marker.size}<extra></extra>\",\"hovertext\":[\"VOLKSWAGEN AG\"],\"legendgroup\":\"VOLKSWAGEN AG\",\"marker\":{\"color\":\"#FF6692\",\"size\":[5],\"sizemode\":\"area\",\"sizeref\":0.014166666666666666,\"symbol\":\"circle\"},\"mode\":\"markers\",\"name\":\"VOLKSWAGEN AG\",\"orientation\":\"v\",\"showlegend\":true,\"x\":[43732],\"xaxis\":\"x\",\"y\":[7.4],\"yaxis\":\"y\",\"type\":\"scatter\"},{\"hovertemplate\":\"<b>%{hovertext}</b><br><br>color=nuTonomy<br>x=%{x}<br>y=%{y}<br>size=%{marker.size}<extra></extra>\",\"hovertext\":[\"nuTonomy\"],\"legendgroup\":\"nuTonomy\",\"marker\":{\"color\":\"#B6E880\",\"size\":[4],\"sizemode\":\"area\",\"sizeref\":0.014166666666666666,\"symbol\":\"circle\"},\"mode\":\"markers\",\"name\":\"nuTonomy\",\"orientation\":\"v\",\"showlegend\":true,\"x\":[43786],\"xaxis\":\"x\",\"y\":[0.0],\"yaxis\":\"y\",\"type\":\"scatter\"},{\"hovertemplate\":\"<b>%{hovertext}</b><br><br>color=WeRide<br>x=%{x}<br>y=%{y}<br>size=%{marker.size}<extra></extra>\",\"hovertext\":[\"WeRide\"],\"legendgroup\":\"WeRide\",\"marker\":{\"color\":\"#FF97FF\",\"size\":[4],\"sizemode\":\"area\",\"sizeref\":0.014166666666666666,\"symbol\":\"circle\"},\"mode\":\"markers\",\"name\":\"WeRide\",\"orientation\":\"v\",\"showlegend\":true,\"x\":[43884],\"xaxis\":\"x\",\"y\":[0.0],\"yaxis\":\"y\",\"type\":\"scatter\"},{\"hovertemplate\":\"<b>%{hovertext}</b><br><br>color=Alpine Electronics of Silicon Valley, Inc.<br>x=%{x}<br>y=%{y}<br>size=%{marker.size}<extra></extra>\",\"hovertext\":[\"Alpine Electronics of Silicon Valley, Inc.\"],\"legendgroup\":\"Alpine Electronics of Silicon Valley, Inc.\",\"marker\":{\"color\":\"#FECB52\",\"size\":[4],\"sizemode\":\"area\",\"sizeref\":0.014166666666666666,\"symbol\":\"circle\"},\"mode\":\"markers\",\"name\":\"Alpine Electronics of Silicon Valley, Inc.\",\"orientation\":\"v\",\"showlegend\":true,\"x\":[43903],\"xaxis\":\"x\",\"y\":[5.5],\"yaxis\":\"y\",\"type\":\"scatter\"},{\"hovertemplate\":\"<b>%{hovertext}</b><br><br>color=Blue River Technology Inc.<br>x=%{x}<br>y=%{y}<br>size=%{marker.size}<extra></extra>\",\"hovertext\":[\"Blue River Technology Inc.\"],\"legendgroup\":\"Blue River Technology Inc.\",\"marker\":{\"color\":\"#636efa\",\"size\":[4],\"sizemode\":\"area\",\"sizeref\":0.014166666666666666,\"symbol\":\"circle\"},\"mode\":\"markers\",\"name\":\"Blue River Technology Inc.\",\"orientation\":\"v\",\"showlegend\":true,\"x\":[44252],\"xaxis\":\"x\",\"y\":[0.0],\"yaxis\":\"y\",\"type\":\"scatter\"},{\"hovertemplate\":\"<b>%{hovertext}</b><br><br>color=FORD GLOBAL TECHNOLOGIES<br>x=%{x}<br>y=%{y}<br>size=%{marker.size}<extra></extra>\",\"hovertext\":[\"FORD GLOBAL TECHNOLOGIES\"],\"legendgroup\":\"FORD GLOBAL TECHNOLOGIES\",\"marker\":{\"color\":\"#EF553B\",\"size\":[4],\"sizemode\":\"area\",\"sizeref\":0.014166666666666666,\"symbol\":\"circle\"},\"mode\":\"markers\",\"name\":\"FORD GLOBAL TECHNOLOGIES\",\"orientation\":\"v\",\"showlegend\":true,\"x\":[43978],\"xaxis\":\"x\",\"y\":[4.0],\"yaxis\":\"y\",\"type\":\"scatter\"},{\"hovertemplate\":\"<b>%{hovertext}</b><br><br>color=HONDA MOTOR<br>x=%{x}<br>y=%{y}<br>size=%{marker.size}<extra></extra>\",\"hovertext\":[\"HONDA MOTOR\"],\"legendgroup\":\"HONDA MOTOR\",\"marker\":{\"color\":\"#00cc96\",\"size\":[4],\"sizemode\":\"area\",\"sizeref\":0.014166666666666666,\"symbol\":\"circle\"},\"mode\":\"markers\",\"name\":\"HONDA MOTOR\",\"orientation\":\"v\",\"showlegend\":true,\"x\":[43694],\"xaxis\":\"x\",\"y\":[2.25],\"yaxis\":\"y\",\"type\":\"scatter\"},{\"hovertemplate\":\"<b>%{hovertext}</b><br><br>color=SF Motors<br>x=%{x}<br>y=%{y}<br>size=%{marker.size}<extra></extra>\",\"hovertext\":[\"SF Motors\"],\"legendgroup\":\"SF Motors\",\"marker\":{\"color\":\"#ab63fa\",\"size\":[4],\"sizemode\":\"area\",\"sizeref\":0.014166666666666666,\"symbol\":\"circle\"},\"mode\":\"markers\",\"name\":\"SF Motors\",\"orientation\":\"v\",\"showlegend\":true,\"x\":[43548],\"xaxis\":\"x\",\"y\":[2.0],\"yaxis\":\"y\",\"type\":\"scatter\"},{\"hovertemplate\":\"<b>%{hovertext}</b><br><br>color=Huawei Technologies<br>x=%{x}<br>y=%{y}<br>size=%{marker.size}<extra></extra>\",\"hovertext\":[\"Huawei Technologies\"],\"legendgroup\":\"Huawei Technologies\",\"marker\":{\"color\":\"#FFA15A\",\"size\":[4],\"sizemode\":\"area\",\"sizeref\":0.014166666666666666,\"symbol\":\"circle\"},\"mode\":\"markers\",\"name\":\"Huawei Technologies\",\"orientation\":\"v\",\"showlegend\":true,\"x\":[44514],\"xaxis\":\"x\",\"y\":[0.0],\"yaxis\":\"y\",\"type\":\"scatter\"}],                        {\"template\":{\"data\":{\"bar\":[{\"error_x\":{\"color\":\"#2a3f5f\"},\"error_y\":{\"color\":\"#2a3f5f\"},\"marker\":{\"line\":{\"color\":\"#E5ECF6\",\"width\":0.5},\"pattern\":{\"fillmode\":\"overlay\",\"size\":10,\"solidity\":0.2}},\"type\":\"bar\"}],\"barpolar\":[{\"marker\":{\"line\":{\"color\":\"#E5ECF6\",\"width\":0.5},\"pattern\":{\"fillmode\":\"overlay\",\"size\":10,\"solidity\":0.2}},\"type\":\"barpolar\"}],\"carpet\":[{\"aaxis\":{\"endlinecolor\":\"#2a3f5f\",\"gridcolor\":\"white\",\"linecolor\":\"white\",\"minorgridcolor\":\"white\",\"startlinecolor\":\"#2a3f5f\"},\"baxis\":{\"endlinecolor\":\"#2a3f5f\",\"gridcolor\":\"white\",\"linecolor\":\"white\",\"minorgridcolor\":\"white\",\"startlinecolor\":\"#2a3f5f\"},\"type\":\"carpet\"}],\"choropleth\":[{\"colorbar\":{\"outlinewidth\":0,\"ticks\":\"\"},\"type\":\"choropleth\"}],\"contour\":[{\"colorbar\":{\"outlinewidth\":0,\"ticks\":\"\"},\"colorscale\":[[0.0,\"#0d0887\"],[0.1111111111111111,\"#46039f\"],[0.2222222222222222,\"#7201a8\"],[0.3333333333333333,\"#9c179e\"],[0.4444444444444444,\"#bd3786\"],[0.5555555555555556,\"#d8576b\"],[0.6666666666666666,\"#ed7953\"],[0.7777777777777778,\"#fb9f3a\"],[0.8888888888888888,\"#fdca26\"],[1.0,\"#f0f921\"]],\"type\":\"contour\"}],\"contourcarpet\":[{\"colorbar\":{\"outlinewidth\":0,\"ticks\":\"\"},\"type\":\"contourcarpet\"}],\"heatmap\":[{\"colorbar\":{\"outlinewidth\":0,\"ticks\":\"\"},\"colorscale\":[[0.0,\"#0d0887\"],[0.1111111111111111,\"#46039f\"],[0.2222222222222222,\"#7201a8\"],[0.3333333333333333,\"#9c179e\"],[0.4444444444444444,\"#bd3786\"],[0.5555555555555556,\"#d8576b\"],[0.6666666666666666,\"#ed7953\"],[0.7777777777777778,\"#fb9f3a\"],[0.8888888888888888,\"#fdca26\"],[1.0,\"#f0f921\"]],\"type\":\"heatmap\"}],\"heatmapgl\":[{\"colorbar\":{\"outlinewidth\":0,\"ticks\":\"\"},\"colorscale\":[[0.0,\"#0d0887\"],[0.1111111111111111,\"#46039f\"],[0.2222222222222222,\"#7201a8\"],[0.3333333333333333,\"#9c179e\"],[0.4444444444444444,\"#bd3786\"],[0.5555555555555556,\"#d8576b\"],[0.6666666666666666,\"#ed7953\"],[0.7777777777777778,\"#fb9f3a\"],[0.8888888888888888,\"#fdca26\"],[1.0,\"#f0f921\"]],\"type\":\"heatmapgl\"}],\"histogram\":[{\"marker\":{\"pattern\":{\"fillmode\":\"overlay\",\"size\":10,\"solidity\":0.2}},\"type\":\"histogram\"}],\"histogram2d\":[{\"colorbar\":{\"outlinewidth\":0,\"ticks\":\"\"},\"colorscale\":[[0.0,\"#0d0887\"],[0.1111111111111111,\"#46039f\"],[0.2222222222222222,\"#7201a8\"],[0.3333333333333333,\"#9c179e\"],[0.4444444444444444,\"#bd3786\"],[0.5555555555555556,\"#d8576b\"],[0.6666666666666666,\"#ed7953\"],[0.7777777777777778,\"#fb9f3a\"],[0.8888888888888888,\"#fdca26\"],[1.0,\"#f0f921\"]],\"type\":\"histogram2d\"}],\"histogram2dcontour\":[{\"colorbar\":{\"outlinewidth\":0,\"ticks\":\"\"},\"colorscale\":[[0.0,\"#0d0887\"],[0.1111111111111111,\"#46039f\"],[0.2222222222222222,\"#7201a8\"],[0.3333333333333333,\"#9c179e\"],[0.4444444444444444,\"#bd3786\"],[0.5555555555555556,\"#d8576b\"],[0.6666666666666666,\"#ed7953\"],[0.7777777777777778,\"#fb9f3a\"],[0.8888888888888888,\"#fdca26\"],[1.0,\"#f0f921\"]],\"type\":\"histogram2dcontour\"}],\"mesh3d\":[{\"colorbar\":{\"outlinewidth\":0,\"ticks\":\"\"},\"type\":\"mesh3d\"}],\"parcoords\":[{\"line\":{\"colorbar\":{\"outlinewidth\":0,\"ticks\":\"\"}},\"type\":\"parcoords\"}],\"pie\":[{\"automargin\":true,\"type\":\"pie\"}],\"scatter\":[{\"marker\":{\"colorbar\":{\"outlinewidth\":0,\"ticks\":\"\"}},\"type\":\"scatter\"}],\"scatter3d\":[{\"line\":{\"colorbar\":{\"outlinewidth\":0,\"ticks\":\"\"}},\"marker\":{\"colorbar\":{\"outlinewidth\":0,\"ticks\":\"\"}},\"type\":\"scatter3d\"}],\"scattercarpet\":[{\"marker\":{\"colorbar\":{\"outlinewidth\":0,\"ticks\":\"\"}},\"type\":\"scattercarpet\"}],\"scattergeo\":[{\"marker\":{\"colorbar\":{\"outlinewidth\":0,\"ticks\":\"\"}},\"type\":\"scattergeo\"}],\"scattergl\":[{\"marker\":{\"colorbar\":{\"outlinewidth\":0,\"ticks\":\"\"}},\"type\":\"scattergl\"}],\"scattermapbox\":[{\"marker\":{\"colorbar\":{\"outlinewidth\":0,\"ticks\":\"\"}},\"type\":\"scattermapbox\"}],\"scatterpolar\":[{\"marker\":{\"colorbar\":{\"outlinewidth\":0,\"ticks\":\"\"}},\"type\":\"scatterpolar\"}],\"scatterpolargl\":[{\"marker\":{\"colorbar\":{\"outlinewidth\":0,\"ticks\":\"\"}},\"type\":\"scatterpolargl\"}],\"scatterternary\":[{\"marker\":{\"colorbar\":{\"outlinewidth\":0,\"ticks\":\"\"}},\"type\":\"scatterternary\"}],\"surface\":[{\"colorbar\":{\"outlinewidth\":0,\"ticks\":\"\"},\"colorscale\":[[0.0,\"#0d0887\"],[0.1111111111111111,\"#46039f\"],[0.2222222222222222,\"#7201a8\"],[0.3333333333333333,\"#9c179e\"],[0.4444444444444444,\"#bd3786\"],[0.5555555555555556,\"#d8576b\"],[0.6666666666666666,\"#ed7953\"],[0.7777777777777778,\"#fb9f3a\"],[0.8888888888888888,\"#fdca26\"],[1.0,\"#f0f921\"]],\"type\":\"surface\"}],\"table\":[{\"cells\":{\"fill\":{\"color\":\"#EBF0F8\"},\"line\":{\"color\":\"white\"}},\"header\":{\"fill\":{\"color\":\"#C8D4E3\"},\"line\":{\"color\":\"white\"}},\"type\":\"table\"}]},\"layout\":{\"annotationdefaults\":{\"arrowcolor\":\"#2a3f5f\",\"arrowhead\":0,\"arrowwidth\":1},\"autotypenumbers\":\"strict\",\"coloraxis\":{\"colorbar\":{\"outlinewidth\":0,\"ticks\":\"\"}},\"colorscale\":{\"diverging\":[[0,\"#8e0152\"],[0.1,\"#c51b7d\"],[0.2,\"#de77ae\"],[0.3,\"#f1b6da\"],[0.4,\"#fde0ef\"],[0.5,\"#f7f7f7\"],[0.6,\"#e6f5d0\"],[0.7,\"#b8e186\"],[0.8,\"#7fbc41\"],[0.9,\"#4d9221\"],[1,\"#276419\"]],\"sequential\":[[0.0,\"#0d0887\"],[0.1111111111111111,\"#46039f\"],[0.2222222222222222,\"#7201a8\"],[0.3333333333333333,\"#9c179e\"],[0.4444444444444444,\"#bd3786\"],[0.5555555555555556,\"#d8576b\"],[0.6666666666666666,\"#ed7953\"],[0.7777777777777778,\"#fb9f3a\"],[0.8888888888888888,\"#fdca26\"],[1.0,\"#f0f921\"]],\"sequentialminus\":[[0.0,\"#0d0887\"],[0.1111111111111111,\"#46039f\"],[0.2222222222222222,\"#7201a8\"],[0.3333333333333333,\"#9c179e\"],[0.4444444444444444,\"#bd3786\"],[0.5555555555555556,\"#d8576b\"],[0.6666666666666666,\"#ed7953\"],[0.7777777777777778,\"#fb9f3a\"],[0.8888888888888888,\"#fdca26\"],[1.0,\"#f0f921\"]]},\"colorway\":[\"#636efa\",\"#EF553B\",\"#00cc96\",\"#ab63fa\",\"#FFA15A\",\"#19d3f3\",\"#FF6692\",\"#B6E880\",\"#FF97FF\",\"#FECB52\"],\"font\":{\"color\":\"#2a3f5f\"},\"geo\":{\"bgcolor\":\"white\",\"lakecolor\":\"white\",\"landcolor\":\"#E5ECF6\",\"showlakes\":true,\"showland\":true,\"subunitcolor\":\"white\"},\"hoverlabel\":{\"align\":\"left\"},\"hovermode\":\"closest\",\"mapbox\":{\"style\":\"light\"},\"paper_bgcolor\":\"white\",\"plot_bgcolor\":\"#E5ECF6\",\"polar\":{\"angularaxis\":{\"gridcolor\":\"white\",\"linecolor\":\"white\",\"ticks\":\"\"},\"bgcolor\":\"#E5ECF6\",\"radialaxis\":{\"gridcolor\":\"white\",\"linecolor\":\"white\",\"ticks\":\"\"}},\"scene\":{\"xaxis\":{\"backgroundcolor\":\"#E5ECF6\",\"gridcolor\":\"white\",\"gridwidth\":2,\"linecolor\":\"white\",\"showbackground\":true,\"ticks\":\"\",\"zerolinecolor\":\"white\"},\"yaxis\":{\"backgroundcolor\":\"#E5ECF6\",\"gridcolor\":\"white\",\"gridwidth\":2,\"linecolor\":\"white\",\"showbackground\":true,\"ticks\":\"\",\"zerolinecolor\":\"white\"},\"zaxis\":{\"backgroundcolor\":\"#E5ECF6\",\"gridcolor\":\"white\",\"gridwidth\":2,\"linecolor\":\"white\",\"showbackground\":true,\"ticks\":\"\",\"zerolinecolor\":\"white\"}},\"shapedefaults\":{\"line\":{\"color\":\"#2a3f5f\"}},\"ternary\":{\"aaxis\":{\"gridcolor\":\"white\",\"linecolor\":\"white\",\"ticks\":\"\"},\"baxis\":{\"gridcolor\":\"white\",\"linecolor\":\"white\",\"ticks\":\"\"},\"bgcolor\":\"#E5ECF6\",\"caxis\":{\"gridcolor\":\"white\",\"linecolor\":\"white\",\"ticks\":\"\"}},\"title\":{\"x\":0.05},\"xaxis\":{\"automargin\":true,\"gridcolor\":\"white\",\"linecolor\":\"white\",\"ticks\":\"\",\"title\":{\"standoff\":15},\"zerolinecolor\":\"white\",\"zerolinewidth\":2},\"yaxis\":{\"automargin\":true,\"gridcolor\":\"white\",\"linecolor\":\"white\",\"ticks\":\"\",\"title\":{\"standoff\":15},\"zerolinecolor\":\"white\",\"zerolinewidth\":2}}},\"xaxis\":{\"anchor\":\"y\",\"domain\":[0.0,1.0],\"title\":{\"text\":\"Decreasing portfolio age\"},\"type\":\"log\",\"gridcolor\":\"white\",\"gridwidth\":2},\"yaxis\":{\"anchor\":\"x\",\"domain\":[0.0,1.0],\"title\":{\"text\":\"Increasing portfolio strength\"},\"gridcolor\":\"white\",\"gridwidth\":2},\"legend\":{\"title\":{\"text\":\"color\"},\"tracegroupgap\":0,\"itemsizing\":\"constant\"},\"title\":{\"text\":\"Modelling the top 36\"},\"height\":650,\"paper_bgcolor\":\"rgb(243, 243, 243)\",\"plot_bgcolor\":\"rgb(243, 243, 243)\"},                        {\"responsive\": true}                    ).then(function(){\n",
              "                            \n",
              "var gd = document.getElementById('aec14367-824a-4390-8a9e-731e650130d5');\n",
              "var x = new MutationObserver(function (mutations, observer) {{\n",
              "        var display = window.getComputedStyle(gd).display;\n",
              "        if (!display || display === 'none') {{\n",
              "            console.log([gd, 'removed!']);\n",
              "            Plotly.purge(gd);\n",
              "            observer.disconnect();\n",
              "        }}\n",
              "}});\n",
              "\n",
              "// Listen for the removal of the full notebook cells\n",
              "var notebookContainer = gd.closest('#notebook-container');\n",
              "if (notebookContainer) {{\n",
              "    x.observe(notebookContainer, {childList: true});\n",
              "}}\n",
              "\n",
              "// Listen for the clearing of the current output cell\n",
              "var outputEl = gd.closest('.output');\n",
              "if (outputEl) {{\n",
              "    x.observe(outputEl, {childList: true});\n",
              "}}\n",
              "\n",
              "                        })                };                            </script>        </div>\n",
              "</body>\n",
              "</html>"
            ]
          },
          "metadata": {}
        }
      ]
    },
    {
      "cell_type": "code",
      "source": [
        "df_hyundai = pd.DataFrame({'기업명':[\"Hyundai Motor&Motional AD\"], '출원수': [45], '평균출원일자':['2020-08-29'], '평균 인용수': [4.2222222], '출원일자숫자':[44072]})"
      ],
      "metadata": {
        "id": "zpLLFFz0_1lz"
      },
      "execution_count": null,
      "outputs": []
    },
    {
      "cell_type": "code",
      "source": [
        "df2 = df2.append(df_hyundai, ignore_index = True)"
      ],
      "metadata": {
        "id": "Wugi4GKYzLUt"
      },
      "execution_count": null,
      "outputs": []
    },
    {
      "cell_type": "code",
      "source": [
        "import plotly.express as px\n",
        "\n",
        "fig = px.scatter(\n",
        "    x=df2[\"출원일자숫자\"], \n",
        "    y=df2[\"평균 인용수\"],\n",
        "    size=df2[\"출원수\"],  \n",
        "    hover_name=df2[\"기업명\"],\n",
        "    color=df2[\"기업명\"],\n",
        "    log_x=True, \n",
        "    title='Modelling the top 36',\n",
        "    size_max=60,\n",
        "    height=650)\n",
        "\n",
        "fig.update_layout(\n",
        "    title='Modelling the top 36',\n",
        "    xaxis=dict(\n",
        "        title='Decreasing portfolio age',\n",
        "        gridcolor='white',\n",
        "        type='log',\n",
        "        gridwidth=2,\n",
        "    ),\n",
        "    yaxis=dict(\n",
        "        title='Increasing portfolio strength',\n",
        "        gridcolor='white',\n",
        "        gridwidth=2,\n",
        "    ),\n",
        "    paper_bgcolor='rgb(243, 243, 243)',\n",
        "    plot_bgcolor='rgb(243, 243, 243)',\n",
        ")\n",
        "\n",
        "fig.show()"
      ],
      "metadata": {
        "id": "yNQFrxDD_1jc",
        "colab": {
          "base_uri": "https://localhost:8080/",
          "height": 667
        },
        "outputId": "20efb410-46ba-4779-d1f8-a39fd5307c03"
      },
      "execution_count": null,
      "outputs": [
        {
          "output_type": "display_data",
          "data": {
            "text/html": [
              "<html>\n",
              "<head><meta charset=\"utf-8\" /></head>\n",
              "<body>\n",
              "    <div>            <script src=\"https://cdnjs.cloudflare.com/ajax/libs/mathjax/2.7.5/MathJax.js?config=TeX-AMS-MML_SVG\"></script><script type=\"text/javascript\">if (window.MathJax) {MathJax.Hub.Config({SVG: {font: \"STIX-Web\"}});}</script>                <script type=\"text/javascript\">window.PlotlyConfig = {MathJaxConfig: 'local'};</script>\n",
              "        <script src=\"https://cdn.plot.ly/plotly-2.8.3.min.js\"></script>                <div id=\"d3c7e529-1a41-4205-9d3a-1b19c7ccab6f\" class=\"plotly-graph-div\" style=\"height:650px; width:100%;\"></div>            <script type=\"text/javascript\">                                    window.PLOTLYENV=window.PLOTLYENV || {};                                    if (document.getElementById(\"d3c7e529-1a41-4205-9d3a-1b19c7ccab6f\")) {                    Plotly.newPlot(                        \"d3c7e529-1a41-4205-9d3a-1b19c7ccab6f\",                        [{\"hovertemplate\":\"<b>%{hovertext}</b><br><br>color=Uber Technologies<br>x=%{x}<br>y=%{y}<br>size=%{marker.size}<extra></extra>\",\"hovertext\":[\"Uber Technologies\"],\"legendgroup\":\"Uber Technologies\",\"marker\":{\"color\":\"#636efa\",\"size\":[51],\"sizemode\":\"area\",\"sizeref\":0.015555555555555555,\"symbol\":\"circle\"},\"mode\":\"markers\",\"name\":\"Uber Technologies\",\"orientation\":\"v\",\"showlegend\":true,\"x\":[43955],\"xaxis\":\"x\",\"y\":[8.862745098],\"yaxis\":\"y\",\"type\":\"scatter\"},{\"hovertemplate\":\"<b>%{hovertext}</b><br><br>color=Baidu<br>x=%{x}<br>y=%{y}<br>size=%{marker.size}<extra></extra>\",\"hovertext\":[\"Baidu\"],\"legendgroup\":\"Baidu\",\"marker\":{\"color\":\"#EF553B\",\"size\":[50],\"sizemode\":\"area\",\"sizeref\":0.015555555555555555,\"symbol\":\"circle\"},\"mode\":\"markers\",\"name\":\"Baidu\",\"orientation\":\"v\",\"showlegend\":true,\"x\":[43870],\"xaxis\":\"x\",\"y\":[4.18],\"yaxis\":\"y\",\"type\":\"scatter\"},{\"hovertemplate\":\"<b>%{hovertext}</b><br><br>color=TOYOTA<br>x=%{x}<br>y=%{y}<br>size=%{marker.size}<extra></extra>\",\"hovertext\":[\"TOYOTA\"],\"legendgroup\":\"TOYOTA\",\"marker\":{\"color\":\"#00cc96\",\"size\":[49],\"sizemode\":\"area\",\"sizeref\":0.015555555555555555,\"symbol\":\"circle\"},\"mode\":\"markers\",\"name\":\"TOYOTA\",\"orientation\":\"v\",\"showlegend\":true,\"x\":[44097],\"xaxis\":\"x\",\"y\":[2.918367347],\"yaxis\":\"y\",\"type\":\"scatter\"},{\"hovertemplate\":\"<b>%{hovertext}</b><br><br>color=GM Global Technology Operations LLC<br>x=%{x}<br>y=%{y}<br>size=%{marker.size}<extra></extra>\",\"hovertext\":[\"GM Global Technology Operations LLC\"],\"legendgroup\":\"GM Global Technology Operations LLC\",\"marker\":{\"color\":\"#ab63fa\",\"size\":[39],\"sizemode\":\"area\",\"sizeref\":0.015555555555555555,\"symbol\":\"circle\"},\"mode\":\"markers\",\"name\":\"GM Global Technology Operations LLC\",\"orientation\":\"v\",\"showlegend\":true,\"x\":[43892],\"xaxis\":\"x\",\"y\":[3.358974359],\"yaxis\":\"y\",\"type\":\"scatter\"},{\"hovertemplate\":\"<b>%{hovertext}</b><br><br>color=Hyundai Motor<br>x=%{x}<br>y=%{y}<br>size=%{marker.size}<extra></extra>\",\"hovertext\":[\"Hyundai Motor\"],\"legendgroup\":\"Hyundai Motor\",\"marker\":{\"color\":\"#FFA15A\",\"size\":[34],\"sizemode\":\"area\",\"sizeref\":0.015555555555555555,\"symbol\":\"circle\"},\"mode\":\"markers\",\"name\":\"Hyundai Motor\",\"orientation\":\"v\",\"showlegend\":true,\"x\":[44006],\"xaxis\":\"x\",\"y\":[0.823529412],\"yaxis\":\"y\",\"type\":\"scatter\"},{\"hovertemplate\":\"<b>%{hovertext}</b><br><br>color=State Farm Mutual Automobile Insurance Company<br>x=%{x}<br>y=%{y}<br>size=%{marker.size}<extra></extra>\",\"hovertext\":[\"State Farm Mutual Automobile Insurance Company\"],\"legendgroup\":\"State Farm Mutual Automobile Insurance Company\",\"marker\":{\"color\":\"#19d3f3\",\"size\":[34],\"sizemode\":\"area\",\"sizeref\":0.015555555555555555,\"symbol\":\"circle\"},\"mode\":\"markers\",\"name\":\"State Farm Mutual Automobile Insurance Company\",\"orientation\":\"v\",\"showlegend\":true,\"x\":[43952],\"xaxis\":\"x\",\"y\":[384.1470588],\"yaxis\":\"y\",\"type\":\"scatter\"},{\"hovertemplate\":\"<b>%{hovertext}</b><br><br>color=Stradvision<br>x=%{x}<br>y=%{y}<br>size=%{marker.size}<extra></extra>\",\"hovertext\":[\"Stradvision\"],\"legendgroup\":\"Stradvision\",\"marker\":{\"color\":\"#FF6692\",\"size\":[34],\"sizemode\":\"area\",\"sizeref\":0.015555555555555555,\"symbol\":\"circle\"},\"mode\":\"markers\",\"name\":\"Stradvision\",\"orientation\":\"v\",\"showlegend\":true,\"x\":[43820],\"xaxis\":\"x\",\"y\":[13.60606061],\"yaxis\":\"y\",\"type\":\"scatter\"},{\"hovertemplate\":\"<b>%{hovertext}</b><br><br>color=TuSimple<br>x=%{x}<br>y=%{y}<br>size=%{marker.size}<extra></extra>\",\"hovertext\":[\"TuSimple\"],\"legendgroup\":\"TuSimple\",\"marker\":{\"color\":\"#B6E880\",\"size\":[27],\"sizemode\":\"area\",\"sizeref\":0.015555555555555555,\"symbol\":\"circle\"},\"mode\":\"markers\",\"name\":\"TuSimple\",\"orientation\":\"v\",\"showlegend\":true,\"x\":[44118],\"xaxis\":\"x\",\"y\":[8.703703704],\"yaxis\":\"y\",\"type\":\"scatter\"},{\"hovertemplate\":\"<b>%{hovertext}</b><br><br>color=Micron Technology, Inc.<br>x=%{x}<br>y=%{y}<br>size=%{marker.size}<extra></extra>\",\"hovertext\":[\"Micron Technology, Inc.\"],\"legendgroup\":\"Micron Technology, Inc.\",\"marker\":{\"color\":\"#FF97FF\",\"size\":[24],\"sizemode\":\"area\",\"sizeref\":0.015555555555555555,\"symbol\":\"circle\"},\"mode\":\"markers\",\"name\":\"Micron Technology, Inc.\",\"orientation\":\"v\",\"showlegend\":true,\"x\":[43986],\"xaxis\":\"x\",\"y\":[30.95833333],\"yaxis\":\"y\",\"type\":\"scatter\"},{\"hovertemplate\":\"<b>%{hovertext}</b><br><br>color=Waymo<br>x=%{x}<br>y=%{y}<br>size=%{marker.size}<extra></extra>\",\"hovertext\":[\"Waymo\"],\"legendgroup\":\"Waymo\",\"marker\":{\"color\":\"#FECB52\",\"size\":[21],\"sizemode\":\"area\",\"sizeref\":0.015555555555555555,\"symbol\":\"circle\"},\"mode\":\"markers\",\"name\":\"Waymo\",\"orientation\":\"v\",\"showlegend\":true,\"x\":[44123],\"xaxis\":\"x\",\"y\":[2.380952381],\"yaxis\":\"y\",\"type\":\"scatter\"},{\"hovertemplate\":\"<b>%{hovertext}</b><br><br>color=Robert Bosch GmbH<br>x=%{x}<br>y=%{y}<br>size=%{marker.size}<extra></extra>\",\"hovertext\":[\"Robert Bosch GmbH\"],\"legendgroup\":\"Robert Bosch GmbH\",\"marker\":{\"color\":\"#636efa\",\"size\":[16],\"sizemode\":\"area\",\"sizeref\":0.015555555555555555,\"symbol\":\"circle\"},\"mode\":\"markers\",\"name\":\"Robert Bosch GmbH\",\"orientation\":\"v\",\"showlegend\":true,\"x\":[43832],\"xaxis\":\"x\",\"y\":[3.625],\"yaxis\":\"y\",\"type\":\"scatter\"},{\"hovertemplate\":\"<b>%{hovertext}</b><br><br>color=Perceptive Automata<br>x=%{x}<br>y=%{y}<br>size=%{marker.size}<extra></extra>\",\"hovertext\":[\"Perceptive Automata\"],\"legendgroup\":\"Perceptive Automata\",\"marker\":{\"color\":\"#EF553B\",\"size\":[15],\"sizemode\":\"area\",\"sizeref\":0.015555555555555555,\"symbol\":\"circle\"},\"mode\":\"markers\",\"name\":\"Perceptive Automata\",\"orientation\":\"v\",\"showlegend\":true,\"x\":[44027],\"xaxis\":\"x\",\"y\":[3.266666667],\"yaxis\":\"y\",\"type\":\"scatter\"},{\"hovertemplate\":\"<b>%{hovertext}</b><br><br>color=Samsung Electronics<br>x=%{x}<br>y=%{y}<br>size=%{marker.size}<extra></extra>\",\"hovertext\":[\"Samsung Electronics\"],\"legendgroup\":\"Samsung Electronics\",\"marker\":{\"color\":\"#00cc96\",\"size\":[15],\"sizemode\":\"area\",\"sizeref\":0.015555555555555555,\"symbol\":\"circle\"},\"mode\":\"markers\",\"name\":\"Samsung Electronics\",\"orientation\":\"v\",\"showlegend\":true,\"x\":[43769],\"xaxis\":\"x\",\"y\":[9.266666667],\"yaxis\":\"y\",\"type\":\"scatter\"},{\"hovertemplate\":\"<b>%{hovertext}</b><br><br>color=Aurora<br>x=%{x}<br>y=%{y}<br>size=%{marker.size}<extra></extra>\",\"hovertext\":[\"Aurora\"],\"legendgroup\":\"Aurora\",\"marker\":{\"color\":\"#ab63fa\",\"size\":[15],\"sizemode\":\"area\",\"sizeref\":0.015555555555555555,\"symbol\":\"circle\"},\"mode\":\"markers\",\"name\":\"Aurora\",\"orientation\":\"v\",\"showlegend\":true,\"x\":[43897],\"xaxis\":\"x\",\"y\":[38.26666667],\"yaxis\":\"y\",\"type\":\"scatter\"},{\"hovertemplate\":\"<b>%{hovertext}</b><br><br>color=Intel Corporation<br>x=%{x}<br>y=%{y}<br>size=%{marker.size}<extra></extra>\",\"hovertext\":[\"Intel Corporation\"],\"legendgroup\":\"Intel Corporation\",\"marker\":{\"color\":\"#FFA15A\",\"size\":[14],\"sizemode\":\"area\",\"sizeref\":0.015555555555555555,\"symbol\":\"circle\"},\"mode\":\"markers\",\"name\":\"Intel Corporation\",\"orientation\":\"v\",\"showlegend\":true,\"x\":[43954],\"xaxis\":\"x\",\"y\":[2.214285714],\"yaxis\":\"y\",\"type\":\"scatter\"},{\"hovertemplate\":\"<b>%{hovertext}</b><br><br>color=International Business Machines Corporation<br>x=%{x}<br>y=%{y}<br>size=%{marker.size}<extra></extra>\",\"hovertext\":[\"International Business Machines Corporation\"],\"legendgroup\":\"International Business Machines Corporation\",\"marker\":{\"color\":\"#19d3f3\",\"size\":[11],\"sizemode\":\"area\",\"sizeref\":0.015555555555555555,\"symbol\":\"circle\"},\"mode\":\"markers\",\"name\":\"International Business Machines Corporation\",\"orientation\":\"v\",\"showlegend\":true,\"x\":[43852],\"xaxis\":\"x\",\"y\":[2.909090909],\"yaxis\":\"y\",\"type\":\"scatter\"},{\"hovertemplate\":\"<b>%{hovertext}</b><br><br>color=Metawave Corporation<br>x=%{x}<br>y=%{y}<br>size=%{marker.size}<extra></extra>\",\"hovertext\":[\"Metawave Corporation\"],\"legendgroup\":\"Metawave Corporation\",\"marker\":{\"color\":\"#FF6692\",\"size\":[11],\"sizemode\":\"area\",\"sizeref\":0.015555555555555555,\"symbol\":\"circle\"},\"mode\":\"markers\",\"name\":\"Metawave Corporation\",\"orientation\":\"v\",\"showlegend\":true,\"x\":[43801],\"xaxis\":\"x\",\"y\":[6.181818182],\"yaxis\":\"y\",\"type\":\"scatter\"},{\"hovertemplate\":\"<b>%{hovertext}</b><br><br>color=Motional AD<br>x=%{x}<br>y=%{y}<br>size=%{marker.size}<extra></extra>\",\"hovertext\":[\"Motional AD\"],\"legendgroup\":\"Motional AD\",\"marker\":{\"color\":\"#B6E880\",\"size\":[11],\"sizemode\":\"area\",\"sizeref\":0.015555555555555555,\"symbol\":\"circle\"},\"mode\":\"markers\",\"name\":\"Motional AD\",\"orientation\":\"v\",\"showlegend\":true,\"x\":[44277],\"xaxis\":\"x\",\"y\":[14.72727273],\"yaxis\":\"y\",\"type\":\"scatter\"},{\"hovertemplate\":\"<b>%{hovertext}</b><br><br>color=Tesla<br>x=%{x}<br>y=%{y}<br>size=%{marker.size}<extra></extra>\",\"hovertext\":[\"Tesla\"],\"legendgroup\":\"Tesla\",\"marker\":{\"color\":\"#FF97FF\",\"size\":[10],\"sizemode\":\"area\",\"sizeref\":0.015555555555555555,\"symbol\":\"circle\"},\"mode\":\"markers\",\"name\":\"Tesla\",\"orientation\":\"v\",\"showlegend\":true,\"x\":[43899],\"xaxis\":\"x\",\"y\":[3.4],\"yaxis\":\"y\",\"type\":\"scatter\"},{\"hovertemplate\":\"<b>%{hovertext}</b><br><br>color=Zoox<br>x=%{x}<br>y=%{y}<br>size=%{marker.size}<extra></extra>\",\"hovertext\":[\"Zoox\"],\"legendgroup\":\"Zoox\",\"marker\":{\"color\":\"#FECB52\",\"size\":[9],\"sizemode\":\"area\",\"sizeref\":0.015555555555555555,\"symbol\":\"circle\"},\"mode\":\"markers\",\"name\":\"Zoox\",\"orientation\":\"v\",\"showlegend\":true,\"x\":[43921],\"xaxis\":\"x\",\"y\":[2.444444444],\"yaxis\":\"y\",\"type\":\"scatter\"},{\"hovertemplate\":\"<b>%{hovertext}</b><br><br>color=LG Electronics<br>x=%{x}<br>y=%{y}<br>size=%{marker.size}<extra></extra>\",\"hovertext\":[\"LG Electronics\"],\"legendgroup\":\"LG Electronics\",\"marker\":{\"color\":\"#636efa\",\"size\":[9],\"sizemode\":\"area\",\"sizeref\":0.015555555555555555,\"symbol\":\"circle\"},\"mode\":\"markers\",\"name\":\"LG Electronics\",\"orientation\":\"v\",\"showlegend\":true,\"x\":[43701],\"xaxis\":\"x\",\"y\":[3.555555556],\"yaxis\":\"y\",\"type\":\"scatter\"},{\"hovertemplate\":\"<b>%{hovertext}</b><br><br>color=Mobileye Vision<br>x=%{x}<br>y=%{y}<br>size=%{marker.size}<extra></extra>\",\"hovertext\":[\"Mobileye Vision\"],\"legendgroup\":\"Mobileye Vision\",\"marker\":{\"color\":\"#EF553B\",\"size\":[7],\"sizemode\":\"area\",\"sizeref\":0.015555555555555555,\"symbol\":\"circle\"},\"mode\":\"markers\",\"name\":\"Mobileye Vision\",\"orientation\":\"v\",\"showlegend\":true,\"x\":[44007],\"xaxis\":\"x\",\"y\":[3.142857143],\"yaxis\":\"y\",\"type\":\"scatter\"},{\"hovertemplate\":\"<b>%{hovertext}</b><br><br>color=Built Robotics Inc.<br>x=%{x}<br>y=%{y}<br>size=%{marker.size}<extra></extra>\",\"hovertext\":[\"Built Robotics Inc.\"],\"legendgroup\":\"Built Robotics Inc.\",\"marker\":{\"color\":\"#00cc96\",\"size\":[6],\"sizemode\":\"area\",\"sizeref\":0.015555555555555555,\"symbol\":\"circle\"},\"mode\":\"markers\",\"name\":\"Built Robotics Inc.\",\"orientation\":\"v\",\"showlegend\":true,\"x\":[44272],\"xaxis\":\"x\",\"y\":[8.666666667],\"yaxis\":\"y\",\"type\":\"scatter\"},{\"hovertemplate\":\"<b>%{hovertext}</b><br><br>color=Apollo Intelligent<br>x=%{x}<br>y=%{y}<br>size=%{marker.size}<extra></extra>\",\"hovertext\":[\"Apollo Intelligent\"],\"legendgroup\":\"Apollo Intelligent\",\"marker\":{\"color\":\"#ab63fa\",\"size\":[6],\"sizemode\":\"area\",\"sizeref\":0.015555555555555555,\"symbol\":\"circle\"},\"mode\":\"markers\",\"name\":\"Apollo Intelligent\",\"orientation\":\"v\",\"showlegend\":true,\"x\":[44064],\"xaxis\":\"x\",\"y\":[9.666666667],\"yaxis\":\"y\",\"type\":\"scatter\"},{\"hovertemplate\":\"<b>%{hovertext}</b><br><br>color=Wipro Limited<br>x=%{x}<br>y=%{y}<br>size=%{marker.size}<extra></extra>\",\"hovertext\":[\"Wipro Limited\"],\"legendgroup\":\"Wipro Limited\",\"marker\":{\"color\":\"#FFA15A\",\"size\":[6],\"sizemode\":\"area\",\"sizeref\":0.015555555555555555,\"symbol\":\"circle\"},\"mode\":\"markers\",\"name\":\"Wipro Limited\",\"orientation\":\"v\",\"showlegend\":true,\"x\":[44046],\"xaxis\":\"x\",\"y\":[2.166666667],\"yaxis\":\"y\",\"type\":\"scatter\"},{\"hovertemplate\":\"<b>%{hovertext}</b><br><br>color=Retrospect Technology<br>x=%{x}<br>y=%{y}<br>size=%{marker.size}<extra></extra>\",\"hovertext\":[\"Retrospect Technology\"],\"legendgroup\":\"Retrospect Technology\",\"marker\":{\"color\":\"#19d3f3\",\"size\":[5],\"sizemode\":\"area\",\"sizeref\":0.015555555555555555,\"symbol\":\"circle\"},\"mode\":\"markers\",\"name\":\"Retrospect Technology\",\"orientation\":\"v\",\"showlegend\":true,\"x\":[43788],\"xaxis\":\"x\",\"y\":[8.0],\"yaxis\":\"y\",\"type\":\"scatter\"},{\"hovertemplate\":\"<b>%{hovertext}</b><br><br>color=VOLKSWAGEN AG<br>x=%{x}<br>y=%{y}<br>size=%{marker.size}<extra></extra>\",\"hovertext\":[\"VOLKSWAGEN AG\"],\"legendgroup\":\"VOLKSWAGEN AG\",\"marker\":{\"color\":\"#FF6692\",\"size\":[5],\"sizemode\":\"area\",\"sizeref\":0.015555555555555555,\"symbol\":\"circle\"},\"mode\":\"markers\",\"name\":\"VOLKSWAGEN AG\",\"orientation\":\"v\",\"showlegend\":true,\"x\":[43732],\"xaxis\":\"x\",\"y\":[7.4],\"yaxis\":\"y\",\"type\":\"scatter\"},{\"hovertemplate\":\"<b>%{hovertext}</b><br><br>color=nuTonomy<br>x=%{x}<br>y=%{y}<br>size=%{marker.size}<extra></extra>\",\"hovertext\":[\"nuTonomy\"],\"legendgroup\":\"nuTonomy\",\"marker\":{\"color\":\"#B6E880\",\"size\":[4],\"sizemode\":\"area\",\"sizeref\":0.015555555555555555,\"symbol\":\"circle\"},\"mode\":\"markers\",\"name\":\"nuTonomy\",\"orientation\":\"v\",\"showlegend\":true,\"x\":[43786],\"xaxis\":\"x\",\"y\":[0.0],\"yaxis\":\"y\",\"type\":\"scatter\"},{\"hovertemplate\":\"<b>%{hovertext}</b><br><br>color=WeRide<br>x=%{x}<br>y=%{y}<br>size=%{marker.size}<extra></extra>\",\"hovertext\":[\"WeRide\"],\"legendgroup\":\"WeRide\",\"marker\":{\"color\":\"#FF97FF\",\"size\":[4],\"sizemode\":\"area\",\"sizeref\":0.015555555555555555,\"symbol\":\"circle\"},\"mode\":\"markers\",\"name\":\"WeRide\",\"orientation\":\"v\",\"showlegend\":true,\"x\":[43884],\"xaxis\":\"x\",\"y\":[0.0],\"yaxis\":\"y\",\"type\":\"scatter\"},{\"hovertemplate\":\"<b>%{hovertext}</b><br><br>color=Alpine Electronics of Silicon Valley, Inc.<br>x=%{x}<br>y=%{y}<br>size=%{marker.size}<extra></extra>\",\"hovertext\":[\"Alpine Electronics of Silicon Valley, Inc.\"],\"legendgroup\":\"Alpine Electronics of Silicon Valley, Inc.\",\"marker\":{\"color\":\"#FECB52\",\"size\":[4],\"sizemode\":\"area\",\"sizeref\":0.015555555555555555,\"symbol\":\"circle\"},\"mode\":\"markers\",\"name\":\"Alpine Electronics of Silicon Valley, Inc.\",\"orientation\":\"v\",\"showlegend\":true,\"x\":[43903],\"xaxis\":\"x\",\"y\":[5.5],\"yaxis\":\"y\",\"type\":\"scatter\"},{\"hovertemplate\":\"<b>%{hovertext}</b><br><br>color=Blue River Technology Inc.<br>x=%{x}<br>y=%{y}<br>size=%{marker.size}<extra></extra>\",\"hovertext\":[\"Blue River Technology Inc.\"],\"legendgroup\":\"Blue River Technology Inc.\",\"marker\":{\"color\":\"#636efa\",\"size\":[4],\"sizemode\":\"area\",\"sizeref\":0.015555555555555555,\"symbol\":\"circle\"},\"mode\":\"markers\",\"name\":\"Blue River Technology Inc.\",\"orientation\":\"v\",\"showlegend\":true,\"x\":[44252],\"xaxis\":\"x\",\"y\":[0.0],\"yaxis\":\"y\",\"type\":\"scatter\"},{\"hovertemplate\":\"<b>%{hovertext}</b><br><br>color=FORD GLOBAL TECHNOLOGIES<br>x=%{x}<br>y=%{y}<br>size=%{marker.size}<extra></extra>\",\"hovertext\":[\"FORD GLOBAL TECHNOLOGIES\"],\"legendgroup\":\"FORD GLOBAL TECHNOLOGIES\",\"marker\":{\"color\":\"#EF553B\",\"size\":[4],\"sizemode\":\"area\",\"sizeref\":0.015555555555555555,\"symbol\":\"circle\"},\"mode\":\"markers\",\"name\":\"FORD GLOBAL TECHNOLOGIES\",\"orientation\":\"v\",\"showlegend\":true,\"x\":[43978],\"xaxis\":\"x\",\"y\":[4.0],\"yaxis\":\"y\",\"type\":\"scatter\"},{\"hovertemplate\":\"<b>%{hovertext}</b><br><br>color=HONDA MOTOR<br>x=%{x}<br>y=%{y}<br>size=%{marker.size}<extra></extra>\",\"hovertext\":[\"HONDA MOTOR\"],\"legendgroup\":\"HONDA MOTOR\",\"marker\":{\"color\":\"#00cc96\",\"size\":[4],\"sizemode\":\"area\",\"sizeref\":0.015555555555555555,\"symbol\":\"circle\"},\"mode\":\"markers\",\"name\":\"HONDA MOTOR\",\"orientation\":\"v\",\"showlegend\":true,\"x\":[43694],\"xaxis\":\"x\",\"y\":[2.25],\"yaxis\":\"y\",\"type\":\"scatter\"},{\"hovertemplate\":\"<b>%{hovertext}</b><br><br>color=SF Motors<br>x=%{x}<br>y=%{y}<br>size=%{marker.size}<extra></extra>\",\"hovertext\":[\"SF Motors\"],\"legendgroup\":\"SF Motors\",\"marker\":{\"color\":\"#ab63fa\",\"size\":[4],\"sizemode\":\"area\",\"sizeref\":0.015555555555555555,\"symbol\":\"circle\"},\"mode\":\"markers\",\"name\":\"SF Motors\",\"orientation\":\"v\",\"showlegend\":true,\"x\":[43548],\"xaxis\":\"x\",\"y\":[2.0],\"yaxis\":\"y\",\"type\":\"scatter\"},{\"hovertemplate\":\"<b>%{hovertext}</b><br><br>color=Huawei Technologies<br>x=%{x}<br>y=%{y}<br>size=%{marker.size}<extra></extra>\",\"hovertext\":[\"Huawei Technologies\"],\"legendgroup\":\"Huawei Technologies\",\"marker\":{\"color\":\"#FFA15A\",\"size\":[4],\"sizemode\":\"area\",\"sizeref\":0.015555555555555555,\"symbol\":\"circle\"},\"mode\":\"markers\",\"name\":\"Huawei Technologies\",\"orientation\":\"v\",\"showlegend\":true,\"x\":[44514],\"xaxis\":\"x\",\"y\":[0.0],\"yaxis\":\"y\",\"type\":\"scatter\"},{\"hovertemplate\":\"<b>%{hovertext}</b><br><br>color=Hyundai Motor&Motional AD<br>x=%{x}<br>y=%{y}<br>size=%{marker.size}<extra></extra>\",\"hovertext\":[\"Hyundai Motor&Motional AD\"],\"legendgroup\":\"Hyundai Motor&Motional AD\",\"marker\":{\"color\":\"#19d3f3\",\"size\":[45],\"sizemode\":\"area\",\"sizeref\":0.015555555555555555,\"symbol\":\"circle\"},\"mode\":\"markers\",\"name\":\"Hyundai Motor&Motional AD\",\"orientation\":\"v\",\"showlegend\":true,\"x\":[44072],\"xaxis\":\"x\",\"y\":[4.2222222],\"yaxis\":\"y\",\"type\":\"scatter\"},{\"hovertemplate\":\"<b>%{hovertext}</b><br><br>color=Baidu&Apollo<br>x=%{x}<br>y=%{y}<br>size=%{marker.size}<extra></extra>\",\"hovertext\":[\"Baidu&Apollo\"],\"legendgroup\":\"Baidu&Apollo\",\"marker\":{\"color\":\"#FF6692\",\"size\":[56],\"sizemode\":\"area\",\"sizeref\":0.015555555555555555,\"symbol\":\"circle\"},\"mode\":\"markers\",\"name\":\"Baidu&Apollo\",\"orientation\":\"v\",\"showlegend\":true,\"x\":[43891],\"xaxis\":\"x\",\"y\":[4.767857143],\"yaxis\":\"y\",\"type\":\"scatter\"}],                        {\"template\":{\"data\":{\"bar\":[{\"error_x\":{\"color\":\"#2a3f5f\"},\"error_y\":{\"color\":\"#2a3f5f\"},\"marker\":{\"line\":{\"color\":\"#E5ECF6\",\"width\":0.5},\"pattern\":{\"fillmode\":\"overlay\",\"size\":10,\"solidity\":0.2}},\"type\":\"bar\"}],\"barpolar\":[{\"marker\":{\"line\":{\"color\":\"#E5ECF6\",\"width\":0.5},\"pattern\":{\"fillmode\":\"overlay\",\"size\":10,\"solidity\":0.2}},\"type\":\"barpolar\"}],\"carpet\":[{\"aaxis\":{\"endlinecolor\":\"#2a3f5f\",\"gridcolor\":\"white\",\"linecolor\":\"white\",\"minorgridcolor\":\"white\",\"startlinecolor\":\"#2a3f5f\"},\"baxis\":{\"endlinecolor\":\"#2a3f5f\",\"gridcolor\":\"white\",\"linecolor\":\"white\",\"minorgridcolor\":\"white\",\"startlinecolor\":\"#2a3f5f\"},\"type\":\"carpet\"}],\"choropleth\":[{\"colorbar\":{\"outlinewidth\":0,\"ticks\":\"\"},\"type\":\"choropleth\"}],\"contour\":[{\"colorbar\":{\"outlinewidth\":0,\"ticks\":\"\"},\"colorscale\":[[0.0,\"#0d0887\"],[0.1111111111111111,\"#46039f\"],[0.2222222222222222,\"#7201a8\"],[0.3333333333333333,\"#9c179e\"],[0.4444444444444444,\"#bd3786\"],[0.5555555555555556,\"#d8576b\"],[0.6666666666666666,\"#ed7953\"],[0.7777777777777778,\"#fb9f3a\"],[0.8888888888888888,\"#fdca26\"],[1.0,\"#f0f921\"]],\"type\":\"contour\"}],\"contourcarpet\":[{\"colorbar\":{\"outlinewidth\":0,\"ticks\":\"\"},\"type\":\"contourcarpet\"}],\"heatmap\":[{\"colorbar\":{\"outlinewidth\":0,\"ticks\":\"\"},\"colorscale\":[[0.0,\"#0d0887\"],[0.1111111111111111,\"#46039f\"],[0.2222222222222222,\"#7201a8\"],[0.3333333333333333,\"#9c179e\"],[0.4444444444444444,\"#bd3786\"],[0.5555555555555556,\"#d8576b\"],[0.6666666666666666,\"#ed7953\"],[0.7777777777777778,\"#fb9f3a\"],[0.8888888888888888,\"#fdca26\"],[1.0,\"#f0f921\"]],\"type\":\"heatmap\"}],\"heatmapgl\":[{\"colorbar\":{\"outlinewidth\":0,\"ticks\":\"\"},\"colorscale\":[[0.0,\"#0d0887\"],[0.1111111111111111,\"#46039f\"],[0.2222222222222222,\"#7201a8\"],[0.3333333333333333,\"#9c179e\"],[0.4444444444444444,\"#bd3786\"],[0.5555555555555556,\"#d8576b\"],[0.6666666666666666,\"#ed7953\"],[0.7777777777777778,\"#fb9f3a\"],[0.8888888888888888,\"#fdca26\"],[1.0,\"#f0f921\"]],\"type\":\"heatmapgl\"}],\"histogram\":[{\"marker\":{\"pattern\":{\"fillmode\":\"overlay\",\"size\":10,\"solidity\":0.2}},\"type\":\"histogram\"}],\"histogram2d\":[{\"colorbar\":{\"outlinewidth\":0,\"ticks\":\"\"},\"colorscale\":[[0.0,\"#0d0887\"],[0.1111111111111111,\"#46039f\"],[0.2222222222222222,\"#7201a8\"],[0.3333333333333333,\"#9c179e\"],[0.4444444444444444,\"#bd3786\"],[0.5555555555555556,\"#d8576b\"],[0.6666666666666666,\"#ed7953\"],[0.7777777777777778,\"#fb9f3a\"],[0.8888888888888888,\"#fdca26\"],[1.0,\"#f0f921\"]],\"type\":\"histogram2d\"}],\"histogram2dcontour\":[{\"colorbar\":{\"outlinewidth\":0,\"ticks\":\"\"},\"colorscale\":[[0.0,\"#0d0887\"],[0.1111111111111111,\"#46039f\"],[0.2222222222222222,\"#7201a8\"],[0.3333333333333333,\"#9c179e\"],[0.4444444444444444,\"#bd3786\"],[0.5555555555555556,\"#d8576b\"],[0.6666666666666666,\"#ed7953\"],[0.7777777777777778,\"#fb9f3a\"],[0.8888888888888888,\"#fdca26\"],[1.0,\"#f0f921\"]],\"type\":\"histogram2dcontour\"}],\"mesh3d\":[{\"colorbar\":{\"outlinewidth\":0,\"ticks\":\"\"},\"type\":\"mesh3d\"}],\"parcoords\":[{\"line\":{\"colorbar\":{\"outlinewidth\":0,\"ticks\":\"\"}},\"type\":\"parcoords\"}],\"pie\":[{\"automargin\":true,\"type\":\"pie\"}],\"scatter\":[{\"marker\":{\"colorbar\":{\"outlinewidth\":0,\"ticks\":\"\"}},\"type\":\"scatter\"}],\"scatter3d\":[{\"line\":{\"colorbar\":{\"outlinewidth\":0,\"ticks\":\"\"}},\"marker\":{\"colorbar\":{\"outlinewidth\":0,\"ticks\":\"\"}},\"type\":\"scatter3d\"}],\"scattercarpet\":[{\"marker\":{\"colorbar\":{\"outlinewidth\":0,\"ticks\":\"\"}},\"type\":\"scattercarpet\"}],\"scattergeo\":[{\"marker\":{\"colorbar\":{\"outlinewidth\":0,\"ticks\":\"\"}},\"type\":\"scattergeo\"}],\"scattergl\":[{\"marker\":{\"colorbar\":{\"outlinewidth\":0,\"ticks\":\"\"}},\"type\":\"scattergl\"}],\"scattermapbox\":[{\"marker\":{\"colorbar\":{\"outlinewidth\":0,\"ticks\":\"\"}},\"type\":\"scattermapbox\"}],\"scatterpolar\":[{\"marker\":{\"colorbar\":{\"outlinewidth\":0,\"ticks\":\"\"}},\"type\":\"scatterpolar\"}],\"scatterpolargl\":[{\"marker\":{\"colorbar\":{\"outlinewidth\":0,\"ticks\":\"\"}},\"type\":\"scatterpolargl\"}],\"scatterternary\":[{\"marker\":{\"colorbar\":{\"outlinewidth\":0,\"ticks\":\"\"}},\"type\":\"scatterternary\"}],\"surface\":[{\"colorbar\":{\"outlinewidth\":0,\"ticks\":\"\"},\"colorscale\":[[0.0,\"#0d0887\"],[0.1111111111111111,\"#46039f\"],[0.2222222222222222,\"#7201a8\"],[0.3333333333333333,\"#9c179e\"],[0.4444444444444444,\"#bd3786\"],[0.5555555555555556,\"#d8576b\"],[0.6666666666666666,\"#ed7953\"],[0.7777777777777778,\"#fb9f3a\"],[0.8888888888888888,\"#fdca26\"],[1.0,\"#f0f921\"]],\"type\":\"surface\"}],\"table\":[{\"cells\":{\"fill\":{\"color\":\"#EBF0F8\"},\"line\":{\"color\":\"white\"}},\"header\":{\"fill\":{\"color\":\"#C8D4E3\"},\"line\":{\"color\":\"white\"}},\"type\":\"table\"}]},\"layout\":{\"annotationdefaults\":{\"arrowcolor\":\"#2a3f5f\",\"arrowhead\":0,\"arrowwidth\":1},\"autotypenumbers\":\"strict\",\"coloraxis\":{\"colorbar\":{\"outlinewidth\":0,\"ticks\":\"\"}},\"colorscale\":{\"diverging\":[[0,\"#8e0152\"],[0.1,\"#c51b7d\"],[0.2,\"#de77ae\"],[0.3,\"#f1b6da\"],[0.4,\"#fde0ef\"],[0.5,\"#f7f7f7\"],[0.6,\"#e6f5d0\"],[0.7,\"#b8e186\"],[0.8,\"#7fbc41\"],[0.9,\"#4d9221\"],[1,\"#276419\"]],\"sequential\":[[0.0,\"#0d0887\"],[0.1111111111111111,\"#46039f\"],[0.2222222222222222,\"#7201a8\"],[0.3333333333333333,\"#9c179e\"],[0.4444444444444444,\"#bd3786\"],[0.5555555555555556,\"#d8576b\"],[0.6666666666666666,\"#ed7953\"],[0.7777777777777778,\"#fb9f3a\"],[0.8888888888888888,\"#fdca26\"],[1.0,\"#f0f921\"]],\"sequentialminus\":[[0.0,\"#0d0887\"],[0.1111111111111111,\"#46039f\"],[0.2222222222222222,\"#7201a8\"],[0.3333333333333333,\"#9c179e\"],[0.4444444444444444,\"#bd3786\"],[0.5555555555555556,\"#d8576b\"],[0.6666666666666666,\"#ed7953\"],[0.7777777777777778,\"#fb9f3a\"],[0.8888888888888888,\"#fdca26\"],[1.0,\"#f0f921\"]]},\"colorway\":[\"#636efa\",\"#EF553B\",\"#00cc96\",\"#ab63fa\",\"#FFA15A\",\"#19d3f3\",\"#FF6692\",\"#B6E880\",\"#FF97FF\",\"#FECB52\"],\"font\":{\"color\":\"#2a3f5f\"},\"geo\":{\"bgcolor\":\"white\",\"lakecolor\":\"white\",\"landcolor\":\"#E5ECF6\",\"showlakes\":true,\"showland\":true,\"subunitcolor\":\"white\"},\"hoverlabel\":{\"align\":\"left\"},\"hovermode\":\"closest\",\"mapbox\":{\"style\":\"light\"},\"paper_bgcolor\":\"white\",\"plot_bgcolor\":\"#E5ECF6\",\"polar\":{\"angularaxis\":{\"gridcolor\":\"white\",\"linecolor\":\"white\",\"ticks\":\"\"},\"bgcolor\":\"#E5ECF6\",\"radialaxis\":{\"gridcolor\":\"white\",\"linecolor\":\"white\",\"ticks\":\"\"}},\"scene\":{\"xaxis\":{\"backgroundcolor\":\"#E5ECF6\",\"gridcolor\":\"white\",\"gridwidth\":2,\"linecolor\":\"white\",\"showbackground\":true,\"ticks\":\"\",\"zerolinecolor\":\"white\"},\"yaxis\":{\"backgroundcolor\":\"#E5ECF6\",\"gridcolor\":\"white\",\"gridwidth\":2,\"linecolor\":\"white\",\"showbackground\":true,\"ticks\":\"\",\"zerolinecolor\":\"white\"},\"zaxis\":{\"backgroundcolor\":\"#E5ECF6\",\"gridcolor\":\"white\",\"gridwidth\":2,\"linecolor\":\"white\",\"showbackground\":true,\"ticks\":\"\",\"zerolinecolor\":\"white\"}},\"shapedefaults\":{\"line\":{\"color\":\"#2a3f5f\"}},\"ternary\":{\"aaxis\":{\"gridcolor\":\"white\",\"linecolor\":\"white\",\"ticks\":\"\"},\"baxis\":{\"gridcolor\":\"white\",\"linecolor\":\"white\",\"ticks\":\"\"},\"bgcolor\":\"#E5ECF6\",\"caxis\":{\"gridcolor\":\"white\",\"linecolor\":\"white\",\"ticks\":\"\"}},\"title\":{\"x\":0.05},\"xaxis\":{\"automargin\":true,\"gridcolor\":\"white\",\"linecolor\":\"white\",\"ticks\":\"\",\"title\":{\"standoff\":15},\"zerolinecolor\":\"white\",\"zerolinewidth\":2},\"yaxis\":{\"automargin\":true,\"gridcolor\":\"white\",\"linecolor\":\"white\",\"ticks\":\"\",\"title\":{\"standoff\":15},\"zerolinecolor\":\"white\",\"zerolinewidth\":2}}},\"xaxis\":{\"anchor\":\"y\",\"domain\":[0.0,1.0],\"title\":{\"text\":\"Decreasing portfolio age\"},\"type\":\"log\",\"gridcolor\":\"white\",\"gridwidth\":2},\"yaxis\":{\"anchor\":\"x\",\"domain\":[0.0,1.0],\"title\":{\"text\":\"Increasing portfolio strength\"},\"gridcolor\":\"white\",\"gridwidth\":2},\"legend\":{\"title\":{\"text\":\"color\"},\"tracegroupgap\":0,\"itemsizing\":\"constant\"},\"title\":{\"text\":\"Modelling the top 36\"},\"height\":650,\"paper_bgcolor\":\"rgb(243, 243, 243)\",\"plot_bgcolor\":\"rgb(243, 243, 243)\"},                        {\"responsive\": true}                    ).then(function(){\n",
              "                            \n",
              "var gd = document.getElementById('d3c7e529-1a41-4205-9d3a-1b19c7ccab6f');\n",
              "var x = new MutationObserver(function (mutations, observer) {{\n",
              "        var display = window.getComputedStyle(gd).display;\n",
              "        if (!display || display === 'none') {{\n",
              "            console.log([gd, 'removed!']);\n",
              "            Plotly.purge(gd);\n",
              "            observer.disconnect();\n",
              "        }}\n",
              "}});\n",
              "\n",
              "// Listen for the removal of the full notebook cells\n",
              "var notebookContainer = gd.closest('#notebook-container');\n",
              "if (notebookContainer) {{\n",
              "    x.observe(notebookContainer, {childList: true});\n",
              "}}\n",
              "\n",
              "// Listen for the clearing of the current output cell\n",
              "var outputEl = gd.closest('.output');\n",
              "if (outputEl) {{\n",
              "    x.observe(outputEl, {childList: true});\n",
              "}}\n",
              "\n",
              "                        })                };                            </script>        </div>\n",
              "</body>\n",
              "</html>"
            ]
          },
          "metadata": {}
        }
      ]
    },
    {
      "cell_type": "code",
      "source": [
        "import plotly.express as px\n",
        "\n",
        "fig = px.scatter(\n",
        "    x=df3[\"출원일자숫자\"], \n",
        "    y=df3[\"평균 인용수\"],\n",
        "    size=df3[\"출원수\"],  \n",
        "    hover_name=df3[\"기업명\"],\n",
        "    color=df3[\"산업분류\"],\n",
        "    log_x=True, \n",
        "    title='Modelling the representative Company',\n",
        "    size_max=60,\n",
        "    height=650)\n",
        "\n",
        "fig.update_layout(\n",
        "    title='Modelling the representative Company',\n",
        "    xaxis=dict(\n",
        "        title='Decreasing portfolio age',\n",
        "        gridcolor='white',\n",
        "        type='log',\n",
        "        gridwidth=2,\n",
        "    ),\n",
        "    yaxis=dict(\n",
        "        title='Increasing portfolio strength',\n",
        "        gridcolor='white',\n",
        "        gridwidth=2,\n",
        "    ),\n",
        "    paper_bgcolor='rgb(243, 243, 243)',\n",
        "    plot_bgcolor='rgb(243, 243, 243)',\n",
        ")\n",
        "\n",
        "fig.show()"
      ],
      "metadata": {
        "id": "HBz6Knac_1hS",
        "colab": {
          "base_uri": "https://localhost:8080/",
          "height": 667
        },
        "outputId": "490c0897-93c1-420b-85f1-9b7a224b1b8d"
      },
      "execution_count": null,
      "outputs": [
        {
          "output_type": "display_data",
          "data": {
            "text/html": [
              "<html>\n",
              "<head><meta charset=\"utf-8\" /></head>\n",
              "<body>\n",
              "    <div>            <script src=\"https://cdnjs.cloudflare.com/ajax/libs/mathjax/2.7.5/MathJax.js?config=TeX-AMS-MML_SVG\"></script><script type=\"text/javascript\">if (window.MathJax) {MathJax.Hub.Config({SVG: {font: \"STIX-Web\"}});}</script>                <script type=\"text/javascript\">window.PlotlyConfig = {MathJaxConfig: 'local'};</script>\n",
              "        <script src=\"https://cdn.plot.ly/plotly-2.8.3.min.js\"></script>                <div id=\"966bf872-b443-4149-be2e-cd523c65e13c\" class=\"plotly-graph-div\" style=\"height:650px; width:100%;\"></div>            <script type=\"text/javascript\">                                    window.PLOTLYENV=window.PLOTLYENV || {};                                    if (document.getElementById(\"966bf872-b443-4149-be2e-cd523c65e13c\")) {                    Plotly.newPlot(                        \"966bf872-b443-4149-be2e-cd523c65e13c\",                        [{\"hovertemplate\":\"<b>%{hovertext}</b><br><br>color=\\uc790\\uc728\\uc8fc\\ud589 \\uc18c\\ud504\\ud2b8\\uc6e8\\uc5b4<br>x=%{x}<br>y=%{y}<br>size=%{marker.size}<extra></extra>\",\"hovertext\":[\"Baidu&Apollo\",\"Waymo\",\"Aurora\",\"Motional AD\",\"Huawei Technologies\"],\"legendgroup\":\"\\uc790\\uc728\\uc8fc\\ud589 \\uc18c\\ud504\\ud2b8\\uc6e8\\uc5b4\",\"marker\":{\"color\":\"#636efa\",\"size\":[56,21,15,11,4],\"sizemode\":\"area\",\"sizeref\":0.015555555555555555,\"symbol\":\"circle\"},\"mode\":\"markers\",\"name\":\"\\uc790\\uc728\\uc8fc\\ud589 \\uc18c\\ud504\\ud2b8\\uc6e8\\uc5b4\",\"orientation\":\"v\",\"showlegend\":true,\"x\":[43891,44123,43897,44277,44514],\"xaxis\":\"x\",\"y\":[4.767857143,2.380952381,25.0,14.72727273,0.0],\"yaxis\":\"y\",\"type\":\"scatter\"},{\"hovertemplate\":\"<b>%{hovertext}</b><br><br>color=\\ud22c\\uc790 \\ubc0f \\uc6b4\\uc1a1\\uad00\\ub828\\uc11c\\ube44\\uc2a4<br>x=%{x}<br>y=%{y}<br>size=%{marker.size}<extra></extra>\",\"hovertext\":[\"Uber Technologies\",\"State Farm Mutual Automobile Insurance Company\"],\"legendgroup\":\"\\ud22c\\uc790 \\ubc0f \\uc6b4\\uc1a1\\uad00\\ub828\\uc11c\\ube44\\uc2a4\",\"marker\":{\"color\":\"#EF553B\",\"size\":[51,34],\"sizemode\":\"area\",\"sizeref\":0.015555555555555555,\"symbol\":\"circle\"},\"mode\":\"markers\",\"name\":\"\\ud22c\\uc790 \\ubc0f \\uc6b4\\uc1a1\\uad00\\ub828\\uc11c\\ube44\\uc2a4\",\"orientation\":\"v\",\"showlegend\":true,\"x\":[43955,43952],\"xaxis\":\"x\",\"y\":[8.862745098,35.0],\"yaxis\":\"y\",\"type\":\"scatter\"},{\"hovertemplate\":\"<b>%{hovertext}</b><br><br>color=\\uc644\\uc131\\ucc28 \\ubc0f \\ubd80\\ud488<br>x=%{x}<br>y=%{y}<br>size=%{marker.size}<extra></extra>\",\"hovertext\":[\"TOYOTA\",\"GM Global Technology Operations LLC\",\"Hyundai Motor\",\"Tesla\",\"VOLKSWAGEN AG\",\"FORD GLOBAL TECHNOLOGIES\",\"HONDA MOTOR\"],\"legendgroup\":\"\\uc644\\uc131\\ucc28 \\ubc0f \\ubd80\\ud488\",\"marker\":{\"color\":\"#00cc96\",\"size\":[49,39,34,10,5,4,4],\"sizemode\":\"area\",\"sizeref\":0.015555555555555555,\"symbol\":\"circle\"},\"mode\":\"markers\",\"name\":\"\\uc644\\uc131\\ucc28 \\ubc0f \\ubd80\\ud488\",\"orientation\":\"v\",\"showlegend\":true,\"x\":[44097,43892,44006,43899,43732,43978,43694],\"xaxis\":\"x\",\"y\":[2.918367347,3.358974359,0.823529412,3.4,7.4,4.0,2.25],\"yaxis\":\"y\",\"type\":\"scatter\"},{\"hovertemplate\":\"<b>%{hovertext}</b><br><br>color=\\uc790\\uc728\\uc8fc\\ud589 \\ud558\\ub4dc\\uc6e8\\uc5b4<br>x=%{x}<br>y=%{y}<br>size=%{marker.size}<extra></extra>\",\"hovertext\":[\"Micron Technology, Inc.\",\"Samsung Electronics\"],\"legendgroup\":\"\\uc790\\uc728\\uc8fc\\ud589 \\ud558\\ub4dc\\uc6e8\\uc5b4\",\"marker\":{\"color\":\"#ab63fa\",\"size\":[24,15],\"sizemode\":\"area\",\"sizeref\":0.015555555555555555,\"symbol\":\"circle\"},\"mode\":\"markers\",\"name\":\"\\uc790\\uc728\\uc8fc\\ud589 \\ud558\\ub4dc\\uc6e8\\uc5b4\",\"orientation\":\"v\",\"showlegend\":true,\"x\":[43986,43769],\"xaxis\":\"x\",\"y\":[20.0,9.266666667],\"yaxis\":\"y\",\"type\":\"scatter\"}],                        {\"template\":{\"data\":{\"bar\":[{\"error_x\":{\"color\":\"#2a3f5f\"},\"error_y\":{\"color\":\"#2a3f5f\"},\"marker\":{\"line\":{\"color\":\"#E5ECF6\",\"width\":0.5},\"pattern\":{\"fillmode\":\"overlay\",\"size\":10,\"solidity\":0.2}},\"type\":\"bar\"}],\"barpolar\":[{\"marker\":{\"line\":{\"color\":\"#E5ECF6\",\"width\":0.5},\"pattern\":{\"fillmode\":\"overlay\",\"size\":10,\"solidity\":0.2}},\"type\":\"barpolar\"}],\"carpet\":[{\"aaxis\":{\"endlinecolor\":\"#2a3f5f\",\"gridcolor\":\"white\",\"linecolor\":\"white\",\"minorgridcolor\":\"white\",\"startlinecolor\":\"#2a3f5f\"},\"baxis\":{\"endlinecolor\":\"#2a3f5f\",\"gridcolor\":\"white\",\"linecolor\":\"white\",\"minorgridcolor\":\"white\",\"startlinecolor\":\"#2a3f5f\"},\"type\":\"carpet\"}],\"choropleth\":[{\"colorbar\":{\"outlinewidth\":0,\"ticks\":\"\"},\"type\":\"choropleth\"}],\"contour\":[{\"colorbar\":{\"outlinewidth\":0,\"ticks\":\"\"},\"colorscale\":[[0.0,\"#0d0887\"],[0.1111111111111111,\"#46039f\"],[0.2222222222222222,\"#7201a8\"],[0.3333333333333333,\"#9c179e\"],[0.4444444444444444,\"#bd3786\"],[0.5555555555555556,\"#d8576b\"],[0.6666666666666666,\"#ed7953\"],[0.7777777777777778,\"#fb9f3a\"],[0.8888888888888888,\"#fdca26\"],[1.0,\"#f0f921\"]],\"type\":\"contour\"}],\"contourcarpet\":[{\"colorbar\":{\"outlinewidth\":0,\"ticks\":\"\"},\"type\":\"contourcarpet\"}],\"heatmap\":[{\"colorbar\":{\"outlinewidth\":0,\"ticks\":\"\"},\"colorscale\":[[0.0,\"#0d0887\"],[0.1111111111111111,\"#46039f\"],[0.2222222222222222,\"#7201a8\"],[0.3333333333333333,\"#9c179e\"],[0.4444444444444444,\"#bd3786\"],[0.5555555555555556,\"#d8576b\"],[0.6666666666666666,\"#ed7953\"],[0.7777777777777778,\"#fb9f3a\"],[0.8888888888888888,\"#fdca26\"],[1.0,\"#f0f921\"]],\"type\":\"heatmap\"}],\"heatmapgl\":[{\"colorbar\":{\"outlinewidth\":0,\"ticks\":\"\"},\"colorscale\":[[0.0,\"#0d0887\"],[0.1111111111111111,\"#46039f\"],[0.2222222222222222,\"#7201a8\"],[0.3333333333333333,\"#9c179e\"],[0.4444444444444444,\"#bd3786\"],[0.5555555555555556,\"#d8576b\"],[0.6666666666666666,\"#ed7953\"],[0.7777777777777778,\"#fb9f3a\"],[0.8888888888888888,\"#fdca26\"],[1.0,\"#f0f921\"]],\"type\":\"heatmapgl\"}],\"histogram\":[{\"marker\":{\"pattern\":{\"fillmode\":\"overlay\",\"size\":10,\"solidity\":0.2}},\"type\":\"histogram\"}],\"histogram2d\":[{\"colorbar\":{\"outlinewidth\":0,\"ticks\":\"\"},\"colorscale\":[[0.0,\"#0d0887\"],[0.1111111111111111,\"#46039f\"],[0.2222222222222222,\"#7201a8\"],[0.3333333333333333,\"#9c179e\"],[0.4444444444444444,\"#bd3786\"],[0.5555555555555556,\"#d8576b\"],[0.6666666666666666,\"#ed7953\"],[0.7777777777777778,\"#fb9f3a\"],[0.8888888888888888,\"#fdca26\"],[1.0,\"#f0f921\"]],\"type\":\"histogram2d\"}],\"histogram2dcontour\":[{\"colorbar\":{\"outlinewidth\":0,\"ticks\":\"\"},\"colorscale\":[[0.0,\"#0d0887\"],[0.1111111111111111,\"#46039f\"],[0.2222222222222222,\"#7201a8\"],[0.3333333333333333,\"#9c179e\"],[0.4444444444444444,\"#bd3786\"],[0.5555555555555556,\"#d8576b\"],[0.6666666666666666,\"#ed7953\"],[0.7777777777777778,\"#fb9f3a\"],[0.8888888888888888,\"#fdca26\"],[1.0,\"#f0f921\"]],\"type\":\"histogram2dcontour\"}],\"mesh3d\":[{\"colorbar\":{\"outlinewidth\":0,\"ticks\":\"\"},\"type\":\"mesh3d\"}],\"parcoords\":[{\"line\":{\"colorbar\":{\"outlinewidth\":0,\"ticks\":\"\"}},\"type\":\"parcoords\"}],\"pie\":[{\"automargin\":true,\"type\":\"pie\"}],\"scatter\":[{\"marker\":{\"colorbar\":{\"outlinewidth\":0,\"ticks\":\"\"}},\"type\":\"scatter\"}],\"scatter3d\":[{\"line\":{\"colorbar\":{\"outlinewidth\":0,\"ticks\":\"\"}},\"marker\":{\"colorbar\":{\"outlinewidth\":0,\"ticks\":\"\"}},\"type\":\"scatter3d\"}],\"scattercarpet\":[{\"marker\":{\"colorbar\":{\"outlinewidth\":0,\"ticks\":\"\"}},\"type\":\"scattercarpet\"}],\"scattergeo\":[{\"marker\":{\"colorbar\":{\"outlinewidth\":0,\"ticks\":\"\"}},\"type\":\"scattergeo\"}],\"scattergl\":[{\"marker\":{\"colorbar\":{\"outlinewidth\":0,\"ticks\":\"\"}},\"type\":\"scattergl\"}],\"scattermapbox\":[{\"marker\":{\"colorbar\":{\"outlinewidth\":0,\"ticks\":\"\"}},\"type\":\"scattermapbox\"}],\"scatterpolar\":[{\"marker\":{\"colorbar\":{\"outlinewidth\":0,\"ticks\":\"\"}},\"type\":\"scatterpolar\"}],\"scatterpolargl\":[{\"marker\":{\"colorbar\":{\"outlinewidth\":0,\"ticks\":\"\"}},\"type\":\"scatterpolargl\"}],\"scatterternary\":[{\"marker\":{\"colorbar\":{\"outlinewidth\":0,\"ticks\":\"\"}},\"type\":\"scatterternary\"}],\"surface\":[{\"colorbar\":{\"outlinewidth\":0,\"ticks\":\"\"},\"colorscale\":[[0.0,\"#0d0887\"],[0.1111111111111111,\"#46039f\"],[0.2222222222222222,\"#7201a8\"],[0.3333333333333333,\"#9c179e\"],[0.4444444444444444,\"#bd3786\"],[0.5555555555555556,\"#d8576b\"],[0.6666666666666666,\"#ed7953\"],[0.7777777777777778,\"#fb9f3a\"],[0.8888888888888888,\"#fdca26\"],[1.0,\"#f0f921\"]],\"type\":\"surface\"}],\"table\":[{\"cells\":{\"fill\":{\"color\":\"#EBF0F8\"},\"line\":{\"color\":\"white\"}},\"header\":{\"fill\":{\"color\":\"#C8D4E3\"},\"line\":{\"color\":\"white\"}},\"type\":\"table\"}]},\"layout\":{\"annotationdefaults\":{\"arrowcolor\":\"#2a3f5f\",\"arrowhead\":0,\"arrowwidth\":1},\"autotypenumbers\":\"strict\",\"coloraxis\":{\"colorbar\":{\"outlinewidth\":0,\"ticks\":\"\"}},\"colorscale\":{\"diverging\":[[0,\"#8e0152\"],[0.1,\"#c51b7d\"],[0.2,\"#de77ae\"],[0.3,\"#f1b6da\"],[0.4,\"#fde0ef\"],[0.5,\"#f7f7f7\"],[0.6,\"#e6f5d0\"],[0.7,\"#b8e186\"],[0.8,\"#7fbc41\"],[0.9,\"#4d9221\"],[1,\"#276419\"]],\"sequential\":[[0.0,\"#0d0887\"],[0.1111111111111111,\"#46039f\"],[0.2222222222222222,\"#7201a8\"],[0.3333333333333333,\"#9c179e\"],[0.4444444444444444,\"#bd3786\"],[0.5555555555555556,\"#d8576b\"],[0.6666666666666666,\"#ed7953\"],[0.7777777777777778,\"#fb9f3a\"],[0.8888888888888888,\"#fdca26\"],[1.0,\"#f0f921\"]],\"sequentialminus\":[[0.0,\"#0d0887\"],[0.1111111111111111,\"#46039f\"],[0.2222222222222222,\"#7201a8\"],[0.3333333333333333,\"#9c179e\"],[0.4444444444444444,\"#bd3786\"],[0.5555555555555556,\"#d8576b\"],[0.6666666666666666,\"#ed7953\"],[0.7777777777777778,\"#fb9f3a\"],[0.8888888888888888,\"#fdca26\"],[1.0,\"#f0f921\"]]},\"colorway\":[\"#636efa\",\"#EF553B\",\"#00cc96\",\"#ab63fa\",\"#FFA15A\",\"#19d3f3\",\"#FF6692\",\"#B6E880\",\"#FF97FF\",\"#FECB52\"],\"font\":{\"color\":\"#2a3f5f\"},\"geo\":{\"bgcolor\":\"white\",\"lakecolor\":\"white\",\"landcolor\":\"#E5ECF6\",\"showlakes\":true,\"showland\":true,\"subunitcolor\":\"white\"},\"hoverlabel\":{\"align\":\"left\"},\"hovermode\":\"closest\",\"mapbox\":{\"style\":\"light\"},\"paper_bgcolor\":\"white\",\"plot_bgcolor\":\"#E5ECF6\",\"polar\":{\"angularaxis\":{\"gridcolor\":\"white\",\"linecolor\":\"white\",\"ticks\":\"\"},\"bgcolor\":\"#E5ECF6\",\"radialaxis\":{\"gridcolor\":\"white\",\"linecolor\":\"white\",\"ticks\":\"\"}},\"scene\":{\"xaxis\":{\"backgroundcolor\":\"#E5ECF6\",\"gridcolor\":\"white\",\"gridwidth\":2,\"linecolor\":\"white\",\"showbackground\":true,\"ticks\":\"\",\"zerolinecolor\":\"white\"},\"yaxis\":{\"backgroundcolor\":\"#E5ECF6\",\"gridcolor\":\"white\",\"gridwidth\":2,\"linecolor\":\"white\",\"showbackground\":true,\"ticks\":\"\",\"zerolinecolor\":\"white\"},\"zaxis\":{\"backgroundcolor\":\"#E5ECF6\",\"gridcolor\":\"white\",\"gridwidth\":2,\"linecolor\":\"white\",\"showbackground\":true,\"ticks\":\"\",\"zerolinecolor\":\"white\"}},\"shapedefaults\":{\"line\":{\"color\":\"#2a3f5f\"}},\"ternary\":{\"aaxis\":{\"gridcolor\":\"white\",\"linecolor\":\"white\",\"ticks\":\"\"},\"baxis\":{\"gridcolor\":\"white\",\"linecolor\":\"white\",\"ticks\":\"\"},\"bgcolor\":\"#E5ECF6\",\"caxis\":{\"gridcolor\":\"white\",\"linecolor\":\"white\",\"ticks\":\"\"}},\"title\":{\"x\":0.05},\"xaxis\":{\"automargin\":true,\"gridcolor\":\"white\",\"linecolor\":\"white\",\"ticks\":\"\",\"title\":{\"standoff\":15},\"zerolinecolor\":\"white\",\"zerolinewidth\":2},\"yaxis\":{\"automargin\":true,\"gridcolor\":\"white\",\"linecolor\":\"white\",\"ticks\":\"\",\"title\":{\"standoff\":15},\"zerolinecolor\":\"white\",\"zerolinewidth\":2}}},\"xaxis\":{\"anchor\":\"y\",\"domain\":[0.0,1.0],\"title\":{\"text\":\"Decreasing portfolio age\"},\"type\":\"log\",\"gridcolor\":\"white\",\"gridwidth\":2},\"yaxis\":{\"anchor\":\"x\",\"domain\":[0.0,1.0],\"title\":{\"text\":\"Increasing portfolio strength\"},\"gridcolor\":\"white\",\"gridwidth\":2},\"legend\":{\"title\":{\"text\":\"color\"},\"tracegroupgap\":0,\"itemsizing\":\"constant\"},\"title\":{\"text\":\"Modelling the representative Company\"},\"height\":650,\"paper_bgcolor\":\"rgb(243, 243, 243)\",\"plot_bgcolor\":\"rgb(243, 243, 243)\"},                        {\"responsive\": true}                    ).then(function(){\n",
              "                            \n",
              "var gd = document.getElementById('966bf872-b443-4149-be2e-cd523c65e13c');\n",
              "var x = new MutationObserver(function (mutations, observer) {{\n",
              "        var display = window.getComputedStyle(gd).display;\n",
              "        if (!display || display === 'none') {{\n",
              "            console.log([gd, 'removed!']);\n",
              "            Plotly.purge(gd);\n",
              "            observer.disconnect();\n",
              "        }}\n",
              "}});\n",
              "\n",
              "// Listen for the removal of the full notebook cells\n",
              "var notebookContainer = gd.closest('#notebook-container');\n",
              "if (notebookContainer) {{\n",
              "    x.observe(notebookContainer, {childList: true});\n",
              "}}\n",
              "\n",
              "// Listen for the clearing of the current output cell\n",
              "var outputEl = gd.closest('.output');\n",
              "if (outputEl) {{\n",
              "    x.observe(outputEl, {childList: true});\n",
              "}}\n",
              "\n",
              "                        })                };                            </script>        </div>\n",
              "</body>\n",
              "</html>"
            ]
          },
          "metadata": {}
        }
      ]
    },
    {
      "cell_type": "code",
      "source": [
        "df_ipc_enterprise = df1[(df1['출원인']=='Baidu')|(df1['출원인']=='Apollo Intelligent')]\n",
        "df_ipc_enterprise = df_ipc_enterprise[['IPC분류']]"
      ],
      "metadata": {
        "id": "gi_bzDw8_1fC"
      },
      "execution_count": null,
      "outputs": []
    },
    {
      "cell_type": "code",
      "source": [
        "df_ipc_enterprise[\"IPC분류\"].map(lambda x : x.split(\",\")).tolist()"
      ],
      "metadata": {
        "id": "xPZuRO9v_1c3"
      },
      "execution_count": null,
      "outputs": []
    },
    {
      "cell_type": "code",
      "source": [
        "#  위의 리스트 개별 요소를 한개씩 분리해냄, 이 과정에서 :4 부분으로 ipc를 4글자로 자름\n",
        "edge_list = []\n",
        "for data in zip(range(df_ipc_enterprise.shape[0]),df_ipc_enterprise[\"IPC분류\"].map(lambda x : x.split(\",\")).tolist()):\n",
        "  for value in data[1]:\n",
        "    edge_list.append([data[0],value.strip()[:4]])"
      ],
      "metadata": {
        "id": "g4Wdn3t9_1aN"
      },
      "execution_count": null,
      "outputs": []
    },
    {
      "cell_type": "code",
      "source": [
        "df_ipc_enterprise_Baidu = pd.DataFrame(edge_list)\n",
        "df_ipc_enterprise_Baidu"
      ],
      "metadata": {
        "id": "9-tb1Vfu_1YD",
        "colab": {
          "base_uri": "https://localhost:8080/",
          "height": 423
        },
        "outputId": "a535a2e5-da1f-4ecc-d788-9130a4cd2b95"
      },
      "execution_count": null,
      "outputs": [
        {
          "output_type": "execute_result",
          "data": {
            "text/plain": [
              "      0     1\n",
              "0     0  B60W\n",
              "1     0  H04N\n",
              "2     0  G06K\n",
              "3     0  G06N\n",
              "4     0  G05D\n",
              "..   ..   ...\n",
              "240  55  G06T\n",
              "241  55  G06T\n",
              "242  55  G01S\n",
              "243  55  G01S\n",
              "244  55  G01S\n",
              "\n",
              "[245 rows x 2 columns]"
            ],
            "text/html": [
              "\n",
              "  <div id=\"df-8f284daf-0f14-4d13-b39e-89c69a859f44\">\n",
              "    <div class=\"colab-df-container\">\n",
              "      <div>\n",
              "<style scoped>\n",
              "    .dataframe tbody tr th:only-of-type {\n",
              "        vertical-align: middle;\n",
              "    }\n",
              "\n",
              "    .dataframe tbody tr th {\n",
              "        vertical-align: top;\n",
              "    }\n",
              "\n",
              "    .dataframe thead th {\n",
              "        text-align: right;\n",
              "    }\n",
              "</style>\n",
              "<table border=\"1\" class=\"dataframe\">\n",
              "  <thead>\n",
              "    <tr style=\"text-align: right;\">\n",
              "      <th></th>\n",
              "      <th>0</th>\n",
              "      <th>1</th>\n",
              "    </tr>\n",
              "  </thead>\n",
              "  <tbody>\n",
              "    <tr>\n",
              "      <th>0</th>\n",
              "      <td>0</td>\n",
              "      <td>B60W</td>\n",
              "    </tr>\n",
              "    <tr>\n",
              "      <th>1</th>\n",
              "      <td>0</td>\n",
              "      <td>H04N</td>\n",
              "    </tr>\n",
              "    <tr>\n",
              "      <th>2</th>\n",
              "      <td>0</td>\n",
              "      <td>G06K</td>\n",
              "    </tr>\n",
              "    <tr>\n",
              "      <th>3</th>\n",
              "      <td>0</td>\n",
              "      <td>G06N</td>\n",
              "    </tr>\n",
              "    <tr>\n",
              "      <th>4</th>\n",
              "      <td>0</td>\n",
              "      <td>G05D</td>\n",
              "    </tr>\n",
              "    <tr>\n",
              "      <th>...</th>\n",
              "      <td>...</td>\n",
              "      <td>...</td>\n",
              "    </tr>\n",
              "    <tr>\n",
              "      <th>240</th>\n",
              "      <td>55</td>\n",
              "      <td>G06T</td>\n",
              "    </tr>\n",
              "    <tr>\n",
              "      <th>241</th>\n",
              "      <td>55</td>\n",
              "      <td>G06T</td>\n",
              "    </tr>\n",
              "    <tr>\n",
              "      <th>242</th>\n",
              "      <td>55</td>\n",
              "      <td>G01S</td>\n",
              "    </tr>\n",
              "    <tr>\n",
              "      <th>243</th>\n",
              "      <td>55</td>\n",
              "      <td>G01S</td>\n",
              "    </tr>\n",
              "    <tr>\n",
              "      <th>244</th>\n",
              "      <td>55</td>\n",
              "      <td>G01S</td>\n",
              "    </tr>\n",
              "  </tbody>\n",
              "</table>\n",
              "<p>245 rows × 2 columns</p>\n",
              "</div>\n",
              "      <button class=\"colab-df-convert\" onclick=\"convertToInteractive('df-8f284daf-0f14-4d13-b39e-89c69a859f44')\"\n",
              "              title=\"Convert this dataframe to an interactive table.\"\n",
              "              style=\"display:none;\">\n",
              "        \n",
              "  <svg xmlns=\"http://www.w3.org/2000/svg\" height=\"24px\"viewBox=\"0 0 24 24\"\n",
              "       width=\"24px\">\n",
              "    <path d=\"M0 0h24v24H0V0z\" fill=\"none\"/>\n",
              "    <path d=\"M18.56 5.44l.94 2.06.94-2.06 2.06-.94-2.06-.94-.94-2.06-.94 2.06-2.06.94zm-11 1L8.5 8.5l.94-2.06 2.06-.94-2.06-.94L8.5 2.5l-.94 2.06-2.06.94zm10 10l.94 2.06.94-2.06 2.06-.94-2.06-.94-.94-2.06-.94 2.06-2.06.94z\"/><path d=\"M17.41 7.96l-1.37-1.37c-.4-.4-.92-.59-1.43-.59-.52 0-1.04.2-1.43.59L10.3 9.45l-7.72 7.72c-.78.78-.78 2.05 0 2.83L4 21.41c.39.39.9.59 1.41.59.51 0 1.02-.2 1.41-.59l7.78-7.78 2.81-2.81c.8-.78.8-2.07 0-2.86zM5.41 20L4 18.59l7.72-7.72 1.47 1.35L5.41 20z\"/>\n",
              "  </svg>\n",
              "      </button>\n",
              "      \n",
              "  <style>\n",
              "    .colab-df-container {\n",
              "      display:flex;\n",
              "      flex-wrap:wrap;\n",
              "      gap: 12px;\n",
              "    }\n",
              "\n",
              "    .colab-df-convert {\n",
              "      background-color: #E8F0FE;\n",
              "      border: none;\n",
              "      border-radius: 50%;\n",
              "      cursor: pointer;\n",
              "      display: none;\n",
              "      fill: #1967D2;\n",
              "      height: 32px;\n",
              "      padding: 0 0 0 0;\n",
              "      width: 32px;\n",
              "    }\n",
              "\n",
              "    .colab-df-convert:hover {\n",
              "      background-color: #E2EBFA;\n",
              "      box-shadow: 0px 1px 2px rgba(60, 64, 67, 0.3), 0px 1px 3px 1px rgba(60, 64, 67, 0.15);\n",
              "      fill: #174EA6;\n",
              "    }\n",
              "\n",
              "    [theme=dark] .colab-df-convert {\n",
              "      background-color: #3B4455;\n",
              "      fill: #D2E3FC;\n",
              "    }\n",
              "\n",
              "    [theme=dark] .colab-df-convert:hover {\n",
              "      background-color: #434B5C;\n",
              "      box-shadow: 0px 1px 3px 1px rgba(0, 0, 0, 0.15);\n",
              "      filter: drop-shadow(0px 1px 2px rgba(0, 0, 0, 0.3));\n",
              "      fill: #FFFFFF;\n",
              "    }\n",
              "  </style>\n",
              "\n",
              "      <script>\n",
              "        const buttonEl =\n",
              "          document.querySelector('#df-8f284daf-0f14-4d13-b39e-89c69a859f44 button.colab-df-convert');\n",
              "        buttonEl.style.display =\n",
              "          google.colab.kernel.accessAllowed ? 'block' : 'none';\n",
              "\n",
              "        async function convertToInteractive(key) {\n",
              "          const element = document.querySelector('#df-8f284daf-0f14-4d13-b39e-89c69a859f44');\n",
              "          const dataTable =\n",
              "            await google.colab.kernel.invokeFunction('convertToInteractive',\n",
              "                                                     [key], {});\n",
              "          if (!dataTable) return;\n",
              "\n",
              "          const docLinkHtml = 'Like what you see? Visit the ' +\n",
              "            '<a target=\"_blank\" href=https://colab.research.google.com/notebooks/data_table.ipynb>data table notebook</a>'\n",
              "            + ' to learn more about interactive tables.';\n",
              "          element.innerHTML = '';\n",
              "          dataTable['output_type'] = 'display_data';\n",
              "          await google.colab.output.renderOutput(dataTable, element);\n",
              "          const docLink = document.createElement('div');\n",
              "          docLink.innerHTML = docLinkHtml;\n",
              "          element.appendChild(docLink);\n",
              "        }\n",
              "      </script>\n",
              "    </div>\n",
              "  </div>\n",
              "  "
            ]
          },
          "metadata": {},
          "execution_count": 17
        }
      ]
    },
    {
      "cell_type": "code",
      "source": [
        "df_ipc_enterprise_Baidu[1].value_counts()"
      ],
      "metadata": {
        "colab": {
          "base_uri": "https://localhost:8080/"
        },
        "id": "66hamBh04uVh",
        "outputId": "64495de4-7c57-4800-c382-30818c79ff5d"
      },
      "execution_count": null,
      "outputs": [
        {
          "output_type": "execute_result",
          "data": {
            "text/plain": [
              "B60W    57\n",
              "G05D    37\n",
              "G06K    30\n",
              "G06N    21\n",
              "G01S    16\n",
              "G06T    12\n",
              "G08G     9\n",
              "H04L     8\n",
              "H04R     7\n",
              "B60Q     7\n",
              "G10L     6\n",
              "G07C     6\n",
              "A61B     6\n",
              "G06V     5\n",
              "G01C     5\n",
              "H04W     4\n",
              "G06F     3\n",
              "B60R     3\n",
              "H04N     1\n",
              "H04S     1\n",
              "H04B     1\n",
              "Name: 1, dtype: int64"
            ]
          },
          "metadata": {},
          "execution_count": 21
        }
      ]
    },
    {
      "cell_type": "code",
      "source": [
        "df_ipc_enterprise = df1[(df1['출원인']=='Uber Technologies')]\n",
        "df_ipc_enterprise = df_ipc_enterprise[['IPC분류']]"
      ],
      "metadata": {
        "id": "7Og_YbUm4veT"
      },
      "execution_count": null,
      "outputs": []
    },
    {
      "cell_type": "code",
      "source": [
        "df_ipc_enterprise[\"IPC분류\"].map(lambda x : x.split(\",\")).tolist()"
      ],
      "metadata": {
        "id": "eC9Hb6f63wk5"
      },
      "execution_count": null,
      "outputs": []
    },
    {
      "cell_type": "code",
      "source": [
        "edge_list = []\n",
        "for data in zip(range(df_ipc_enterprise.shape[0]),df_ipc_enterprise[\"IPC분류\"].map(lambda x : x.split(\",\")).tolist()):\n",
        "  for value in data[1]:\n",
        "    edge_list.append([data[0],value.strip()[:4]])"
      ],
      "metadata": {
        "id": "j5rhRYSF6gMT"
      },
      "execution_count": null,
      "outputs": []
    },
    {
      "cell_type": "code",
      "source": [
        "df_ipc_enterprise_Uber = pd.DataFrame(edge_list)\n",
        "df_ipc_enterprise_Uber[1].value_counts()"
      ],
      "metadata": {
        "colab": {
          "base_uri": "https://localhost:8080/"
        },
        "id": "fk_wfOzX6gJ3",
        "outputId": "64a01cd6-d15d-436b-da73-03be8f8a9d81"
      },
      "execution_count": null,
      "outputs": [
        {
          "output_type": "execute_result",
          "data": {
            "text/plain": [
              "G08G    73\n",
              "G05D    52\n",
              "B60W    41\n",
              "G01C    36\n",
              "G06N    25\n",
              "G06T    15\n",
              "G01S    14\n",
              "G06Q    13\n",
              "B60R    13\n",
              "H04W     7\n",
              "G06K     5\n",
              "G05B     2\n",
              "G06V     2\n",
              "B60T     1\n",
              "G07C     1\n",
              "E05F     1\n",
              "H04L     1\n",
              "B60N     1\n",
              "Name: 1, dtype: int64"
            ]
          },
          "metadata": {},
          "execution_count": 26
        }
      ]
    },
    {
      "cell_type": "code",
      "source": [
        "df_ipc_enterprise = df1[(df1['출원인']=='TOYOTA')]\n",
        "df_ipc_enterprise = df_ipc_enterprise[['IPC분류']]"
      ],
      "metadata": {
        "id": "pO7Srm-q6gHX"
      },
      "execution_count": null,
      "outputs": []
    },
    {
      "cell_type": "code",
      "source": [
        "df_ipc_enterprise[\"IPC분류\"].map(lambda x : x.split(\",\")).tolist()"
      ],
      "metadata": {
        "id": "T0wBrg7V6gFA"
      },
      "execution_count": null,
      "outputs": []
    },
    {
      "cell_type": "code",
      "source": [
        "edge_list = []\n",
        "for data in zip(range(df_ipc_enterprise.shape[0]),df_ipc_enterprise[\"IPC분류\"].map(lambda x : x.split(\",\")).tolist()):\n",
        "  for value in data[1]:\n",
        "    edge_list.append([data[0],value.strip()[:4]])"
      ],
      "metadata": {
        "id": "UN1jJxFH6gAb"
      },
      "execution_count": null,
      "outputs": []
    },
    {
      "cell_type": "code",
      "source": [
        "df_ipc_enterprise_Toyota = pd.DataFrame(edge_list)\n",
        "df_ipc_enterprise_Toyota[1].value_counts()"
      ],
      "metadata": {
        "colab": {
          "base_uri": "https://localhost:8080/"
        },
        "id": "wWwaOJH16f91",
        "outputId": "52fa3234-cb6c-433e-91db-d499a11fa439"
      },
      "execution_count": null,
      "outputs": [
        {
          "output_type": "execute_result",
          "data": {
            "text/plain": [
              "B60W    74\n",
              "G05D    35\n",
              "G08G    18\n",
              "G06Q    12\n",
              "G06N     8\n",
              "G06K     8\n",
              "G07C     6\n",
              "G01C     6\n",
              "G05B     4\n",
              "H04W     4\n",
              "G06F     3\n",
              "B60R     3\n",
              "B60H     2\n",
              "B60J     2\n",
              "A61L     2\n",
              "B60Q     2\n",
              "B60N     2\n",
              "E05F     1\n",
              "Name: 1, dtype: int64"
            ]
          },
          "metadata": {},
          "execution_count": 30
        }
      ]
    },
    {
      "cell_type": "code",
      "source": [
        "df_ipc_enterprise = df1[(df1['출원인']=='GM Global Technology Operations LLC')]\n",
        "df_ipc_enterprise = df_ipc_enterprise[['IPC분류']]"
      ],
      "metadata": {
        "id": "yGRQZafT6f7p"
      },
      "execution_count": null,
      "outputs": []
    },
    {
      "cell_type": "code",
      "source": [
        "df_ipc_enterprise[\"IPC분류\"].map(lambda x : x.split(\",\")).tolist()"
      ],
      "metadata": {
        "id": "kP97FwUt6f5R"
      },
      "execution_count": null,
      "outputs": []
    },
    {
      "cell_type": "code",
      "source": [
        "edge_list = []\n",
        "for data in zip(range(df_ipc_enterprise.shape[0]),df_ipc_enterprise[\"IPC분류\"].map(lambda x : x.split(\",\")).tolist()):\n",
        "  for value in data[1]:\n",
        "    edge_list.append([data[0],value.strip()[:4]])"
      ],
      "metadata": {
        "id": "FNtSHg-_6f22"
      },
      "execution_count": null,
      "outputs": []
    },
    {
      "cell_type": "code",
      "source": [
        "df_ipc_enterprise_GM = pd.DataFrame(edge_list)\n",
        "df_ipc_enterprise_GM[1].value_counts()"
      ],
      "metadata": {
        "colab": {
          "base_uri": "https://localhost:8080/"
        },
        "id": "se-3yKy86f0b",
        "outputId": "357a8e8f-2a72-4348-8700-305328111c33"
      },
      "execution_count": null,
      "outputs": [
        {
          "output_type": "execute_result",
          "data": {
            "text/plain": [
              "G05D    53\n",
              "G06K    23\n",
              "B60W    22\n",
              "G01C    13\n",
              "G06N     9\n",
              "G07C     6\n",
              "B60K     6\n",
              "G05B     5\n",
              "G01S     4\n",
              "B60Q     2\n",
              "A61G     2\n",
              "G06T     2\n",
              "G06Q     1\n",
              "G08G     1\n",
              "B60P     1\n",
              "Name: 1, dtype: int64"
            ]
          },
          "metadata": {},
          "execution_count": 34
        }
      ]
    },
    {
      "cell_type": "code",
      "source": [
        "df_ipc_enterprise = df1[(df1['출원인']=='Hyundai Motor')]\n",
        "df_ipc_enterprise = df_ipc_enterprise[['IPC분류']]"
      ],
      "metadata": {
        "id": "f-LwI8D96fyX"
      },
      "execution_count": null,
      "outputs": []
    },
    {
      "cell_type": "code",
      "source": [
        "df_ipc_enterprise[\"IPC분류\"].map(lambda x : x.split(\",\")).tolist()"
      ],
      "metadata": {
        "id": "HGMPBkFm6fv5"
      },
      "execution_count": null,
      "outputs": []
    },
    {
      "cell_type": "code",
      "source": [
        "edge_list = []\n",
        "for data in zip(range(df_ipc_enterprise.shape[0]),df_ipc_enterprise[\"IPC분류\"].map(lambda x : x.split(\",\")).tolist()):\n",
        "  for value in data[1]:\n",
        "    edge_list.append([data[0],value.strip()[:4]])"
      ],
      "metadata": {
        "id": "z4uCM6rg6ftD"
      },
      "execution_count": null,
      "outputs": []
    },
    {
      "cell_type": "code",
      "source": [
        "df_ipc_enterprise_Hyundai = pd.DataFrame(edge_list)\n",
        "df_ipc_enterprise_Hyundai[1].value_counts()"
      ],
      "metadata": {
        "colab": {
          "base_uri": "https://localhost:8080/"
        },
        "id": "KqrgfLyb6fQD",
        "outputId": "bacc3892-0487-4eea-9a7f-6734ebcc34d0"
      },
      "execution_count": null,
      "outputs": [
        {
          "output_type": "execute_result",
          "data": {
            "text/plain": [
              "B60W    38\n",
              "G05D    31\n",
              "G06K    21\n",
              "G06N    16\n",
              "G06V     5\n",
              "G06Q     5\n",
              "G01C     4\n",
              "B62D     3\n",
              "G10L     2\n",
              "H04R     2\n",
              "B60R     2\n",
              "G07C     2\n",
              "H04W     2\n",
              "G05B     2\n",
              "G06F     1\n",
              "G01S     1\n",
              "G08G     1\n",
              "G06T     1\n",
              "Name: 1, dtype: int64"
            ]
          },
          "metadata": {},
          "execution_count": 39
        }
      ]
    },
    {
      "cell_type": "code",
      "source": [
        "df_ipc_enterprise = df1[(df1['출원인']=='State Farm Mutual Automobile Insurance Company')]\n",
        "df_ipc_enterprise = df_ipc_enterprise[['IPC분류']]"
      ],
      "metadata": {
        "id": "UD7wSCrHLGhs"
      },
      "execution_count": null,
      "outputs": []
    },
    {
      "cell_type": "code",
      "source": [
        "df_ipc_enterprise[\"IPC분류\"].map(lambda x : x.split(\",\")).tolist()"
      ],
      "metadata": {
        "id": "ecOJCSL5Sibi"
      },
      "execution_count": null,
      "outputs": []
    },
    {
      "cell_type": "code",
      "source": [
        "edge_list = []\n",
        "for data in zip(range(df_ipc_enterprise.shape[0]),df_ipc_enterprise[\"IPC분류\"].map(lambda x : x.split(\",\")).tolist()):\n",
        "  for value in data[1]:\n",
        "    edge_list.append([data[0],value.strip()[:4]])"
      ],
      "metadata": {
        "id": "uSxw-ts-SiZc"
      },
      "execution_count": null,
      "outputs": []
    },
    {
      "cell_type": "code",
      "source": [
        "df_ipc_enterprise_StateFarm = pd.DataFrame(edge_list)\n",
        "df_ipc_enterprise_StateFarm[1].value_counts()"
      ],
      "metadata": {
        "colab": {
          "base_uri": "https://localhost:8080/"
        },
        "id": "tdRF1sE9SiXA",
        "outputId": "c07dfee8-6a21-40bf-a045-52664f745f7d"
      },
      "execution_count": null,
      "outputs": [
        {
          "output_type": "execute_result",
          "data": {
            "text/plain": [
              "G06Q    61\n",
              "B60W    45\n",
              "G08G    32\n",
              "G07C    28\n",
              "G05D    17\n",
              "H04W    16\n",
              "B60R    16\n",
              "G08B    13\n",
              "G06K     9\n",
              "G01S     9\n",
              "H04L     8\n",
              "G06F     7\n",
              "G05B     7\n",
              "G01C     5\n",
              "B60Q     5\n",
              "G06N     4\n",
              "G06T     4\n",
              "B60L     2\n",
              "G01W     2\n",
              "B60P     1\n",
              "G01B     1\n",
              "G06V     1\n",
              "H04N     1\n",
              "Name: 1, dtype: int64"
            ]
          },
          "metadata": {},
          "execution_count": 43
        }
      ]
    },
    {
      "cell_type": "code",
      "source": [
        "df_ipc_enterprise = df1[(df1['출원인']=='Micron Technology, Inc.')]\n",
        "df_ipc_enterprise = df_ipc_enterprise[['IPC분류']]"
      ],
      "metadata": {
        "id": "D0jzbdr8SiUa"
      },
      "execution_count": null,
      "outputs": []
    },
    {
      "cell_type": "code",
      "source": [
        "df_ipc_enterprise[\"IPC분류\"].map(lambda x : x.split(\",\")).tolist()"
      ],
      "metadata": {
        "id": "tbe25ym4SiSG"
      },
      "execution_count": null,
      "outputs": []
    },
    {
      "cell_type": "code",
      "source": [
        "edge_list = []\n",
        "for data in zip(range(df_ipc_enterprise.shape[0]),df_ipc_enterprise[\"IPC분류\"].map(lambda x : x.split(\",\")).tolist()):\n",
        "  for value in data[1]:\n",
        "    edge_list.append([data[0],value.strip()[:4]])"
      ],
      "metadata": {
        "id": "4yASp2ddSiPu"
      },
      "execution_count": null,
      "outputs": []
    },
    {
      "cell_type": "code",
      "source": [
        "df_ipc_enterprise_Micron = pd.DataFrame(edge_list)\n",
        "df_ipc_enterprise_Micron[1].value_counts()"
      ],
      "metadata": {
        "colab": {
          "base_uri": "https://localhost:8080/"
        },
        "id": "AmBW_PzmSiNP",
        "outputId": "1b5ea066-fcaf-4999-bbec-c4119e137fee"
      },
      "execution_count": null,
      "outputs": [
        {
          "output_type": "execute_result",
          "data": {
            "text/plain": [
              "B60R    21\n",
              "G06F    14\n",
              "G07C    13\n",
              "B60W    12\n",
              "G06N    11\n",
              "G05D    10\n",
              "G06T     9\n",
              "H04N     9\n",
              "G06K     8\n",
              "G03B     6\n",
              "G01S     6\n",
              "G02B     5\n",
              "G01C     3\n",
              "G06V     3\n",
              "H04W     2\n",
              "G06Q     1\n",
              "B60L     1\n",
              "G05B     1\n",
              "Name: 1, dtype: int64"
            ]
          },
          "metadata": {},
          "execution_count": 47
        }
      ]
    },
    {
      "cell_type": "code",
      "source": [
        "df_ipc_enterprise = df1[(df1['출원인']=='Waymo')]\n",
        "df_ipc_enterprise = df_ipc_enterprise[['IPC분류']]"
      ],
      "metadata": {
        "id": "amiR21kGSiLG"
      },
      "execution_count": null,
      "outputs": []
    },
    {
      "cell_type": "code",
      "source": [
        "df_ipc_enterprise[\"IPC분류\"].map(lambda x : x.split(\",\")).tolist()"
      ],
      "metadata": {
        "id": "-rPJaqR3SiIv"
      },
      "execution_count": null,
      "outputs": []
    },
    {
      "cell_type": "code",
      "source": [
        "edge_list = []\n",
        "for data in zip(range(df_ipc_enterprise.shape[0]),df_ipc_enterprise[\"IPC분류\"].map(lambda x : x.split(\",\")).tolist()):\n",
        "  for value in data[1]:\n",
        "    edge_list.append([data[0],value.strip()[:4]])"
      ],
      "metadata": {
        "id": "T4PJI6FiSiGI"
      },
      "execution_count": null,
      "outputs": []
    },
    {
      "cell_type": "code",
      "source": [
        "df_ipc_enterprise_Waymo = pd.DataFrame(edge_list)\n",
        "df_ipc_enterprise_Waymo[1].value_counts()"
      ],
      "metadata": {
        "colab": {
          "base_uri": "https://localhost:8080/"
        },
        "id": "hnFtzATNSiDs",
        "outputId": "5f1c1759-ea1f-4963-c670-65a588b0baa3"
      },
      "execution_count": null,
      "outputs": [
        {
          "output_type": "execute_result",
          "data": {
            "text/plain": [
              "G05D    19\n",
              "G06K    14\n",
              "B60W    11\n",
              "G08G    11\n",
              "G01S     8\n",
              "B60Q     8\n",
              "G06F     4\n",
              "G06N     2\n",
              "G06T     2\n",
              "A61B     2\n",
              "G06V     1\n",
              "G01C     1\n",
              "Name: 1, dtype: int64"
            ]
          },
          "metadata": {},
          "execution_count": 51
        }
      ]
    },
    {
      "cell_type": "code",
      "source": [
        "df_ipc_enterprise = df1[(df1['출원인']=='Samsung Electronics')]\n",
        "df_ipc_enterprise = df_ipc_enterprise[['IPC분류']]"
      ],
      "metadata": {
        "id": "TRIVlyIPSiBW"
      },
      "execution_count": null,
      "outputs": []
    },
    {
      "cell_type": "code",
      "source": [
        "df_ipc_enterprise[\"IPC분류\"].map(lambda x : x.split(\",\")).tolist()"
      ],
      "metadata": {
        "id": "mt_U4_oJakQo"
      },
      "execution_count": null,
      "outputs": []
    },
    {
      "cell_type": "code",
      "source": [
        "edge_list = []\n",
        "for data in zip(range(df_ipc_enterprise.shape[0]),df_ipc_enterprise[\"IPC분류\"].map(lambda x : x.split(\",\")).tolist()):\n",
        "  for value in data[1]:\n",
        "    edge_list.append([data[0],value.strip()[:4]])"
      ],
      "metadata": {
        "id": "VCISpxgdakN7"
      },
      "execution_count": null,
      "outputs": []
    },
    {
      "cell_type": "code",
      "source": [
        "df_ipc_enterprise_Samsung = pd.DataFrame(edge_list)\n",
        "df_ipc_enterprise_Samsung[1].value_counts()"
      ],
      "metadata": {
        "colab": {
          "base_uri": "https://localhost:8080/"
        },
        "id": "_c2-6As7akGc",
        "outputId": "e831b5d1-0ea3-4a45-8aba-48b1e4f70743"
      },
      "execution_count": null,
      "outputs": [
        {
          "output_type": "execute_result",
          "data": {
            "text/plain": [
              "G05D    18\n",
              "B60W    12\n",
              "G11C    11\n",
              "G01C     8\n",
              "G06T     8\n",
              "G06K     7\n",
              "G06N     6\n",
              "H04N     6\n",
              "G06V     4\n",
              "G01S     2\n",
              "G06F     2\n",
              "Name: 1, dtype: int64"
            ]
          },
          "metadata": {},
          "execution_count": 55
        }
      ]
    },
    {
      "cell_type": "code",
      "source": [
        "df_ipc_enterprise = df1[(df1['출원인']=='Aurora')]\n",
        "df_ipc_enterprise = df_ipc_enterprise[['IPC분류']]"
      ],
      "metadata": {
        "id": "FoXN0JowakD4"
      },
      "execution_count": null,
      "outputs": []
    },
    {
      "cell_type": "code",
      "source": [
        "df_ipc_enterprise[\"IPC분류\"].map(lambda x : x.split(\",\")).tolist()"
      ],
      "metadata": {
        "id": "bm-omSKjakBg"
      },
      "execution_count": null,
      "outputs": []
    },
    {
      "cell_type": "code",
      "source": [
        "edge_list = []\n",
        "for data in zip(range(df_ipc_enterprise.shape[0]),df_ipc_enterprise[\"IPC분류\"].map(lambda x : x.split(\",\")).tolist()):\n",
        "  for value in data[1]:\n",
        "    edge_list.append([data[0],value.strip()[:4]])"
      ],
      "metadata": {
        "id": "sJlpiAfoaj_K"
      },
      "execution_count": null,
      "outputs": []
    },
    {
      "cell_type": "code",
      "source": [
        "df_ipc_enterprise_Aurora = pd.DataFrame(edge_list)\n",
        "df_ipc_enterprise_Aurora[1].value_counts()"
      ],
      "metadata": {
        "colab": {
          "base_uri": "https://localhost:8080/"
        },
        "id": "ugz6OP30aj8y",
        "outputId": "e3240c5f-5ba9-45af-ebaf-0c72ca9ca694"
      },
      "execution_count": null,
      "outputs": [
        {
          "output_type": "execute_result",
          "data": {
            "text/plain": [
              "G05D    22\n",
              "G06N    13\n",
              "B60W    11\n",
              "G06K    10\n",
              "G01S     5\n",
              "G05B     2\n",
              "G06V     2\n",
              "G07C     1\n",
              "Name: 1, dtype: int64"
            ]
          },
          "metadata": {},
          "execution_count": 59
        }
      ]
    },
    {
      "cell_type": "code",
      "source": [
        "df_ipc_enterprise = df1[(df1['출원인']=='Motional AD')]\n",
        "df_ipc_enterprise = df_ipc_enterprise[['IPC분류']]"
      ],
      "metadata": {
        "id": "6Es1Q_aBaj6q"
      },
      "execution_count": null,
      "outputs": []
    },
    {
      "cell_type": "code",
      "source": [
        "df_ipc_enterprise[\"IPC분류\"].map(lambda x : x.split(\",\")).tolist()"
      ],
      "metadata": {
        "id": "YQNqpN6Aaj4S"
      },
      "execution_count": null,
      "outputs": []
    },
    {
      "cell_type": "code",
      "source": [
        "edge_list = []\n",
        "for data in zip(range(df_ipc_enterprise.shape[0]),df_ipc_enterprise[\"IPC분류\"].map(lambda x : x.split(\",\")).tolist()):\n",
        "  for value in data[1]:\n",
        "    edge_list.append([data[0],value.strip()[:4]])"
      ],
      "metadata": {
        "id": "OOlTmwCFaj1_"
      },
      "execution_count": null,
      "outputs": []
    },
    {
      "cell_type": "code",
      "source": [
        "df_ipc_enterprise_Motional = pd.DataFrame(edge_list)\n",
        "df_ipc_enterprise_Motional[1].value_counts()"
      ],
      "metadata": {
        "colab": {
          "base_uri": "https://localhost:8080/"
        },
        "id": "n5oTDnsEajzg",
        "outputId": "cbbd4cff-3540-485c-8d7b-51d5f9e4e651"
      },
      "execution_count": null,
      "outputs": [
        {
          "output_type": "execute_result",
          "data": {
            "text/plain": [
              "B60W    22\n",
              "G05D    11\n",
              "G06N     9\n",
              "G06V     6\n",
              "G01C     6\n",
              "G06K     5\n",
              "G07C     4\n",
              "G08G     2\n",
              "Name: 1, dtype: int64"
            ]
          },
          "metadata": {},
          "execution_count": 63
        }
      ]
    },
    {
      "cell_type": "code",
      "source": [
        "df_ipc_enterprise = df1[(df1['출원인']=='Tesla')]\n",
        "df_ipc_enterprise = df_ipc_enterprise[['IPC분류']]"
      ],
      "metadata": {
        "id": "sNvSsqe3ajxm"
      },
      "execution_count": null,
      "outputs": []
    },
    {
      "cell_type": "code",
      "source": [
        "df_ipc_enterprise[\"IPC분류\"].map(lambda x : x.split(\",\")).tolist()"
      ],
      "metadata": {
        "id": "AdxJKAxwajuf"
      },
      "execution_count": null,
      "outputs": []
    },
    {
      "cell_type": "code",
      "source": [
        "edge_list = []\n",
        "for data in zip(range(df_ipc_enterprise.shape[0]),df_ipc_enterprise[\"IPC분류\"].map(lambda x : x.split(\",\")).tolist()):\n",
        "  for value in data[1]:\n",
        "    edge_list.append([data[0],value.strip()[:4]])"
      ],
      "metadata": {
        "id": "wSzOBOgcexgC"
      },
      "execution_count": null,
      "outputs": []
    },
    {
      "cell_type": "code",
      "source": [
        "df_ipc_enterprise_Tesla = pd.DataFrame(edge_list)\n",
        "df_ipc_enterprise_Tesla[1].value_counts()"
      ],
      "metadata": {
        "colab": {
          "base_uri": "https://localhost:8080/"
        },
        "id": "RBh-HOW_exdt",
        "outputId": "9074c74c-9e55-4a27-ca20-c07ad1051115"
      },
      "execution_count": null,
      "outputs": [
        {
          "output_type": "execute_result",
          "data": {
            "text/plain": [
              "G05D    7\n",
              "G06N    6\n",
              "G06K    6\n",
              "B60W    4\n",
              "G06T    3\n",
              "H04L    3\n",
              "B60Q    1\n",
              "G06F    1\n",
              "B60R    1\n",
              "Name: 1, dtype: int64"
            ]
          },
          "metadata": {},
          "execution_count": 67
        }
      ]
    },
    {
      "cell_type": "code",
      "source": [
        "df_ipc_enterprise = df1[(df1['출원인']=='VOLKSWAGEN AG')]\n",
        "df_ipc_enterprise = df_ipc_enterprise[['IPC분류']]"
      ],
      "metadata": {
        "id": "yyQ4KBqjexbU"
      },
      "execution_count": null,
      "outputs": []
    },
    {
      "cell_type": "code",
      "source": [
        "df_ipc_enterprise[\"IPC분류\"].map(lambda x : x.split(\",\")).tolist()"
      ],
      "metadata": {
        "id": "msgMy0vKexZA"
      },
      "execution_count": null,
      "outputs": []
    },
    {
      "cell_type": "code",
      "source": [
        "edge_list = []\n",
        "for data in zip(range(df_ipc_enterprise.shape[0]),df_ipc_enterprise[\"IPC분류\"].map(lambda x : x.split(\",\")).tolist()):\n",
        "  for value in data[1]:\n",
        "    edge_list.append([data[0],value.strip()[:4]])"
      ],
      "metadata": {
        "id": "qX1DpprnexWs"
      },
      "execution_count": null,
      "outputs": []
    },
    {
      "cell_type": "code",
      "source": [
        "df_ipc_enterprise_Volkswagen = pd.DataFrame(edge_list)\n",
        "df_ipc_enterprise_Volkswagen[1].value_counts()"
      ],
      "metadata": {
        "colab": {
          "base_uri": "https://localhost:8080/"
        },
        "id": "A3jVvyGdexUB",
        "outputId": "9e911b75-58f1-48cc-deb7-a530719fe33f"
      },
      "execution_count": null,
      "outputs": [
        {
          "output_type": "execute_result",
          "data": {
            "text/plain": [
              "G05D    6\n",
              "B60W    6\n",
              "G01C    5\n",
              "G06N    4\n",
              "G06T    2\n",
              "G06Q    1\n",
              "B62D    1\n",
              "B60K    1\n",
              "G01S    1\n",
              "H04L    1\n",
              "Name: 1, dtype: int64"
            ]
          },
          "metadata": {},
          "execution_count": 71
        }
      ]
    },
    {
      "cell_type": "code",
      "source": [
        "df_ipc_enterprise = df1[(df1['출원인']=='FORD GLOBAL TECHNOLOGIES')]\n",
        "df_ipc_enterprise = df_ipc_enterprise[['IPC분류']]"
      ],
      "metadata": {
        "id": "MxwEccsHexRi"
      },
      "execution_count": null,
      "outputs": []
    },
    {
      "cell_type": "code",
      "source": [
        "df_ipc_enterprise[\"IPC분류\"].map(lambda x : x.split(\",\")).tolist()"
      ],
      "metadata": {
        "id": "EBye6SJFexO0"
      },
      "execution_count": null,
      "outputs": []
    },
    {
      "cell_type": "code",
      "source": [
        "edge_list = []\n",
        "for data in zip(range(df_ipc_enterprise.shape[0]),df_ipc_enterprise[\"IPC분류\"].map(lambda x : x.split(\",\")).tolist()):\n",
        "  for value in data[1]:\n",
        "    edge_list.append([data[0],value.strip()[:4]])"
      ],
      "metadata": {
        "id": "Levk_HxdexMX"
      },
      "execution_count": null,
      "outputs": []
    },
    {
      "cell_type": "code",
      "source": [
        "df_ipc_enterprise_Ford = pd.DataFrame(edge_list)\n",
        "df_ipc_enterprise_Ford[1].value_counts()"
      ],
      "metadata": {
        "colab": {
          "base_uri": "https://localhost:8080/"
        },
        "id": "0hvbAPRYexJ_",
        "outputId": "49053549-a161-47b1-cf8b-c196d852b3ae"
      },
      "execution_count": null,
      "outputs": [
        {
          "output_type": "execute_result",
          "data": {
            "text/plain": [
              "G06K    6\n",
              "B60W    4\n",
              "H04W    2\n",
              "G06T    2\n",
              "G06F    1\n",
              "G06N    1\n",
              "B60K    1\n",
              "Name: 1, dtype: int64"
            ]
          },
          "metadata": {},
          "execution_count": 75
        }
      ]
    },
    {
      "cell_type": "code",
      "source": [
        "df_ipc_enterprise = df1[(df1['출원인']=='HONDA MOTOR')]\n",
        "df_ipc_enterprise = df_ipc_enterprise[['IPC분류']]"
      ],
      "metadata": {
        "id": "eZpj3wPhexHN"
      },
      "execution_count": null,
      "outputs": []
    },
    {
      "cell_type": "code",
      "source": [
        "df_ipc_enterprise[\"IPC분류\"].map(lambda x : x.split(\",\")).tolist()"
      ],
      "metadata": {
        "id": "fkZRmCfwexEg"
      },
      "execution_count": null,
      "outputs": []
    },
    {
      "cell_type": "code",
      "source": [
        "edge_list = []\n",
        "for data in zip(range(df_ipc_enterprise.shape[0]),df_ipc_enterprise[\"IPC분류\"].map(lambda x : x.split(\",\")).tolist()):\n",
        "  for value in data[1]:\n",
        "    edge_list.append([data[0],value.strip()[:4]])"
      ],
      "metadata": {
        "id": "Z2ZAKnUKexBE"
      },
      "execution_count": null,
      "outputs": []
    },
    {
      "cell_type": "code",
      "source": [
        "df_ipc_enterprise_Honda = pd.DataFrame(edge_list)\n",
        "df_ipc_enterprise_Honda[1].value_counts()"
      ],
      "metadata": {
        "colab": {
          "base_uri": "https://localhost:8080/"
        },
        "id": "werUbUdKew-d",
        "outputId": "875c18f6-fd48-48ae-c2e4-45396602875e"
      },
      "execution_count": null,
      "outputs": [
        {
          "output_type": "execute_result",
          "data": {
            "text/plain": [
              "G06T    4\n",
              "B60W    3\n",
              "G06K    3\n",
              "G06N    2\n",
              "G01C    1\n",
              "G06F    1\n",
              "G05B    1\n",
              "G05D    1\n",
              "H04N    1\n",
              "Name: 1, dtype: int64"
            ]
          },
          "metadata": {},
          "execution_count": 79
        }
      ]
    },
    {
      "cell_type": "code",
      "source": [
        "df_ipc_enterprise = df1[(df1['출원인']=='Huawei Technologies')]\n",
        "df_ipc_enterprise = df_ipc_enterprise[['IPC분류']]"
      ],
      "metadata": {
        "id": "InfyCo3ug4fe"
      },
      "execution_count": null,
      "outputs": []
    },
    {
      "cell_type": "code",
      "source": [
        "df_ipc_enterprise[\"IPC분류\"].map(lambda x : x.split(\",\")).tolist()"
      ],
      "metadata": {
        "id": "sRNAg2acg4cp"
      },
      "execution_count": null,
      "outputs": []
    },
    {
      "cell_type": "code",
      "source": [
        "edge_list = []\n",
        "for data in zip(range(df_ipc_enterprise.shape[0]),df_ipc_enterprise[\"IPC분류\"].map(lambda x : x.split(\",\")).tolist()):\n",
        "  for value in data[1]:\n",
        "    edge_list.append([data[0],value.strip()[:4]])"
      ],
      "metadata": {
        "id": "6vVliLYVg4aR"
      },
      "execution_count": null,
      "outputs": []
    },
    {
      "cell_type": "code",
      "source": [
        "df_ipc_enterprise_Huawei = pd.DataFrame(edge_list)\n",
        "df_ipc_enterprise_Huawei[1].value_counts()"
      ],
      "metadata": {
        "colab": {
          "base_uri": "https://localhost:8080/"
        },
        "id": "32UfgNPRg4XZ",
        "outputId": "9a36d5e6-9606-4aa2-df02-1123e2f14c62"
      },
      "execution_count": null,
      "outputs": [
        {
          "output_type": "execute_result",
          "data": {
            "text/plain": [
              "B60W    6\n",
              "G06N    2\n",
              "G06V    2\n",
              "H04W    1\n",
              "B60S    1\n",
              "G01C    1\n",
              "Name: 1, dtype: int64"
            ]
          },
          "metadata": {},
          "execution_count": 83
        }
      ]
    },
    {
      "cell_type": "code",
      "source": [
        "import plotly.graph_objects as go\n",
        "\n",
        "labels = ['US','KR','JP','CN','EU','IL','IN','CA','TW']\n",
        "values = [414, 94, 71, 69, 48, 10, 8, 2, 1]\n",
        "\n",
        "fig = go.Figure(data=[go.Pie(labels=labels, values=values, textinfo='label+percent',\n",
        "                             insidetextorientation='radial'\n",
        "                            )])\n",
        "fig.show()"
      ],
      "metadata": {
        "id": "C1IxcE7ihy8p",
        "colab": {
          "base_uri": "https://localhost:8080/",
          "height": 542
        },
        "outputId": "9cda7ea3-7db2-4a1f-a057-9c1249a022f8"
      },
      "execution_count": null,
      "outputs": [
        {
          "output_type": "display_data",
          "data": {
            "text/html": [
              "<html>\n",
              "<head><meta charset=\"utf-8\" /></head>\n",
              "<body>\n",
              "    <div>            <script src=\"https://cdnjs.cloudflare.com/ajax/libs/mathjax/2.7.5/MathJax.js?config=TeX-AMS-MML_SVG\"></script><script type=\"text/javascript\">if (window.MathJax) {MathJax.Hub.Config({SVG: {font: \"STIX-Web\"}});}</script>                <script type=\"text/javascript\">window.PlotlyConfig = {MathJaxConfig: 'local'};</script>\n",
              "        <script src=\"https://cdn.plot.ly/plotly-2.8.3.min.js\"></script>                <div id=\"b0e1377c-e764-4dd1-8ea4-4958286f85bd\" class=\"plotly-graph-div\" style=\"height:525px; width:100%;\"></div>            <script type=\"text/javascript\">                                    window.PLOTLYENV=window.PLOTLYENV || {};                                    if (document.getElementById(\"b0e1377c-e764-4dd1-8ea4-4958286f85bd\")) {                    Plotly.newPlot(                        \"b0e1377c-e764-4dd1-8ea4-4958286f85bd\",                        [{\"insidetextorientation\":\"radial\",\"labels\":[\"US\",\"KR\",\"JP\",\"CN\",\"EU\",\"IL\",\"IN\",\"CA\",\"TW\"],\"textinfo\":\"label+percent\",\"values\":[414,94,71,69,48,10,8,2,1],\"type\":\"pie\"}],                        {\"template\":{\"data\":{\"bar\":[{\"error_x\":{\"color\":\"#2a3f5f\"},\"error_y\":{\"color\":\"#2a3f5f\"},\"marker\":{\"line\":{\"color\":\"#E5ECF6\",\"width\":0.5},\"pattern\":{\"fillmode\":\"overlay\",\"size\":10,\"solidity\":0.2}},\"type\":\"bar\"}],\"barpolar\":[{\"marker\":{\"line\":{\"color\":\"#E5ECF6\",\"width\":0.5},\"pattern\":{\"fillmode\":\"overlay\",\"size\":10,\"solidity\":0.2}},\"type\":\"barpolar\"}],\"carpet\":[{\"aaxis\":{\"endlinecolor\":\"#2a3f5f\",\"gridcolor\":\"white\",\"linecolor\":\"white\",\"minorgridcolor\":\"white\",\"startlinecolor\":\"#2a3f5f\"},\"baxis\":{\"endlinecolor\":\"#2a3f5f\",\"gridcolor\":\"white\",\"linecolor\":\"white\",\"minorgridcolor\":\"white\",\"startlinecolor\":\"#2a3f5f\"},\"type\":\"carpet\"}],\"choropleth\":[{\"colorbar\":{\"outlinewidth\":0,\"ticks\":\"\"},\"type\":\"choropleth\"}],\"contour\":[{\"colorbar\":{\"outlinewidth\":0,\"ticks\":\"\"},\"colorscale\":[[0.0,\"#0d0887\"],[0.1111111111111111,\"#46039f\"],[0.2222222222222222,\"#7201a8\"],[0.3333333333333333,\"#9c179e\"],[0.4444444444444444,\"#bd3786\"],[0.5555555555555556,\"#d8576b\"],[0.6666666666666666,\"#ed7953\"],[0.7777777777777778,\"#fb9f3a\"],[0.8888888888888888,\"#fdca26\"],[1.0,\"#f0f921\"]],\"type\":\"contour\"}],\"contourcarpet\":[{\"colorbar\":{\"outlinewidth\":0,\"ticks\":\"\"},\"type\":\"contourcarpet\"}],\"heatmap\":[{\"colorbar\":{\"outlinewidth\":0,\"ticks\":\"\"},\"colorscale\":[[0.0,\"#0d0887\"],[0.1111111111111111,\"#46039f\"],[0.2222222222222222,\"#7201a8\"],[0.3333333333333333,\"#9c179e\"],[0.4444444444444444,\"#bd3786\"],[0.5555555555555556,\"#d8576b\"],[0.6666666666666666,\"#ed7953\"],[0.7777777777777778,\"#fb9f3a\"],[0.8888888888888888,\"#fdca26\"],[1.0,\"#f0f921\"]],\"type\":\"heatmap\"}],\"heatmapgl\":[{\"colorbar\":{\"outlinewidth\":0,\"ticks\":\"\"},\"colorscale\":[[0.0,\"#0d0887\"],[0.1111111111111111,\"#46039f\"],[0.2222222222222222,\"#7201a8\"],[0.3333333333333333,\"#9c179e\"],[0.4444444444444444,\"#bd3786\"],[0.5555555555555556,\"#d8576b\"],[0.6666666666666666,\"#ed7953\"],[0.7777777777777778,\"#fb9f3a\"],[0.8888888888888888,\"#fdca26\"],[1.0,\"#f0f921\"]],\"type\":\"heatmapgl\"}],\"histogram\":[{\"marker\":{\"pattern\":{\"fillmode\":\"overlay\",\"size\":10,\"solidity\":0.2}},\"type\":\"histogram\"}],\"histogram2d\":[{\"colorbar\":{\"outlinewidth\":0,\"ticks\":\"\"},\"colorscale\":[[0.0,\"#0d0887\"],[0.1111111111111111,\"#46039f\"],[0.2222222222222222,\"#7201a8\"],[0.3333333333333333,\"#9c179e\"],[0.4444444444444444,\"#bd3786\"],[0.5555555555555556,\"#d8576b\"],[0.6666666666666666,\"#ed7953\"],[0.7777777777777778,\"#fb9f3a\"],[0.8888888888888888,\"#fdca26\"],[1.0,\"#f0f921\"]],\"type\":\"histogram2d\"}],\"histogram2dcontour\":[{\"colorbar\":{\"outlinewidth\":0,\"ticks\":\"\"},\"colorscale\":[[0.0,\"#0d0887\"],[0.1111111111111111,\"#46039f\"],[0.2222222222222222,\"#7201a8\"],[0.3333333333333333,\"#9c179e\"],[0.4444444444444444,\"#bd3786\"],[0.5555555555555556,\"#d8576b\"],[0.6666666666666666,\"#ed7953\"],[0.7777777777777778,\"#fb9f3a\"],[0.8888888888888888,\"#fdca26\"],[1.0,\"#f0f921\"]],\"type\":\"histogram2dcontour\"}],\"mesh3d\":[{\"colorbar\":{\"outlinewidth\":0,\"ticks\":\"\"},\"type\":\"mesh3d\"}],\"parcoords\":[{\"line\":{\"colorbar\":{\"outlinewidth\":0,\"ticks\":\"\"}},\"type\":\"parcoords\"}],\"pie\":[{\"automargin\":true,\"type\":\"pie\"}],\"scatter\":[{\"marker\":{\"colorbar\":{\"outlinewidth\":0,\"ticks\":\"\"}},\"type\":\"scatter\"}],\"scatter3d\":[{\"line\":{\"colorbar\":{\"outlinewidth\":0,\"ticks\":\"\"}},\"marker\":{\"colorbar\":{\"outlinewidth\":0,\"ticks\":\"\"}},\"type\":\"scatter3d\"}],\"scattercarpet\":[{\"marker\":{\"colorbar\":{\"outlinewidth\":0,\"ticks\":\"\"}},\"type\":\"scattercarpet\"}],\"scattergeo\":[{\"marker\":{\"colorbar\":{\"outlinewidth\":0,\"ticks\":\"\"}},\"type\":\"scattergeo\"}],\"scattergl\":[{\"marker\":{\"colorbar\":{\"outlinewidth\":0,\"ticks\":\"\"}},\"type\":\"scattergl\"}],\"scattermapbox\":[{\"marker\":{\"colorbar\":{\"outlinewidth\":0,\"ticks\":\"\"}},\"type\":\"scattermapbox\"}],\"scatterpolar\":[{\"marker\":{\"colorbar\":{\"outlinewidth\":0,\"ticks\":\"\"}},\"type\":\"scatterpolar\"}],\"scatterpolargl\":[{\"marker\":{\"colorbar\":{\"outlinewidth\":0,\"ticks\":\"\"}},\"type\":\"scatterpolargl\"}],\"scatterternary\":[{\"marker\":{\"colorbar\":{\"outlinewidth\":0,\"ticks\":\"\"}},\"type\":\"scatterternary\"}],\"surface\":[{\"colorbar\":{\"outlinewidth\":0,\"ticks\":\"\"},\"colorscale\":[[0.0,\"#0d0887\"],[0.1111111111111111,\"#46039f\"],[0.2222222222222222,\"#7201a8\"],[0.3333333333333333,\"#9c179e\"],[0.4444444444444444,\"#bd3786\"],[0.5555555555555556,\"#d8576b\"],[0.6666666666666666,\"#ed7953\"],[0.7777777777777778,\"#fb9f3a\"],[0.8888888888888888,\"#fdca26\"],[1.0,\"#f0f921\"]],\"type\":\"surface\"}],\"table\":[{\"cells\":{\"fill\":{\"color\":\"#EBF0F8\"},\"line\":{\"color\":\"white\"}},\"header\":{\"fill\":{\"color\":\"#C8D4E3\"},\"line\":{\"color\":\"white\"}},\"type\":\"table\"}]},\"layout\":{\"annotationdefaults\":{\"arrowcolor\":\"#2a3f5f\",\"arrowhead\":0,\"arrowwidth\":1},\"autotypenumbers\":\"strict\",\"coloraxis\":{\"colorbar\":{\"outlinewidth\":0,\"ticks\":\"\"}},\"colorscale\":{\"diverging\":[[0,\"#8e0152\"],[0.1,\"#c51b7d\"],[0.2,\"#de77ae\"],[0.3,\"#f1b6da\"],[0.4,\"#fde0ef\"],[0.5,\"#f7f7f7\"],[0.6,\"#e6f5d0\"],[0.7,\"#b8e186\"],[0.8,\"#7fbc41\"],[0.9,\"#4d9221\"],[1,\"#276419\"]],\"sequential\":[[0.0,\"#0d0887\"],[0.1111111111111111,\"#46039f\"],[0.2222222222222222,\"#7201a8\"],[0.3333333333333333,\"#9c179e\"],[0.4444444444444444,\"#bd3786\"],[0.5555555555555556,\"#d8576b\"],[0.6666666666666666,\"#ed7953\"],[0.7777777777777778,\"#fb9f3a\"],[0.8888888888888888,\"#fdca26\"],[1.0,\"#f0f921\"]],\"sequentialminus\":[[0.0,\"#0d0887\"],[0.1111111111111111,\"#46039f\"],[0.2222222222222222,\"#7201a8\"],[0.3333333333333333,\"#9c179e\"],[0.4444444444444444,\"#bd3786\"],[0.5555555555555556,\"#d8576b\"],[0.6666666666666666,\"#ed7953\"],[0.7777777777777778,\"#fb9f3a\"],[0.8888888888888888,\"#fdca26\"],[1.0,\"#f0f921\"]]},\"colorway\":[\"#636efa\",\"#EF553B\",\"#00cc96\",\"#ab63fa\",\"#FFA15A\",\"#19d3f3\",\"#FF6692\",\"#B6E880\",\"#FF97FF\",\"#FECB52\"],\"font\":{\"color\":\"#2a3f5f\"},\"geo\":{\"bgcolor\":\"white\",\"lakecolor\":\"white\",\"landcolor\":\"#E5ECF6\",\"showlakes\":true,\"showland\":true,\"subunitcolor\":\"white\"},\"hoverlabel\":{\"align\":\"left\"},\"hovermode\":\"closest\",\"mapbox\":{\"style\":\"light\"},\"paper_bgcolor\":\"white\",\"plot_bgcolor\":\"#E5ECF6\",\"polar\":{\"angularaxis\":{\"gridcolor\":\"white\",\"linecolor\":\"white\",\"ticks\":\"\"},\"bgcolor\":\"#E5ECF6\",\"radialaxis\":{\"gridcolor\":\"white\",\"linecolor\":\"white\",\"ticks\":\"\"}},\"scene\":{\"xaxis\":{\"backgroundcolor\":\"#E5ECF6\",\"gridcolor\":\"white\",\"gridwidth\":2,\"linecolor\":\"white\",\"showbackground\":true,\"ticks\":\"\",\"zerolinecolor\":\"white\"},\"yaxis\":{\"backgroundcolor\":\"#E5ECF6\",\"gridcolor\":\"white\",\"gridwidth\":2,\"linecolor\":\"white\",\"showbackground\":true,\"ticks\":\"\",\"zerolinecolor\":\"white\"},\"zaxis\":{\"backgroundcolor\":\"#E5ECF6\",\"gridcolor\":\"white\",\"gridwidth\":2,\"linecolor\":\"white\",\"showbackground\":true,\"ticks\":\"\",\"zerolinecolor\":\"white\"}},\"shapedefaults\":{\"line\":{\"color\":\"#2a3f5f\"}},\"ternary\":{\"aaxis\":{\"gridcolor\":\"white\",\"linecolor\":\"white\",\"ticks\":\"\"},\"baxis\":{\"gridcolor\":\"white\",\"linecolor\":\"white\",\"ticks\":\"\"},\"bgcolor\":\"#E5ECF6\",\"caxis\":{\"gridcolor\":\"white\",\"linecolor\":\"white\",\"ticks\":\"\"}},\"title\":{\"x\":0.05},\"xaxis\":{\"automargin\":true,\"gridcolor\":\"white\",\"linecolor\":\"white\",\"ticks\":\"\",\"title\":{\"standoff\":15},\"zerolinecolor\":\"white\",\"zerolinewidth\":2},\"yaxis\":{\"automargin\":true,\"gridcolor\":\"white\",\"linecolor\":\"white\",\"ticks\":\"\",\"title\":{\"standoff\":15},\"zerolinecolor\":\"white\",\"zerolinewidth\":2}}}},                        {\"responsive\": true}                    ).then(function(){\n",
              "                            \n",
              "var gd = document.getElementById('b0e1377c-e764-4dd1-8ea4-4958286f85bd');\n",
              "var x = new MutationObserver(function (mutations, observer) {{\n",
              "        var display = window.getComputedStyle(gd).display;\n",
              "        if (!display || display === 'none') {{\n",
              "            console.log([gd, 'removed!']);\n",
              "            Plotly.purge(gd);\n",
              "            observer.disconnect();\n",
              "        }}\n",
              "}});\n",
              "\n",
              "// Listen for the removal of the full notebook cells\n",
              "var notebookContainer = gd.closest('#notebook-container');\n",
              "if (notebookContainer) {{\n",
              "    x.observe(notebookContainer, {childList: true});\n",
              "}}\n",
              "\n",
              "// Listen for the clearing of the current output cell\n",
              "var outputEl = gd.closest('.output');\n",
              "if (outputEl) {{\n",
              "    x.observe(outputEl, {childList: true});\n",
              "}}\n",
              "\n",
              "                        })                };                            </script>        </div>\n",
              "</body>\n",
              "</html>"
            ]
          },
          "metadata": {}
        }
      ]
    },
    {
      "cell_type": "code",
      "source": [
        "fig = go.Figure()\n",
        "\n",
        "fig.add_trace(go.Scatter(\n",
        "    x=[\"2015\", \"2016\", \"2017\",\n",
        "      \"2018\", \"2019\", \"2020\",\n",
        "      \"2021\", \"2022\"],\n",
        "    y=[29,29,134,220,303,247,134,44],\n",
        "))\n",
        "\n",
        "fig.update_layout(\n",
        "    title='년도별 출원 추이 그래프',\n",
        "    xaxis=dict(\n",
        "        title='출원년도',\n",
        "        gridcolor='white',\n",
        "        type='log',\n",
        "        gridwidth=2,\n",
        "    ),\n",
        "    yaxis=dict(\n",
        "        title='특허출원건수',\n",
        "        gridcolor='white',\n",
        "        gridwidth=2,\n",
        "    ),\n",
        "    paper_bgcolor='rgb(243, 243, 243)',\n",
        "    plot_bgcolor='rgb(243, 243, 243)',\n",
        "    hovermode=\"x unified\"\n",
        ")\n",
        "\n",
        "#fig.update_layout(hovermode=\"x unified\")\n",
        "fig.show()"
      ],
      "metadata": {
        "colab": {
          "base_uri": "https://localhost:8080/",
          "height": 542
        },
        "id": "NK-gn7nEgZWa",
        "outputId": "1e9b1fd6-5b49-4390-8d04-e74a00cd6fc0"
      },
      "execution_count": null,
      "outputs": [
        {
          "output_type": "display_data",
          "data": {
            "text/html": [
              "<html>\n",
              "<head><meta charset=\"utf-8\" /></head>\n",
              "<body>\n",
              "    <div>            <script src=\"https://cdnjs.cloudflare.com/ajax/libs/mathjax/2.7.5/MathJax.js?config=TeX-AMS-MML_SVG\"></script><script type=\"text/javascript\">if (window.MathJax) {MathJax.Hub.Config({SVG: {font: \"STIX-Web\"}});}</script>                <script type=\"text/javascript\">window.PlotlyConfig = {MathJaxConfig: 'local'};</script>\n",
              "        <script src=\"https://cdn.plot.ly/plotly-2.8.3.min.js\"></script>                <div id=\"2bff4cb4-5528-48f3-8524-fa699e1d9f3c\" class=\"plotly-graph-div\" style=\"height:525px; width:100%;\"></div>            <script type=\"text/javascript\">                                    window.PLOTLYENV=window.PLOTLYENV || {};                                    if (document.getElementById(\"2bff4cb4-5528-48f3-8524-fa699e1d9f3c\")) {                    Plotly.newPlot(                        \"2bff4cb4-5528-48f3-8524-fa699e1d9f3c\",                        [{\"x\":[\"2015\",\"2016\",\"2017\",\"2018\",\"2019\",\"2020\",\"2021\",\"2022\"],\"y\":[29,29,134,220,303,247,134,44],\"type\":\"scatter\"}],                        {\"template\":{\"data\":{\"bar\":[{\"error_x\":{\"color\":\"#2a3f5f\"},\"error_y\":{\"color\":\"#2a3f5f\"},\"marker\":{\"line\":{\"color\":\"#E5ECF6\",\"width\":0.5},\"pattern\":{\"fillmode\":\"overlay\",\"size\":10,\"solidity\":0.2}},\"type\":\"bar\"}],\"barpolar\":[{\"marker\":{\"line\":{\"color\":\"#E5ECF6\",\"width\":0.5},\"pattern\":{\"fillmode\":\"overlay\",\"size\":10,\"solidity\":0.2}},\"type\":\"barpolar\"}],\"carpet\":[{\"aaxis\":{\"endlinecolor\":\"#2a3f5f\",\"gridcolor\":\"white\",\"linecolor\":\"white\",\"minorgridcolor\":\"white\",\"startlinecolor\":\"#2a3f5f\"},\"baxis\":{\"endlinecolor\":\"#2a3f5f\",\"gridcolor\":\"white\",\"linecolor\":\"white\",\"minorgridcolor\":\"white\",\"startlinecolor\":\"#2a3f5f\"},\"type\":\"carpet\"}],\"choropleth\":[{\"colorbar\":{\"outlinewidth\":0,\"ticks\":\"\"},\"type\":\"choropleth\"}],\"contour\":[{\"colorbar\":{\"outlinewidth\":0,\"ticks\":\"\"},\"colorscale\":[[0.0,\"#0d0887\"],[0.1111111111111111,\"#46039f\"],[0.2222222222222222,\"#7201a8\"],[0.3333333333333333,\"#9c179e\"],[0.4444444444444444,\"#bd3786\"],[0.5555555555555556,\"#d8576b\"],[0.6666666666666666,\"#ed7953\"],[0.7777777777777778,\"#fb9f3a\"],[0.8888888888888888,\"#fdca26\"],[1.0,\"#f0f921\"]],\"type\":\"contour\"}],\"contourcarpet\":[{\"colorbar\":{\"outlinewidth\":0,\"ticks\":\"\"},\"type\":\"contourcarpet\"}],\"heatmap\":[{\"colorbar\":{\"outlinewidth\":0,\"ticks\":\"\"},\"colorscale\":[[0.0,\"#0d0887\"],[0.1111111111111111,\"#46039f\"],[0.2222222222222222,\"#7201a8\"],[0.3333333333333333,\"#9c179e\"],[0.4444444444444444,\"#bd3786\"],[0.5555555555555556,\"#d8576b\"],[0.6666666666666666,\"#ed7953\"],[0.7777777777777778,\"#fb9f3a\"],[0.8888888888888888,\"#fdca26\"],[1.0,\"#f0f921\"]],\"type\":\"heatmap\"}],\"heatmapgl\":[{\"colorbar\":{\"outlinewidth\":0,\"ticks\":\"\"},\"colorscale\":[[0.0,\"#0d0887\"],[0.1111111111111111,\"#46039f\"],[0.2222222222222222,\"#7201a8\"],[0.3333333333333333,\"#9c179e\"],[0.4444444444444444,\"#bd3786\"],[0.5555555555555556,\"#d8576b\"],[0.6666666666666666,\"#ed7953\"],[0.7777777777777778,\"#fb9f3a\"],[0.8888888888888888,\"#fdca26\"],[1.0,\"#f0f921\"]],\"type\":\"heatmapgl\"}],\"histogram\":[{\"marker\":{\"pattern\":{\"fillmode\":\"overlay\",\"size\":10,\"solidity\":0.2}},\"type\":\"histogram\"}],\"histogram2d\":[{\"colorbar\":{\"outlinewidth\":0,\"ticks\":\"\"},\"colorscale\":[[0.0,\"#0d0887\"],[0.1111111111111111,\"#46039f\"],[0.2222222222222222,\"#7201a8\"],[0.3333333333333333,\"#9c179e\"],[0.4444444444444444,\"#bd3786\"],[0.5555555555555556,\"#d8576b\"],[0.6666666666666666,\"#ed7953\"],[0.7777777777777778,\"#fb9f3a\"],[0.8888888888888888,\"#fdca26\"],[1.0,\"#f0f921\"]],\"type\":\"histogram2d\"}],\"histogram2dcontour\":[{\"colorbar\":{\"outlinewidth\":0,\"ticks\":\"\"},\"colorscale\":[[0.0,\"#0d0887\"],[0.1111111111111111,\"#46039f\"],[0.2222222222222222,\"#7201a8\"],[0.3333333333333333,\"#9c179e\"],[0.4444444444444444,\"#bd3786\"],[0.5555555555555556,\"#d8576b\"],[0.6666666666666666,\"#ed7953\"],[0.7777777777777778,\"#fb9f3a\"],[0.8888888888888888,\"#fdca26\"],[1.0,\"#f0f921\"]],\"type\":\"histogram2dcontour\"}],\"mesh3d\":[{\"colorbar\":{\"outlinewidth\":0,\"ticks\":\"\"},\"type\":\"mesh3d\"}],\"parcoords\":[{\"line\":{\"colorbar\":{\"outlinewidth\":0,\"ticks\":\"\"}},\"type\":\"parcoords\"}],\"pie\":[{\"automargin\":true,\"type\":\"pie\"}],\"scatter\":[{\"marker\":{\"colorbar\":{\"outlinewidth\":0,\"ticks\":\"\"}},\"type\":\"scatter\"}],\"scatter3d\":[{\"line\":{\"colorbar\":{\"outlinewidth\":0,\"ticks\":\"\"}},\"marker\":{\"colorbar\":{\"outlinewidth\":0,\"ticks\":\"\"}},\"type\":\"scatter3d\"}],\"scattercarpet\":[{\"marker\":{\"colorbar\":{\"outlinewidth\":0,\"ticks\":\"\"}},\"type\":\"scattercarpet\"}],\"scattergeo\":[{\"marker\":{\"colorbar\":{\"outlinewidth\":0,\"ticks\":\"\"}},\"type\":\"scattergeo\"}],\"scattergl\":[{\"marker\":{\"colorbar\":{\"outlinewidth\":0,\"ticks\":\"\"}},\"type\":\"scattergl\"}],\"scattermapbox\":[{\"marker\":{\"colorbar\":{\"outlinewidth\":0,\"ticks\":\"\"}},\"type\":\"scattermapbox\"}],\"scatterpolar\":[{\"marker\":{\"colorbar\":{\"outlinewidth\":0,\"ticks\":\"\"}},\"type\":\"scatterpolar\"}],\"scatterpolargl\":[{\"marker\":{\"colorbar\":{\"outlinewidth\":0,\"ticks\":\"\"}},\"type\":\"scatterpolargl\"}],\"scatterternary\":[{\"marker\":{\"colorbar\":{\"outlinewidth\":0,\"ticks\":\"\"}},\"type\":\"scatterternary\"}],\"surface\":[{\"colorbar\":{\"outlinewidth\":0,\"ticks\":\"\"},\"colorscale\":[[0.0,\"#0d0887\"],[0.1111111111111111,\"#46039f\"],[0.2222222222222222,\"#7201a8\"],[0.3333333333333333,\"#9c179e\"],[0.4444444444444444,\"#bd3786\"],[0.5555555555555556,\"#d8576b\"],[0.6666666666666666,\"#ed7953\"],[0.7777777777777778,\"#fb9f3a\"],[0.8888888888888888,\"#fdca26\"],[1.0,\"#f0f921\"]],\"type\":\"surface\"}],\"table\":[{\"cells\":{\"fill\":{\"color\":\"#EBF0F8\"},\"line\":{\"color\":\"white\"}},\"header\":{\"fill\":{\"color\":\"#C8D4E3\"},\"line\":{\"color\":\"white\"}},\"type\":\"table\"}]},\"layout\":{\"annotationdefaults\":{\"arrowcolor\":\"#2a3f5f\",\"arrowhead\":0,\"arrowwidth\":1},\"autotypenumbers\":\"strict\",\"coloraxis\":{\"colorbar\":{\"outlinewidth\":0,\"ticks\":\"\"}},\"colorscale\":{\"diverging\":[[0,\"#8e0152\"],[0.1,\"#c51b7d\"],[0.2,\"#de77ae\"],[0.3,\"#f1b6da\"],[0.4,\"#fde0ef\"],[0.5,\"#f7f7f7\"],[0.6,\"#e6f5d0\"],[0.7,\"#b8e186\"],[0.8,\"#7fbc41\"],[0.9,\"#4d9221\"],[1,\"#276419\"]],\"sequential\":[[0.0,\"#0d0887\"],[0.1111111111111111,\"#46039f\"],[0.2222222222222222,\"#7201a8\"],[0.3333333333333333,\"#9c179e\"],[0.4444444444444444,\"#bd3786\"],[0.5555555555555556,\"#d8576b\"],[0.6666666666666666,\"#ed7953\"],[0.7777777777777778,\"#fb9f3a\"],[0.8888888888888888,\"#fdca26\"],[1.0,\"#f0f921\"]],\"sequentialminus\":[[0.0,\"#0d0887\"],[0.1111111111111111,\"#46039f\"],[0.2222222222222222,\"#7201a8\"],[0.3333333333333333,\"#9c179e\"],[0.4444444444444444,\"#bd3786\"],[0.5555555555555556,\"#d8576b\"],[0.6666666666666666,\"#ed7953\"],[0.7777777777777778,\"#fb9f3a\"],[0.8888888888888888,\"#fdca26\"],[1.0,\"#f0f921\"]]},\"colorway\":[\"#636efa\",\"#EF553B\",\"#00cc96\",\"#ab63fa\",\"#FFA15A\",\"#19d3f3\",\"#FF6692\",\"#B6E880\",\"#FF97FF\",\"#FECB52\"],\"font\":{\"color\":\"#2a3f5f\"},\"geo\":{\"bgcolor\":\"white\",\"lakecolor\":\"white\",\"landcolor\":\"#E5ECF6\",\"showlakes\":true,\"showland\":true,\"subunitcolor\":\"white\"},\"hoverlabel\":{\"align\":\"left\"},\"hovermode\":\"closest\",\"mapbox\":{\"style\":\"light\"},\"paper_bgcolor\":\"white\",\"plot_bgcolor\":\"#E5ECF6\",\"polar\":{\"angularaxis\":{\"gridcolor\":\"white\",\"linecolor\":\"white\",\"ticks\":\"\"},\"bgcolor\":\"#E5ECF6\",\"radialaxis\":{\"gridcolor\":\"white\",\"linecolor\":\"white\",\"ticks\":\"\"}},\"scene\":{\"xaxis\":{\"backgroundcolor\":\"#E5ECF6\",\"gridcolor\":\"white\",\"gridwidth\":2,\"linecolor\":\"white\",\"showbackground\":true,\"ticks\":\"\",\"zerolinecolor\":\"white\"},\"yaxis\":{\"backgroundcolor\":\"#E5ECF6\",\"gridcolor\":\"white\",\"gridwidth\":2,\"linecolor\":\"white\",\"showbackground\":true,\"ticks\":\"\",\"zerolinecolor\":\"white\"},\"zaxis\":{\"backgroundcolor\":\"#E5ECF6\",\"gridcolor\":\"white\",\"gridwidth\":2,\"linecolor\":\"white\",\"showbackground\":true,\"ticks\":\"\",\"zerolinecolor\":\"white\"}},\"shapedefaults\":{\"line\":{\"color\":\"#2a3f5f\"}},\"ternary\":{\"aaxis\":{\"gridcolor\":\"white\",\"linecolor\":\"white\",\"ticks\":\"\"},\"baxis\":{\"gridcolor\":\"white\",\"linecolor\":\"white\",\"ticks\":\"\"},\"bgcolor\":\"#E5ECF6\",\"caxis\":{\"gridcolor\":\"white\",\"linecolor\":\"white\",\"ticks\":\"\"}},\"title\":{\"x\":0.05},\"xaxis\":{\"automargin\":true,\"gridcolor\":\"white\",\"linecolor\":\"white\",\"ticks\":\"\",\"title\":{\"standoff\":15},\"zerolinecolor\":\"white\",\"zerolinewidth\":2},\"yaxis\":{\"automargin\":true,\"gridcolor\":\"white\",\"linecolor\":\"white\",\"ticks\":\"\",\"title\":{\"standoff\":15},\"zerolinecolor\":\"white\",\"zerolinewidth\":2}}},\"xaxis\":{\"title\":{\"text\":\"\\ucd9c\\uc6d0\\ub144\\ub3c4\"},\"gridcolor\":\"white\",\"type\":\"log\",\"gridwidth\":2},\"yaxis\":{\"title\":{\"text\":\"\\ud2b9\\ud5c8\\ucd9c\\uc6d0\\uac74\\uc218\"},\"gridcolor\":\"white\",\"gridwidth\":2},\"title\":{\"text\":\"\\ub144\\ub3c4\\ubcc4 \\ucd9c\\uc6d0 \\ucd94\\uc774 \\uadf8\\ub798\\ud504\"},\"paper_bgcolor\":\"rgb(243, 243, 243)\",\"plot_bgcolor\":\"rgb(243, 243, 243)\",\"hovermode\":\"x unified\"},                        {\"responsive\": true}                    ).then(function(){\n",
              "                            \n",
              "var gd = document.getElementById('2bff4cb4-5528-48f3-8524-fa699e1d9f3c');\n",
              "var x = new MutationObserver(function (mutations, observer) {{\n",
              "        var display = window.getComputedStyle(gd).display;\n",
              "        if (!display || display === 'none') {{\n",
              "            console.log([gd, 'removed!']);\n",
              "            Plotly.purge(gd);\n",
              "            observer.disconnect();\n",
              "        }}\n",
              "}});\n",
              "\n",
              "// Listen for the removal of the full notebook cells\n",
              "var notebookContainer = gd.closest('#notebook-container');\n",
              "if (notebookContainer) {{\n",
              "    x.observe(notebookContainer, {childList: true});\n",
              "}}\n",
              "\n",
              "// Listen for the clearing of the current output cell\n",
              "var outputEl = gd.closest('.output');\n",
              "if (outputEl) {{\n",
              "    x.observe(outputEl, {childList: true});\n",
              "}}\n",
              "\n",
              "                        })                };                            </script>        </div>\n",
              "</body>\n",
              "</html>"
            ]
          },
          "metadata": {}
        }
      ]
    },
    {
      "cell_type": "code",
      "source": [],
      "metadata": {
        "id": "AQkLGovmhVON"
      },
      "execution_count": null,
      "outputs": []
    }
  ]
}