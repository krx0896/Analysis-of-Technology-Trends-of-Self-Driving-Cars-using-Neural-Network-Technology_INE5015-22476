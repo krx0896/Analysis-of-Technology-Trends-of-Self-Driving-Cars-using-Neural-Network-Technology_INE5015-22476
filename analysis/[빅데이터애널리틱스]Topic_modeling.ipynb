{
 "cells": [
  {
   "cell_type": "code",
   "execution_count": 1,
   "id": "2c5fce79",
   "metadata": {},
   "outputs": [],
   "source": [
    "import pandas as pd\n",
    "import numpy as np\n",
    "import nltk\n",
    "from nltk.corpus import stopwords\n",
    "from sklearn.feature_extraction.text import TfidfVectorizer\n",
    "from sklearn.decomposition import TruncatedSVD"
   ]
  },
  {
   "cell_type": "code",
   "execution_count": 13,
   "id": "342b2812",
   "metadata": {},
   "outputs": [],
   "source": [
    "news_df=pd.read_excel(\"C:/Users/user/Documents/uspd_AB.xls\")"
   ]
  },
  {
   "cell_type": "code",
   "execution_count": 55,
   "id": "83b65cb7",
   "metadata": {},
   "outputs": [
    {
     "data": {
      "text/plain": [
       "0       Semiconductor packag\n",
       "1       Methods for driving \n",
       "2       Systems, apparatuses\n",
       "3       Techniques for imple\n",
       "4       Systems and methods \n",
       "                ...         \n",
       "2995    A device such as a c\n",
       "2996    Embodiments describe\n",
       "2997    An integrated touchs\n",
       "2998    In an embodiment, a \n",
       "2999    Embodiments of a Gen\n",
       "Name: abstract, Length: 3000, dtype: object"
      ]
     },
     "execution_count": 55,
     "metadata": {},
     "output_type": "execute_result"
    }
   ],
   "source": [
    "news_df['abstract'].str[0:20]"
   ]
  },
  {
   "cell_type": "code",
   "execution_count": 14,
   "id": "0c59d90b",
   "metadata": {},
   "outputs": [
    {
     "name": "stderr",
     "output_type": "stream",
     "text": [
      "<ipython-input-14-afbdceea4ab6>:2: FutureWarning: The default value of regex will change from True to False in a future version.\n",
      "  news_df['clean_doc'] = news_df['abstract'].str.replace(\"[^a-zA-Z]\", \" \")\n"
     ]
    }
   ],
   "source": [
    "# 특수 문자 제거\n",
    "news_df['clean_doc'] = news_df['abstract'].str.replace(\"[^a-zA-Z]\", \" \") # 알파벳 아닌 문자 제거\n",
    "# 길이가 3이하인 단어는 제거 (길이가 짧은 단어 제거)\n",
    "news_df['clean_doc'] = news_df['clean_doc'].apply(lambda x: ' '.join([w for w in x.split() if len(w)>3]))\n",
    "# 전체 단어에 대한 소문자 변환\n",
    "news_df['clean_doc'] = news_df['clean_doc'].apply(lambda x: x.lower())"
   ]
  },
  {
   "cell_type": "code",
   "execution_count": 15,
   "id": "b4a18013",
   "metadata": {},
   "outputs": [
    {
     "data": {
      "text/html": [
       "<div>\n",
       "<style scoped>\n",
       "    .dataframe tbody tr th:only-of-type {\n",
       "        vertical-align: middle;\n",
       "    }\n",
       "\n",
       "    .dataframe tbody tr th {\n",
       "        vertical-align: top;\n",
       "    }\n",
       "\n",
       "    .dataframe thead th {\n",
       "        text-align: right;\n",
       "    }\n",
       "</style>\n",
       "<table border=\"1\" class=\"dataframe\">\n",
       "  <thead>\n",
       "    <tr style=\"text-align: right;\">\n",
       "      <th></th>\n",
       "      <th>abstract</th>\n",
       "      <th>clean_doc</th>\n",
       "    </tr>\n",
       "  </thead>\n",
       "  <tbody>\n",
       "    <tr>\n",
       "      <th>0</th>\n",
       "      <td>Semiconductor packaging substrates and process...</td>\n",
       "      <td>semiconductor packaging substrates processing ...</td>\n",
       "    </tr>\n",
       "    <tr>\n",
       "      <th>1</th>\n",
       "      <td>Methods for driving a tunable laser with integ...</td>\n",
       "      <td>methods driving tunable laser with integrated ...</td>\n",
       "    </tr>\n",
       "    <tr>\n",
       "      <th>2</th>\n",
       "      <td>Systems, apparatuses, and methods for placing ...</td>\n",
       "      <td>systems apparatuses methods placing cells inte...</td>\n",
       "    </tr>\n",
       "    <tr>\n",
       "      <th>3</th>\n",
       "      <td>Techniques for implementing and/or operating a...</td>\n",
       "      <td>techniques implementing operating radio freque...</td>\n",
       "    </tr>\n",
       "    <tr>\n",
       "      <th>4</th>\n",
       "      <td>Systems and methods for improving communicatio...</td>\n",
       "      <td>systems methods improving communication reliab...</td>\n",
       "    </tr>\n",
       "    <tr>\n",
       "      <th>...</th>\n",
       "      <td>...</td>\n",
       "      <td>...</td>\n",
       "    </tr>\n",
       "    <tr>\n",
       "      <th>2995</th>\n",
       "      <td>A device such as a computer stylus may have a ...</td>\n",
       "      <td>device such computer stylus have color sensor ...</td>\n",
       "    </tr>\n",
       "    <tr>\n",
       "      <th>2996</th>\n",
       "      <td>Embodiments described herein provide cryptogra...</td>\n",
       "      <td>embodiments described herein provide cryptogra...</td>\n",
       "    </tr>\n",
       "    <tr>\n",
       "      <th>2997</th>\n",
       "      <td>An integrated touchscreen can include light em...</td>\n",
       "      <td>integrated touchscreen include light emitting ...</td>\n",
       "    </tr>\n",
       "    <tr>\n",
       "      <th>2998</th>\n",
       "      <td>In an embodiment, a processor comprises a rese...</td>\n",
       "      <td>embodiment processor comprises reservation sta...</td>\n",
       "    </tr>\n",
       "    <tr>\n",
       "      <th>2999</th>\n",
       "      <td>Embodiments of a Generation Node-B (gNB), User...</td>\n",
       "      <td>embodiments generation node user equipment met...</td>\n",
       "    </tr>\n",
       "  </tbody>\n",
       "</table>\n",
       "<p>3000 rows × 2 columns</p>\n",
       "</div>"
      ],
      "text/plain": [
       "                                               abstract  \\\n",
       "0     Semiconductor packaging substrates and process...   \n",
       "1     Methods for driving a tunable laser with integ...   \n",
       "2     Systems, apparatuses, and methods for placing ...   \n",
       "3     Techniques for implementing and/or operating a...   \n",
       "4     Systems and methods for improving communicatio...   \n",
       "...                                                 ...   \n",
       "2995  A device such as a computer stylus may have a ...   \n",
       "2996  Embodiments described herein provide cryptogra...   \n",
       "2997  An integrated touchscreen can include light em...   \n",
       "2998  In an embodiment, a processor comprises a rese...   \n",
       "2999  Embodiments of a Generation Node-B (gNB), User...   \n",
       "\n",
       "                                              clean_doc  \n",
       "0     semiconductor packaging substrates processing ...  \n",
       "1     methods driving tunable laser with integrated ...  \n",
       "2     systems apparatuses methods placing cells inte...  \n",
       "3     techniques implementing operating radio freque...  \n",
       "4     systems methods improving communication reliab...  \n",
       "...                                                 ...  \n",
       "2995  device such computer stylus have color sensor ...  \n",
       "2996  embodiments described herein provide cryptogra...  \n",
       "2997  integrated touchscreen include light emitting ...  \n",
       "2998  embodiment processor comprises reservation sta...  \n",
       "2999  embodiments generation node user equipment met...  \n",
       "\n",
       "[3000 rows x 2 columns]"
      ]
     },
     "execution_count": 15,
     "metadata": {},
     "output_type": "execute_result"
    }
   ],
   "source": [
    "news_df"
   ]
  },
  {
   "cell_type": "code",
   "execution_count": 56,
   "id": "1d0850bd",
   "metadata": {
    "scrolled": true
   },
   "outputs": [
    {
     "name": "stderr",
     "output_type": "stream",
     "text": [
      "[nltk_data] Downloading package stopwords to\n",
      "[nltk_data]     C:\\Users\\user\\AppData\\Roaming\\nltk_data...\n",
      "[nltk_data]   Package stopwords is already up-to-date!\n"
     ]
    },
    {
     "data": {
      "text/plain": [
       "True"
      ]
     },
     "execution_count": 56,
     "metadata": {},
     "output_type": "execute_result"
    }
   ],
   "source": [
    "# NLTK로부터 불용어를 받아온다.\n",
    "nltk.download('stopwords')"
   ]
  },
  {
   "cell_type": "code",
   "execution_count": 19,
   "id": "7bce02ad",
   "metadata": {},
   "outputs": [],
   "source": [
    "stop_words = stopwords.words('english')\n",
    "tokenized_doc = news_df['clean_doc'].apply(lambda x: x.split()) # 토큰화\n",
    "tokenized_doc = tokenized_doc.apply(lambda x: [item for item in x if item not in stop_words])\n",
    "# 불용어를 제거합니다."
   ]
  },
  {
   "cell_type": "code",
   "execution_count": 20,
   "id": "f6516805",
   "metadata": {
    "scrolled": true
   },
   "outputs": [
    {
     "name": "stdout",
     "output_type": "stream",
     "text": [
      "['methods', 'driving', 'tunable', 'laser', 'integrated', 'tuning', 'elements', 'disclosed', 'methods', 'include', 'modulating', 'tuning', 'current', 'laser', 'injection', 'current', 'laser', 'emission', 'wavelength', 'output', 'power', 'independently', 'controllable', 'examples', 'tuning', 'current', 'laser', 'injection', 'current', 'modulated', 'simultaneously', 'wider', 'tuning', 'range', 'result', 'examples', 'currents', 'sinusoidally', 'modulated', 'examples', 'constant', 'output', 'power', 'achieved', 'tuning', 'emission', 'wavelength', 'examples', 'output', 'power', 'tuning', 'follow', 'linear', 'relationship', 'examples', 'injection', 'current', 'tuning', 'element', 'drive', 'waveforms', 'necessary', 'achieve', 'targeted', 'output', 'power', 'tuning', 'waveforms', 'achieved', 'optimization', 'based', 'goodness', 'values', 'targeted', 'actual', 'output', 'power', 'tuning', 'waveforms']\n"
     ]
    }
   ],
   "source": [
    "print(tokenized_doc[1])"
   ]
  },
  {
   "cell_type": "code",
   "execution_count": 21,
   "id": "c98705f2",
   "metadata": {},
   "outputs": [],
   "source": [
    "detokenized_doc = []\n",
    "for i in range(len(news_df)):\n",
    "    t = ' '.join(tokenized_doc[i])\n",
    "    detokenized_doc.append(t)\n",
    "\n",
    "news_df['clean_doc'] = detokenized_doc"
   ]
  },
  {
   "cell_type": "code",
   "execution_count": 57,
   "id": "6750111c",
   "metadata": {},
   "outputs": [
    {
     "name": "stdout",
     "output_type": "stream",
     "text": [
      "TF-IDF 행렬의 크기 : (3000, 5954)\n"
     ]
    }
   ],
   "source": [
    "vectorizer = TfidfVectorizer(stop_words='english', max_features= 10000, # 상위 10,000개의 단어를 보존 \n",
    "max_df = 0.5, smooth_idf=True)\n",
    "\n",
    "X = vectorizer.fit_transform(news_df['clean_doc'])\n",
    "\n",
    "# TF-IDF 행렬의 크기 확인\n",
    "print('TF-IDF 행렬의 크기 :',X.shape)"
   ]
  },
  {
   "cell_type": "markdown",
   "id": "b0d23164",
   "metadata": {},
   "source": [
    "### Topic modeling"
   ]
  },
  {
   "cell_type": "code",
   "execution_count": 77,
   "id": "4e4ecd28",
   "metadata": {},
   "outputs": [],
   "source": [
    "svd_model = TruncatedSVD(n_components=100, algorithm='randomized', n_iter=100, random_state=122)\n",
    "lsa_top=svd_model.fit(X)\n",
    "#len(svd_model.components_)"
   ]
  },
  {
   "cell_type": "code",
   "execution_count": 78,
   "id": "41715385",
   "metadata": {},
   "outputs": [],
   "source": [
    "var_explained = svd_model.explained_variance_ratio_.sum()"
   ]
  },
  {
   "cell_type": "code",
   "execution_count": 76,
   "id": "66c21061",
   "metadata": {},
   "outputs": [
    {
     "data": {
      "text/plain": [
       "[<matplotlib.lines.Line2D at 0x1d5e6043c40>]"
      ]
     },
     "execution_count": 76,
     "metadata": {},
     "output_type": "execute_result"
    },
    {
     "data": {
      "image/png": "[encoded data removed]",
      "text/plain": [
       "<Figure size 432x288 with 1 Axes>"
      ]
     },
     "metadata": {
      "needs_background": "light"
     },
     "output_type": "display_data"
    }
   ],
   "source": [
    "import matplotlib.pyplot as plt\n",
    "plt.plot(svd_model.explained_variance_ratio_)"
   ]
  },
  {
   "cell_type": "code",
   "execution_count": 79,
   "id": "f0f71069",
   "metadata": {},
   "outputs": [
    {
     "data": {
      "text/plain": [
       "0.3693942386944327"
      ]
     },
     "execution_count": 79,
     "metadata": {},
     "output_type": "execute_result"
    }
   ],
   "source": [
    "var_explained"
   ]
  },
  {
   "cell_type": "code",
   "execution_count": 80,
   "id": "02ce1e8b",
   "metadata": {
    "scrolled": true
   },
   "outputs": [
    {
     "data": {
      "text/plain": [
       "(100, 5954)"
      ]
     },
     "execution_count": 80,
     "metadata": {},
     "output_type": "execute_result"
    }
   ],
   "source": [
    "np.shape(svd_model.components_)"
   ]
  },
  {
   "cell_type": "code",
   "execution_count": 81,
   "id": "82e55467",
   "metadata": {},
   "outputs": [
    {
     "name": "stdout",
     "output_type": "stream",
     "text": [
      "TruncatedSVD(n_components=100, n_iter=100, random_state=122)\n"
     ]
    }
   ],
   "source": [
    "print(lsa_top)"
   ]
  },
  {
   "cell_type": "code",
   "execution_count": 82,
   "id": "d7cc68f3",
   "metadata": {},
   "outputs": [
    {
     "name": "stdout",
     "output_type": "stream",
     "text": [
      "(100, 5954)\n"
     ]
    }
   ],
   "source": [
    "print(svd_model.components_.shape) # (no_of_topics*no_of_words)"
   ]
  },
  {
   "cell_type": "code",
   "execution_count": 83,
   "id": "d6116a5b",
   "metadata": {
    "scrolled": true
   },
   "outputs": [
    {
     "data": {
      "text/plain": [
       "array([7.66767743e-05, 1.93055242e-03, 3.69579416e-04, ...,\n",
       "       3.04930081e-03, 2.87004000e-03, 1.62049975e-04])"
      ]
     },
     "execution_count": 83,
     "metadata": {},
     "output_type": "execute_result"
    }
   ],
   "source": [
    "svd_model.components_[0] # VT(topic-term similarity)"
   ]
  },
  {
   "cell_type": "code",
   "execution_count": 84,
   "id": "82699b0c",
   "metadata": {},
   "outputs": [
    {
     "name": "stdout",
     "output_type": "stream",
     "text": [
      "Topic 1: [('user', 0.36381), ('input', 0.24497), ('interface', 0.24328), ('electronic', 0.23979), ('second', 0.22173)]\n",
      "Topic 2: [('circuit', 0.26175), ('power', 0.22697), ('image', 0.21276), ('light', 0.21154), ('data', 0.20274)]\n",
      "Topic 3: [('interfaces', 0.31856), ('embodiments', 0.21142), ('described', 0.16334), ('managing', 0.16032), ('exemplary', 0.15296)]\n",
      "Topic 4: [('power', 0.23307), ('input', 0.20208), ('circuit', 0.1913), ('signal', 0.13563), ('node', 0.12917)]\n",
      "Topic 5: [('power', 0.32622), ('interface', 0.17644), ('touch', 0.16784), ('user', 0.16218), ('interfaces', 0.15453)]\n",
      "Topic 6: [('media', 0.49772), ('playback', 0.25346), ('power', 0.22552), ('display', 0.1606), ('item', 0.15366)]\n",
      "Topic 7: [('audio', 0.49161), ('electronic', 0.36711), ('output', 0.20449), ('second', 0.16603), ('input', 0.13768)]\n",
      "Topic 8: [('content', 0.5085), ('electronic', 0.31232), ('embodiments', 0.27008), ('presents', 0.20808), ('wireless', 0.14409)]\n",
      "Topic 9: [('camera', 0.277), ('lens', 0.26939), ('power', 0.23189), ('object', 0.2004), ('optical', 0.1998)]\n",
      "Topic 10: [('touch', 0.44748), ('image', 0.23962), ('examples', 0.16544), ('sensitive', 0.16095), ('circuit', 0.13764)]\n",
      "Topic 11: [('wireless', 0.36905), ('touch', 0.27764), ('application', 0.21663), ('media', 0.15792), ('power', 0.13015)]\n",
      "Topic 12: [('application', 0.48251), ('audio', 0.18175), ('lens', 0.14113), ('respective', 0.13686), ('circuit', 0.1288)]\n",
      "Topic 13: [('content', 0.39808), ('audio', 0.3446), ('video', 0.22888), ('touch', 0.21295), ('processor', 0.15385)]\n",
      "Topic 14: [('image', 0.3763), ('application', 0.25998), ('power', 0.21554), ('display', 0.18967), ('audio', 0.18433)]\n",
      "Topic 15: [('interface', 0.39228), ('electronic', 0.19685), ('media', 0.18304), ('playback', 0.17688), ('audio', 0.15337)]\n",
      "Topic 16: [('environment', 0.22183), ('physical', 0.21108), ('virtual', 0.21106), ('application', 0.20399), ('electronic', 0.18961)]\n",
      "Topic 17: [('second', 0.24811), ('exemplary', 0.19833), ('embodiments', 0.19551), ('display', 0.18206), ('described', 0.16767)]\n",
      "Topic 18: [('image', 0.23471), ('audio', 0.20971), ('layer', 0.17347), ('point', 0.1642), ('cloud', 0.15664)]\n",
      "Topic 19: [('examples', 0.21438), ('time', 0.20828), ('second', 0.18815), ('point', 0.15868), ('cloud', 0.15707)]\n",
      "Topic 20: [('light', 0.24566), ('signal', 0.22552), ('pixel', 0.18813), ('circuitry', 0.12012), ('mobile', 0.1162)]\n",
      "Topic 21: [('display', 0.25476), ('point', 0.20439), ('cloud', 0.18968), ('voltage', 0.16162), ('attribute', 0.13372)]\n",
      "Topic 22: [('time', 0.36356), ('data', 0.31254), ('location', 0.20771), ('mobile', 0.20764), ('period', 0.13823)]\n",
      "Topic 23: [('video', 0.22732), ('electronic', 0.21607), ('object', 0.16821), ('signal', 0.16572), ('application', 0.14652)]\n",
      "Topic 24: [('video', 0.40655), ('signal', 0.18723), ('input', 0.18383), ('message', 0.14681), ('photo', 0.1011)]\n",
      "Topic 25: [('input', 0.26834), ('object', 0.22122), ('application', 0.20049), ('point', 0.17217), ('cloud', 0.16505)]\n",
      "Topic 26: [('signal', 0.29872), ('circuit', 0.20751), ('method', 0.19383), ('location', 0.16579), ('mobile', 0.15436)]\n",
      "Topic 27: [('light', 0.35282), ('external', 0.16124), ('data', 0.13793), ('gesture', 0.12562), ('playback', 0.1229)]\n",
      "Topic 28: [('account', 0.36874), ('location', 0.20716), ('input', 0.18091), ('message', 0.17475), ('mobile', 0.15252)]\n",
      "Topic 29: [('model', 0.24729), ('message', 0.24361), ('subject', 0.20109), ('technology', 0.17437), ('time', 0.15724)]\n",
      "Topic 30: [('external', 0.21661), ('image', 0.21001), ('signal', 0.16923), ('playback', 0.14833), ('processor', 0.13796)]\n",
      "Topic 31: [('message', 0.32268), ('items', 0.20596), ('messaging', 0.1808), ('item', 0.18032), ('media', 0.17624)]\n",
      "Topic 32: [('mode', 0.31144), ('virtual', 0.21319), ('time', 0.16384), ('processor', 0.15712), ('account', 0.14173)]\n",
      "Topic 33: [('model', 0.28452), ('subject', 0.18656), ('learning', 0.18176), ('machine', 0.17963), ('signal', 0.17018)]\n",
      "Topic 34: [('message', 0.15755), ('circuitry', 0.15625), ('mode', 0.14799), ('account', 0.1315), ('signal', 0.13136)]\n",
      "Topic 35: [('data', 0.21105), ('respective', 0.19061), ('signal', 0.18723), ('playback', 0.1383), ('input', 0.13692)]\n",
      "Topic 36: [('external', 0.3269), ('model', 0.12644), ('affordance', 0.12375), ('communication', 0.12334), ('proximity', 0.10562)]\n",
      "Topic 37: [('location', 0.27009), ('context', 0.2414), ('task', 0.21539), ('circuit', 0.19403), ('processor', 0.16781)]\n",
      "Topic 38: [('workout', 0.32379), ('activity', 0.23309), ('mode', 0.19502), ('pixel', 0.16535), ('signal', 0.15855)]\n",
      "Topic 39: [('location', 0.47401), ('memory', 0.16559), ('method', 0.12397), ('processor', 0.1186), ('text', 0.11568)]\n",
      "Topic 40: [('graphical', 0.19938), ('exposure', 0.19612), ('type', 0.19517), ('noise', 0.17827), ('element', 0.15451)]\n",
      "Topic 41: [('workout', 0.24109), ('type', 0.16002), ('circuit', 0.15806), ('embodiments', 0.15748), ('wireless', 0.15469)]\n",
      "Topic 42: [('gesture', 0.30742), ('contact', 0.21004), ('memory', 0.15215), ('object', 0.13259), ('component', 0.12967)]\n",
      "Topic 43: [('computing', 0.16806), ('exposure', 0.15173), ('color', 0.14637), ('plurality', 0.1383), ('noise', 0.12737)]\n",
      "Topic 44: [('component', 0.3008), ('pixel', 0.19469), ('electrical', 0.15641), ('region', 0.14694), ('location', 0.13818)]\n",
      "Topic 45: [('substrate', 0.1929), ('assistant', 0.14902), ('process', 0.14742), ('area', 0.14628), ('virtual', 0.13593)]\n",
      "Topic 46: [('text', 0.31426), ('environment', 0.16533), ('sensor', 0.16446), ('handwritten', 0.15647), ('portion', 0.14883)]\n",
      "Topic 47: [('computing', 0.34518), ('workout', 0.22001), ('screen', 0.17092), ('accessory', 0.1613), ('item', 0.14749)]\n",
      "Topic 48: [('sensor', 0.20719), ('camera', 0.13049), ('circuitry', 0.12902), ('memory', 0.12829), ('exposure', 0.1224)]\n",
      "Topic 49: [('task', 0.19233), ('housing', 0.15907), ('object', 0.15103), ('message', 0.13642), ('surface', 0.1345)]\n",
      "Topic 50: [('accessory', 0.40705), ('controller', 0.18674), ('state', 0.17589), ('portion', 0.16944), ('notification', 0.10777)]\n",
      "Topic 51: [('text', 0.19414), ('component', 0.19041), ('transistors', 0.18475), ('plurality', 0.15839), ('image', 0.15378)]\n",
      "Topic 52: [('exposure', 0.18002), ('computing', 0.16559), ('noise', 0.165), ('level', 0.14804), ('camera', 0.13559)]\n",
      "Topic 53: [('lens', 0.22215), ('circuitry', 0.17309), ('second', 0.16673), ('virtual', 0.16528), ('element', 0.16515)]\n",
      "Topic 54: [('computing', 0.39159), ('gesture', 0.14605), ('presents', 0.13493), ('contact', 0.10873), ('embodiments', 0.10557)]\n",
      "Topic 55: [('plurality', 0.22225), ('environment', 0.21332), ('accessory', 0.2052), ('second', 0.18007), ('session', 0.14837)]\n",
      "Topic 56: [('lens', 0.19948), ('text', 0.19259), ('memory', 0.14515), ('sensitive', 0.13584), ('contact', 0.12848)]\n",
      "Topic 57: [('light', 0.17839), ('electrical', 0.1738), ('camera', 0.15544), ('respective', 0.14749), ('fabric', 0.14077)]\n",
      "Topic 58: [('transistors', 0.15662), ('control', 0.14211), ('channel', 0.11233), ('information', 0.10932), ('transistor', 0.10798)]\n",
      "Topic 59: [('optical', 0.20089), ('environment', 0.19657), ('message', 0.11306), ('state', 0.10539), ('endpoint', 0.10503)]\n",
      "Topic 60: [('memory', 0.14559), ('lens', 0.13946), ('node', 0.11525), ('user', 0.11516), ('type', 0.11294)]\n",
      "Topic 61: [('window', 0.22323), ('accessory', 0.14221), ('biometric', 0.14163), ('inputs', 0.14081), ('sensor', 0.12612)]\n",
      "Topic 62: [('area', 0.25386), ('state', 0.25344), ('operation', 0.15366), ('control', 0.11603), ('window', 0.11296)]\n",
      "Topic 63: [('peripheral', 0.32627), ('devices', 0.13141), ('electronic', 0.11833), ('representation', 0.11071), ('item', 0.10098)]\n",
      "Topic 64: [('mobile', 0.20089), ('state', 0.19058), ('computing', 0.16861), ('task', 0.14995), ('virtual', 0.14965)]\n",
      "Topic 65: [('mobile', 0.18063), ('power', 0.16559), ('window', 0.1456), ('respective', 0.12577), ('external', 0.11656)]\n",
      "Topic 66: [('peripheral', 0.2391), ('window', 0.20527), ('request', 0.14356), ('file', 0.13749), ('session', 0.11855)]\n",
      "Topic 67: [('task', 0.20754), ('control', 0.17852), ('computing', 0.15227), ('accessory', 0.1273), ('account', 0.1237)]\n",
      "Topic 68: [('node', 0.25182), ('optical', 0.15818), ('output', 0.15652), ('unit', 0.14015), ('camera', 0.12504)]\n",
      "Topic 69: [('state', 0.23546), ('item', 0.1619), ('window', 0.15743), ('inputs', 0.13915), ('representation', 0.13041)]\n",
      "Topic 70: [('biometric', 0.18987), ('devices', 0.16233), ('area', 0.15322), ('portion', 0.12445), ('inputs', 0.11915)]\n",
      "Topic 71: [('biometric', 0.36046), ('authentication', 0.17946), ('node', 0.16255), ('related', 0.1315), ('window', 0.12934)]\n",
      "Topic 72: [('node', 0.18481), ('include', 0.16862), ('window', 0.16246), ('state', 0.14848), ('structure', 0.13922)]\n",
      "Topic 73: [('virtual', 0.21715), ('finger', 0.15885), ('command', 0.15153), ('network', 0.15141), ('message', 0.14008)]\n",
      "Topic 74: [('peripheral', 0.22379), ('area', 0.17324), ('housing', 0.15666), ('task', 0.13007), ('environment', 0.12122)]\n",
      "Topic 75: [('housing', 0.24739), ('control', 0.24017), ('finger', 0.20626), ('visual', 0.17827), ('unit', 0.15167)]\n",
      "Topic 76: [('digital', 0.26426), ('card', 0.20154), ('finger', 0.19606), ('visual', 0.1866), ('component', 0.12658)]\n",
      "Topic 77: [('visual', 0.1757), ('virtual', 0.17536), ('output', 0.16807), ('inputs', 0.16746), ('request', 0.15074)]\n",
      "Topic 78: [('transaction', 0.16677), ('control', 0.15067), ('peripheral', 0.14047), ('gesture', 0.13919), ('portion', 0.13889)]\n",
      "Topic 79: [('area', 0.15393), ('scene', 0.14029), ('circuitry', 0.12977), ('frequency', 0.1295), ('transceiver', 0.12616)]\n",
      "Topic 80: [('micro', 0.21045), ('array', 0.19109), ('surface', 0.15412), ('state', 0.14206), ('search', 0.12627)]\n",
      "Topic 81: [('window', 0.27164), ('tactile', 0.16266), ('techniques', 0.12786), ('finger', 0.11418), ('command', 0.10648)]\n",
      "Topic 82: [('search', 0.17773), ('value', 0.16725), ('network', 0.15618), ('control', 0.14468), ('peripheral', 0.14378)]\n",
      "Topic 83: [('event', 0.13796), ('biometric', 0.13479), ('endpoint', 0.13451), ('source', 0.12463), ('level', 0.11773)]\n",
      "Topic 84: [('live', 0.17535), ('document', 0.1442), ('housing', 0.12655), ('communication', 0.12633), ('mobile', 0.11663)]\n",
      "Topic 85: [('component', 0.15945), ('view', 0.14814), ('task', 0.14642), ('region', 0.13452), ('live', 0.12722)]\n",
      "Topic 86: [('lens', 0.12497), ('measurement', 0.11225), ('navigation', 0.11174), ('inputs', 0.11055), ('images', 0.10777)]\n",
      "Topic 87: [('network', 0.1941), ('peripheral', 0.19299), ('scene', 0.1558), ('battery', 0.1499), ('sensing', 0.14093)]\n",
      "Topic 88: [('intent', 0.15589), ('finger', 0.13071), ('control', 0.12949), ('computer', 0.12283), ('avatar', 0.1172)]\n",
      "Topic 89: [('endpoint', 0.16553), ('source', 0.15796), ('area', 0.14942), ('document', 0.13993), ('information', 0.13686)]\n",
      "Topic 90: [('card', 0.1731), ('handwriting', 0.14517), ('presents', 0.12476), ('accordance', 0.1164), ('interfaces', 0.11413)]\n",
      "Topic 91: [('region', 0.1846), ('messaging', 0.17857), ('biometric', 0.17775), ('tactile', 0.12754), ('line', 0.10099)]\n",
      "Topic 92: [('surface', 0.18258), ('item', 0.16225), ('file', 0.15549), ('service', 0.14368), ('wearable', 0.13605)]\n",
      "Topic 93: [('window', 0.15651), ('navigation', 0.15506), ('path', 0.14885), ('measurement', 0.13796), ('substrate', 0.1283)]\n",
      "Topic 94: [('transaction', 0.28001), ('credential', 0.1879), ('scene', 0.15304), ('affordance', 0.12954), ('value', 0.12797)]\n",
      "Topic 95: [('cache', 0.15356), ('search', 0.14144), ('computer', 0.13875), ('current', 0.13656), ('devices', 0.13597)]\n",
      "Topic 96: [('optical', 0.16779), ('feature', 0.1281), ('measurement', 0.1153), ('health', 0.11446), ('handwriting', 0.10924)]\n",
      "Topic 97: [('file', 0.27019), ('component', 0.15071), ('position', 0.1375), ('control', 0.13212), ('peripheral', 0.12841)]\n",
      "Topic 98: [('handwriting', 0.22724), ('recognition', 0.13579), ('stroke', 0.12801), ('panel', 0.1226), ('frequency', 0.11208)]\n",
      "Topic 99: [('devices', 0.1391), ('level', 0.13254), ('micro', 0.12058), ('file', 0.11446), ('remote', 0.10639)]\n",
      "Topic 100: [('file', 0.19987), ('handwriting', 0.16764), ('finger', 0.14237), ('multi', 0.12131), ('service', 0.11237)]\n"
     ]
    }
   ],
   "source": [
    "terms = vectorizer.get_feature_names() # 단어 집합. 1,000개의 단어가 저장됨.\n",
    "\n",
    "def get_topics(components, feature_names, n=5):\n",
    "    for idx, topic in enumerate(components):\n",
    "        print(\"Topic %d:\" % (idx+1), [(feature_names[i], topic[i].round(5)) for i in topic.argsort()[:-n - 1:-1]])\n",
    "get_topics(svd_model.components_,terms)"
   ]
  },
  {
   "cell_type": "code",
   "execution_count": 86,
   "id": "485c03e8",
   "metadata": {},
   "outputs": [],
   "source": [
    "# Create a function\n",
    "def select_n_components(var_ratio, goal_var: float) -> int:\n",
    "    # Set initial variance explained so far\n",
    "    total_variance = 0.0\n",
    "    \n",
    "    # Set initial number of features\n",
    "    n_components = 0\n",
    "    \n",
    "    # For the explained variance of each feature:\n",
    "    for explained_variance in var_ratio:\n",
    "        \n",
    "        # Add the explained variance to the total\n",
    "        total_variance += explained_variance\n",
    "        \n",
    "        # Add one to the number of components\n",
    "        n_components += 1\n",
    "        \n",
    "        # If we reach our goal level of explained variance\n",
    "        if total_variance >= goal_var:\n",
    "            # End the loop\n",
    "            break\n",
    "            \n",
    "    # Return the number of components\n",
    "    return n_components"
   ]
  },
  {
   "cell_type": "code",
   "execution_count": null,
   "id": "45cf424d",
   "metadata": {},
   "outputs": [],
   "source": []
  }
 ],
 "metadata": {
  "kernelspec": {
   "display_name": "Python 3",
   "language": "python",
   "name": "python3"
  },
  "language_info": {
   "codemirror_mode": {
    "name": "ipython",
    "version": 3
   },
   "file_extension": ".py",
   "mimetype": "text/x-python",
   "name": "python",
   "nbconvert_exporter": "python",
   "pygments_lexer": "ipython3",
   "version": "3.8.8"
  }
 },
 "nbformat": 4,
 "nbformat_minor": 5
}
